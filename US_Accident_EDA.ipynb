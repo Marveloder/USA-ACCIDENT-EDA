{
  "nbformat": 4,
  "nbformat_minor": 0,
  "metadata": {
    "colab": {
      "name": "US Accident EDA.ipynb",
      "provenance": [],
      "collapsed_sections": [
        "MQMghOqp07h7"
      ],
      "authorship_tag": "ABX9TyMlffG3068uxuPv06JPYJu4",
      "include_colab_link": true
    },
    "kernelspec": {
      "name": "python3",
      "display_name": "Python 3"
    },
    "language_info": {
      "name": "python"
    }
  },
  "cells": [
    {
      "cell_type": "markdown",
      "metadata": {
        "id": "view-in-github",
        "colab_type": "text"
      },
      "source": [
        "<a href=\"https://colab.research.google.com/github/vivek16pawar/USA-ACCIDENT-EDA/blob/main/US_Accident_EDA.ipynb\" target=\"_parent\"><img src=\"https://colab.research.google.com/assets/colab-badge.svg\" alt=\"Open In Colab\"/></a>"
      ]
    },
    {
      "cell_type": "code",
      "execution_count": null,
      "metadata": {
        "id": "upZ5atfBRtZf"
      },
      "outputs": [],
      "source": [
        "pip install opendatasets --upgrade --quiet"
      ]
    },
    {
      "cell_type": "code",
      "source": [
        "import opendatasets as od\n",
        "import seaborn as sns"
      ],
      "metadata": {
        "id": "MqSyYRvQTTsY"
      },
      "execution_count": null,
      "outputs": []
    },
    {
      "cell_type": "code",
      "source": [
        "download_url = 'https://www.kaggle.com/sobhanmoosavi/us-accidents'\n",
        "od.download(download_url)"
      ],
      "metadata": {
        "colab": {
          "base_uri": "https://localhost:8080/"
        },
        "id": "ZdAD1tH6TkC1",
        "outputId": "d1323c0a-dca5-4402-cea0-b1006e28f455"
      },
      "execution_count": null,
      "outputs": [
        {
          "output_type": "stream",
          "name": "stdout",
          "text": [
            "Please provide your Kaggle credentials to download this dataset. Learn more: http://bit.ly/kaggle-creds\n",
            "Your Kaggle username: vivek16pawar\n",
            "Your Kaggle Key: ··········\n",
            "Downloading us-accidents.zip to ./us-accidents\n"
          ]
        },
        {
          "output_type": "stream",
          "name": "stderr",
          "text": [
            "100%|██████████| 285M/285M [00:02<00:00, 136MB/s]\n"
          ]
        },
        {
          "output_type": "stream",
          "name": "stdout",
          "text": [
            "\n"
          ]
        }
      ]
    },
    {
      "cell_type": "code",
      "source": [
        "file_path = '/content/us-accidents/US_Accidents_Dec21_updated.csv'"
      ],
      "metadata": {
        "id": "f8v_eTrNU-vM"
      },
      "execution_count": null,
      "outputs": []
    },
    {
      "cell_type": "markdown",
      "source": [
        "# Data Preparation and Cleaning\n",
        "- Load the file using Pandas\n",
        "- Look at some information about the data & the columns\n",
        "- Fix any missing or incorrect values"
      ],
      "metadata": {
        "id": "rdbiSbi8Wm3-"
      }
    },
    {
      "cell_type": "code",
      "source": [
        "import pandas as pd"
      ],
      "metadata": {
        "id": "SFrtpgUyVDh9"
      },
      "execution_count": null,
      "outputs": []
    },
    {
      "cell_type": "code",
      "source": [
        "df = pd.read_csv(file_path)"
      ],
      "metadata": {
        "id": "19feWaIRVKzO"
      },
      "execution_count": null,
      "outputs": []
    },
    {
      "cell_type": "code",
      "source": [
        "df[54:69]"
      ],
      "metadata": {
        "colab": {
          "base_uri": "https://localhost:8080/",
          "height": 1000
        },
        "id": "GzXYiOVoVWhx",
        "outputId": "423bf2e3-a73d-48f7-df07-f066f52587d5"
      },
      "execution_count": null,
      "outputs": [
        {
          "output_type": "execute_result",
          "data": {
            "text/html": [
              "\n",
              "  <div id=\"df-39c561e8-1bbb-49eb-8a64-001467a47413\">\n",
              "    <div class=\"colab-df-container\">\n",
              "      <div>\n",
              "<style scoped>\n",
              "    .dataframe tbody tr th:only-of-type {\n",
              "        vertical-align: middle;\n",
              "    }\n",
              "\n",
              "    .dataframe tbody tr th {\n",
              "        vertical-align: top;\n",
              "    }\n",
              "\n",
              "    .dataframe thead th {\n",
              "        text-align: right;\n",
              "    }\n",
              "</style>\n",
              "<table border=\"1\" class=\"dataframe\">\n",
              "  <thead>\n",
              "    <tr style=\"text-align: right;\">\n",
              "      <th></th>\n",
              "      <th>ID</th>\n",
              "      <th>Severity</th>\n",
              "      <th>Start_Time</th>\n",
              "      <th>End_Time</th>\n",
              "      <th>Start_Lat</th>\n",
              "      <th>Start_Lng</th>\n",
              "      <th>End_Lat</th>\n",
              "      <th>End_Lng</th>\n",
              "      <th>Distance(mi)</th>\n",
              "      <th>Description</th>\n",
              "      <th>...</th>\n",
              "      <th>Roundabout</th>\n",
              "      <th>Station</th>\n",
              "      <th>Stop</th>\n",
              "      <th>Traffic_Calming</th>\n",
              "      <th>Traffic_Signal</th>\n",
              "      <th>Turning_Loop</th>\n",
              "      <th>Sunrise_Sunset</th>\n",
              "      <th>Civil_Twilight</th>\n",
              "      <th>Nautical_Twilight</th>\n",
              "      <th>Astronomical_Twilight</th>\n",
              "    </tr>\n",
              "  </thead>\n",
              "  <tbody>\n",
              "    <tr>\n",
              "      <th>54</th>\n",
              "      <td>A-3166838</td>\n",
              "      <td>3</td>\n",
              "      <td>2016-02-10 08:39:16</td>\n",
              "      <td>2016-02-10 14:39:16</td>\n",
              "      <td>39.715480</td>\n",
              "      <td>-84.220330</td>\n",
              "      <td>39.717670</td>\n",
              "      <td>-84.216320</td>\n",
              "      <td>0.261</td>\n",
              "      <td>At Dryden Rd/Exit 50 - Accident.</td>\n",
              "      <td>...</td>\n",
              "      <td>False</td>\n",
              "      <td>False</td>\n",
              "      <td>False</td>\n",
              "      <td>False</td>\n",
              "      <td>False</td>\n",
              "      <td>False</td>\n",
              "      <td>Day</td>\n",
              "      <td>Day</td>\n",
              "      <td>Day</td>\n",
              "      <td>Day</td>\n",
              "    </tr>\n",
              "    <tr>\n",
              "      <th>55</th>\n",
              "      <td>A-3166839</td>\n",
              "      <td>2</td>\n",
              "      <td>2016-02-10 08:39:16</td>\n",
              "      <td>2016-02-10 14:39:16</td>\n",
              "      <td>39.750400</td>\n",
              "      <td>-84.205610</td>\n",
              "      <td>39.731670</td>\n",
              "      <td>-84.205800</td>\n",
              "      <td>1.294</td>\n",
              "      <td>Between US-35/Albany St/Exit 52 and Edwin C Mo...</td>\n",
              "      <td>...</td>\n",
              "      <td>False</td>\n",
              "      <td>False</td>\n",
              "      <td>False</td>\n",
              "      <td>False</td>\n",
              "      <td>False</td>\n",
              "      <td>False</td>\n",
              "      <td>Day</td>\n",
              "      <td>Day</td>\n",
              "      <td>Day</td>\n",
              "      <td>Day</td>\n",
              "    </tr>\n",
              "    <tr>\n",
              "      <th>56</th>\n",
              "      <td>A-3166840</td>\n",
              "      <td>2</td>\n",
              "      <td>2016-02-10 08:48:06</td>\n",
              "      <td>2016-02-10 14:48:06</td>\n",
              "      <td>41.723160</td>\n",
              "      <td>-84.964440</td>\n",
              "      <td>41.715052</td>\n",
              "      <td>-84.951306</td>\n",
              "      <td>0.879</td>\n",
              "      <td>Between James Whitcomb Riley Service Area and ...</td>\n",
              "      <td>...</td>\n",
              "      <td>False</td>\n",
              "      <td>False</td>\n",
              "      <td>False</td>\n",
              "      <td>False</td>\n",
              "      <td>False</td>\n",
              "      <td>False</td>\n",
              "      <td>Day</td>\n",
              "      <td>Day</td>\n",
              "      <td>Day</td>\n",
              "      <td>Day</td>\n",
              "    </tr>\n",
              "    <tr>\n",
              "      <th>57</th>\n",
              "      <td>A-3166841</td>\n",
              "      <td>2</td>\n",
              "      <td>2016-02-10 09:06:09</td>\n",
              "      <td>2016-02-10 15:06:09</td>\n",
              "      <td>40.043760</td>\n",
              "      <td>-82.997080</td>\n",
              "      <td>40.063760</td>\n",
              "      <td>-82.996790</td>\n",
              "      <td>1.382</td>\n",
              "      <td>Between Cooke Rd/Exit 115 and Morse Rd/Exit 11...</td>\n",
              "      <td>...</td>\n",
              "      <td>False</td>\n",
              "      <td>False</td>\n",
              "      <td>False</td>\n",
              "      <td>False</td>\n",
              "      <td>False</td>\n",
              "      <td>False</td>\n",
              "      <td>Day</td>\n",
              "      <td>Day</td>\n",
              "      <td>Day</td>\n",
              "      <td>Day</td>\n",
              "    </tr>\n",
              "    <tr>\n",
              "      <th>58</th>\n",
              "      <td>A-3166842</td>\n",
              "      <td>2</td>\n",
              "      <td>2016-02-10 09:06:09</td>\n",
              "      <td>2016-02-10 15:06:09</td>\n",
              "      <td>38.178100</td>\n",
              "      <td>-85.719460</td>\n",
              "      <td>38.181040</td>\n",
              "      <td>-85.721160</td>\n",
              "      <td>0.223</td>\n",
              "      <td>At KY-61/Grade Lane/Exit 130 - Accident.</td>\n",
              "      <td>...</td>\n",
              "      <td>False</td>\n",
              "      <td>False</td>\n",
              "      <td>False</td>\n",
              "      <td>False</td>\n",
              "      <td>False</td>\n",
              "      <td>False</td>\n",
              "      <td>Day</td>\n",
              "      <td>Day</td>\n",
              "      <td>Day</td>\n",
              "      <td>Day</td>\n",
              "    </tr>\n",
              "    <tr>\n",
              "      <th>59</th>\n",
              "      <td>A-3166843</td>\n",
              "      <td>2</td>\n",
              "      <td>2016-02-10 09:08:29</td>\n",
              "      <td>2016-02-10 15:08:29</td>\n",
              "      <td>38.185770</td>\n",
              "      <td>-85.806780</td>\n",
              "      <td>38.206480</td>\n",
              "      <td>-85.827850</td>\n",
              "      <td>1.832</td>\n",
              "      <td>Between US-31/US-60/Exit 8 and South Cane Run ...</td>\n",
              "      <td>...</td>\n",
              "      <td>False</td>\n",
              "      <td>False</td>\n",
              "      <td>False</td>\n",
              "      <td>False</td>\n",
              "      <td>False</td>\n",
              "      <td>False</td>\n",
              "      <td>Day</td>\n",
              "      <td>Day</td>\n",
              "      <td>Day</td>\n",
              "      <td>Day</td>\n",
              "    </tr>\n",
              "    <tr>\n",
              "      <th>60</th>\n",
              "      <td>A-3166844</td>\n",
              "      <td>3</td>\n",
              "      <td>2016-02-10 09:08:29</td>\n",
              "      <td>2016-02-10 15:08:29</td>\n",
              "      <td>38.271910</td>\n",
              "      <td>-85.808380</td>\n",
              "      <td>38.271910</td>\n",
              "      <td>-85.808380</td>\n",
              "      <td>0.000</td>\n",
              "      <td>At Bank St/Exit 1 - Accident.</td>\n",
              "      <td>...</td>\n",
              "      <td>False</td>\n",
              "      <td>False</td>\n",
              "      <td>False</td>\n",
              "      <td>False</td>\n",
              "      <td>False</td>\n",
              "      <td>False</td>\n",
              "      <td>Day</td>\n",
              "      <td>Day</td>\n",
              "      <td>Day</td>\n",
              "      <td>Day</td>\n",
              "    </tr>\n",
              "    <tr>\n",
              "      <th>61</th>\n",
              "      <td>A-3166845</td>\n",
              "      <td>2</td>\n",
              "      <td>2016-02-10 09:18:13</td>\n",
              "      <td>2016-02-10 15:18:13</td>\n",
              "      <td>39.923905</td>\n",
              "      <td>-82.870080</td>\n",
              "      <td>39.938440</td>\n",
              "      <td>-82.848290</td>\n",
              "      <td>1.530</td>\n",
              "      <td>At I-70/US-40/Main St/Exit 43 - Accident.</td>\n",
              "      <td>...</td>\n",
              "      <td>False</td>\n",
              "      <td>False</td>\n",
              "      <td>False</td>\n",
              "      <td>False</td>\n",
              "      <td>False</td>\n",
              "      <td>False</td>\n",
              "      <td>Day</td>\n",
              "      <td>Day</td>\n",
              "      <td>Day</td>\n",
              "      <td>Day</td>\n",
              "    </tr>\n",
              "    <tr>\n",
              "      <th>62</th>\n",
              "      <td>A-3166846</td>\n",
              "      <td>2</td>\n",
              "      <td>2016-02-10 09:34:38</td>\n",
              "      <td>2016-02-10 15:34:38</td>\n",
              "      <td>41.035566</td>\n",
              "      <td>-81.569917</td>\n",
              "      <td>41.036015</td>\n",
              "      <td>-81.579895</td>\n",
              "      <td>0.521</td>\n",
              "      <td>At OH-619/Wooster Rd/Exit 17 - Accident.</td>\n",
              "      <td>...</td>\n",
              "      <td>False</td>\n",
              "      <td>False</td>\n",
              "      <td>False</td>\n",
              "      <td>False</td>\n",
              "      <td>False</td>\n",
              "      <td>False</td>\n",
              "      <td>Day</td>\n",
              "      <td>Day</td>\n",
              "      <td>Day</td>\n",
              "      <td>Day</td>\n",
              "    </tr>\n",
              "    <tr>\n",
              "      <th>63</th>\n",
              "      <td>A-3166847</td>\n",
              "      <td>3</td>\n",
              "      <td>2016-02-10 10:18:13</td>\n",
              "      <td>2016-02-10 16:18:13</td>\n",
              "      <td>39.923900</td>\n",
              "      <td>-83.687670</td>\n",
              "      <td>39.932710</td>\n",
              "      <td>-83.611970</td>\n",
              "      <td>4.057</td>\n",
              "      <td>Between US-40/Exit 62 and OH-54/Exit 66 - Acci...</td>\n",
              "      <td>...</td>\n",
              "      <td>False</td>\n",
              "      <td>False</td>\n",
              "      <td>False</td>\n",
              "      <td>False</td>\n",
              "      <td>False</td>\n",
              "      <td>False</td>\n",
              "      <td>Day</td>\n",
              "      <td>Day</td>\n",
              "      <td>Day</td>\n",
              "      <td>Day</td>\n",
              "    </tr>\n",
              "    <tr>\n",
              "      <th>64</th>\n",
              "      <td>A-3166848</td>\n",
              "      <td>2</td>\n",
              "      <td>2016-02-10 10:21:52</td>\n",
              "      <td>2016-02-10 16:21:52</td>\n",
              "      <td>41.851914</td>\n",
              "      <td>-80.175232</td>\n",
              "      <td>41.858231</td>\n",
              "      <td>-80.176444</td>\n",
              "      <td>0.441</td>\n",
              "      <td>At US-6/Exit 166 - Accident.</td>\n",
              "      <td>...</td>\n",
              "      <td>False</td>\n",
              "      <td>False</td>\n",
              "      <td>False</td>\n",
              "      <td>False</td>\n",
              "      <td>False</td>\n",
              "      <td>False</td>\n",
              "      <td>Day</td>\n",
              "      <td>Day</td>\n",
              "      <td>Day</td>\n",
              "      <td>Day</td>\n",
              "    </tr>\n",
              "    <tr>\n",
              "      <th>65</th>\n",
              "      <td>A-3166849</td>\n",
              "      <td>2</td>\n",
              "      <td>2016-02-10 10:47:49</td>\n",
              "      <td>2016-02-10 16:47:49</td>\n",
              "      <td>39.938490</td>\n",
              "      <td>-82.848490</td>\n",
              "      <td>39.899230</td>\n",
              "      <td>-82.901350</td>\n",
              "      <td>3.899</td>\n",
              "      <td>Between I-70/US-40/Main St/Exit 43 and US-33/E...</td>\n",
              "      <td>...</td>\n",
              "      <td>False</td>\n",
              "      <td>False</td>\n",
              "      <td>False</td>\n",
              "      <td>False</td>\n",
              "      <td>False</td>\n",
              "      <td>False</td>\n",
              "      <td>Day</td>\n",
              "      <td>Day</td>\n",
              "      <td>Day</td>\n",
              "      <td>Day</td>\n",
              "    </tr>\n",
              "    <tr>\n",
              "      <th>66</th>\n",
              "      <td>A-3166850</td>\n",
              "      <td>2</td>\n",
              "      <td>2016-02-10 11:09:08</td>\n",
              "      <td>2016-02-10 17:09:08</td>\n",
              "      <td>38.969430</td>\n",
              "      <td>-80.109600</td>\n",
              "      <td>39.002630</td>\n",
              "      <td>-80.226470</td>\n",
              "      <td>6.683</td>\n",
              "      <td>At Talbott Rd - Accident.</td>\n",
              "      <td>...</td>\n",
              "      <td>False</td>\n",
              "      <td>False</td>\n",
              "      <td>False</td>\n",
              "      <td>False</td>\n",
              "      <td>False</td>\n",
              "      <td>False</td>\n",
              "      <td>Day</td>\n",
              "      <td>Day</td>\n",
              "      <td>Day</td>\n",
              "      <td>Day</td>\n",
              "    </tr>\n",
              "    <tr>\n",
              "      <th>67</th>\n",
              "      <td>A-3166851</td>\n",
              "      <td>2</td>\n",
              "      <td>2016-02-10 11:09:08</td>\n",
              "      <td>2016-02-10 17:09:08</td>\n",
              "      <td>39.002480</td>\n",
              "      <td>-80.226240</td>\n",
              "      <td>38.969110</td>\n",
              "      <td>-80.110720</td>\n",
              "      <td>6.619</td>\n",
              "      <td>At Talbott Rd - Accident.</td>\n",
              "      <td>...</td>\n",
              "      <td>False</td>\n",
              "      <td>False</td>\n",
              "      <td>False</td>\n",
              "      <td>False</td>\n",
              "      <td>False</td>\n",
              "      <td>False</td>\n",
              "      <td>Day</td>\n",
              "      <td>Day</td>\n",
              "      <td>Day</td>\n",
              "      <td>Day</td>\n",
              "    </tr>\n",
              "    <tr>\n",
              "      <th>68</th>\n",
              "      <td>A-3166852</td>\n",
              "      <td>2</td>\n",
              "      <td>2016-02-10 11:55:16</td>\n",
              "      <td>2016-02-10 17:55:16</td>\n",
              "      <td>41.668050</td>\n",
              "      <td>-83.570630</td>\n",
              "      <td>41.665530</td>\n",
              "      <td>-83.565320</td>\n",
              "      <td>0.325</td>\n",
              "      <td>At US-24/Detroit Ave/Exit 203 - Accident.</td>\n",
              "      <td>...</td>\n",
              "      <td>False</td>\n",
              "      <td>False</td>\n",
              "      <td>False</td>\n",
              "      <td>False</td>\n",
              "      <td>False</td>\n",
              "      <td>False</td>\n",
              "      <td>Day</td>\n",
              "      <td>Day</td>\n",
              "      <td>Day</td>\n",
              "      <td>Day</td>\n",
              "    </tr>\n",
              "  </tbody>\n",
              "</table>\n",
              "<p>15 rows × 47 columns</p>\n",
              "</div>\n",
              "      <button class=\"colab-df-convert\" onclick=\"convertToInteractive('df-39c561e8-1bbb-49eb-8a64-001467a47413')\"\n",
              "              title=\"Convert this dataframe to an interactive table.\"\n",
              "              style=\"display:none;\">\n",
              "        \n",
              "  <svg xmlns=\"http://www.w3.org/2000/svg\" height=\"24px\"viewBox=\"0 0 24 24\"\n",
              "       width=\"24px\">\n",
              "    <path d=\"M0 0h24v24H0V0z\" fill=\"none\"/>\n",
              "    <path d=\"M18.56 5.44l.94 2.06.94-2.06 2.06-.94-2.06-.94-.94-2.06-.94 2.06-2.06.94zm-11 1L8.5 8.5l.94-2.06 2.06-.94-2.06-.94L8.5 2.5l-.94 2.06-2.06.94zm10 10l.94 2.06.94-2.06 2.06-.94-2.06-.94-.94-2.06-.94 2.06-2.06.94z\"/><path d=\"M17.41 7.96l-1.37-1.37c-.4-.4-.92-.59-1.43-.59-.52 0-1.04.2-1.43.59L10.3 9.45l-7.72 7.72c-.78.78-.78 2.05 0 2.83L4 21.41c.39.39.9.59 1.41.59.51 0 1.02-.2 1.41-.59l7.78-7.78 2.81-2.81c.8-.78.8-2.07 0-2.86zM5.41 20L4 18.59l7.72-7.72 1.47 1.35L5.41 20z\"/>\n",
              "  </svg>\n",
              "      </button>\n",
              "      \n",
              "  <style>\n",
              "    .colab-df-container {\n",
              "      display:flex;\n",
              "      flex-wrap:wrap;\n",
              "      gap: 12px;\n",
              "    }\n",
              "\n",
              "    .colab-df-convert {\n",
              "      background-color: #E8F0FE;\n",
              "      border: none;\n",
              "      border-radius: 50%;\n",
              "      cursor: pointer;\n",
              "      display: none;\n",
              "      fill: #1967D2;\n",
              "      height: 32px;\n",
              "      padding: 0 0 0 0;\n",
              "      width: 32px;\n",
              "    }\n",
              "\n",
              "    .colab-df-convert:hover {\n",
              "      background-color: #E2EBFA;\n",
              "      box-shadow: 0px 1px 2px rgba(60, 64, 67, 0.3), 0px 1px 3px 1px rgba(60, 64, 67, 0.15);\n",
              "      fill: #174EA6;\n",
              "    }\n",
              "\n",
              "    [theme=dark] .colab-df-convert {\n",
              "      background-color: #3B4455;\n",
              "      fill: #D2E3FC;\n",
              "    }\n",
              "\n",
              "    [theme=dark] .colab-df-convert:hover {\n",
              "      background-color: #434B5C;\n",
              "      box-shadow: 0px 1px 3px 1px rgba(0, 0, 0, 0.15);\n",
              "      filter: drop-shadow(0px 1px 2px rgba(0, 0, 0, 0.3));\n",
              "      fill: #FFFFFF;\n",
              "    }\n",
              "  </style>\n",
              "\n",
              "      <script>\n",
              "        const buttonEl =\n",
              "          document.querySelector('#df-39c561e8-1bbb-49eb-8a64-001467a47413 button.colab-df-convert');\n",
              "        buttonEl.style.display =\n",
              "          google.colab.kernel.accessAllowed ? 'block' : 'none';\n",
              "\n",
              "        async function convertToInteractive(key) {\n",
              "          const element = document.querySelector('#df-39c561e8-1bbb-49eb-8a64-001467a47413');\n",
              "          const dataTable =\n",
              "            await google.colab.kernel.invokeFunction('convertToInteractive',\n",
              "                                                     [key], {});\n",
              "          if (!dataTable) return;\n",
              "\n",
              "          const docLinkHtml = 'Like what you see? Visit the ' +\n",
              "            '<a target=\"_blank\" href=https://colab.research.google.com/notebooks/data_table.ipynb>data table notebook</a>'\n",
              "            + ' to learn more about interactive tables.';\n",
              "          element.innerHTML = '';\n",
              "          dataTable['output_type'] = 'display_data';\n",
              "          await google.colab.output.renderOutput(dataTable, element);\n",
              "          const docLink = document.createElement('div');\n",
              "          docLink.innerHTML = docLinkHtml;\n",
              "          element.appendChild(docLink);\n",
              "        }\n",
              "      </script>\n",
              "    </div>\n",
              "  </div>\n",
              "  "
            ],
            "text/plain": [
              "           ID  Severity           Start_Time             End_Time  Start_Lat  \\\n",
              "54  A-3166838         3  2016-02-10 08:39:16  2016-02-10 14:39:16  39.715480   \n",
              "55  A-3166839         2  2016-02-10 08:39:16  2016-02-10 14:39:16  39.750400   \n",
              "56  A-3166840         2  2016-02-10 08:48:06  2016-02-10 14:48:06  41.723160   \n",
              "57  A-3166841         2  2016-02-10 09:06:09  2016-02-10 15:06:09  40.043760   \n",
              "58  A-3166842         2  2016-02-10 09:06:09  2016-02-10 15:06:09  38.178100   \n",
              "59  A-3166843         2  2016-02-10 09:08:29  2016-02-10 15:08:29  38.185770   \n",
              "60  A-3166844         3  2016-02-10 09:08:29  2016-02-10 15:08:29  38.271910   \n",
              "61  A-3166845         2  2016-02-10 09:18:13  2016-02-10 15:18:13  39.923905   \n",
              "62  A-3166846         2  2016-02-10 09:34:38  2016-02-10 15:34:38  41.035566   \n",
              "63  A-3166847         3  2016-02-10 10:18:13  2016-02-10 16:18:13  39.923900   \n",
              "64  A-3166848         2  2016-02-10 10:21:52  2016-02-10 16:21:52  41.851914   \n",
              "65  A-3166849         2  2016-02-10 10:47:49  2016-02-10 16:47:49  39.938490   \n",
              "66  A-3166850         2  2016-02-10 11:09:08  2016-02-10 17:09:08  38.969430   \n",
              "67  A-3166851         2  2016-02-10 11:09:08  2016-02-10 17:09:08  39.002480   \n",
              "68  A-3166852         2  2016-02-10 11:55:16  2016-02-10 17:55:16  41.668050   \n",
              "\n",
              "    Start_Lng    End_Lat    End_Lng  Distance(mi)  \\\n",
              "54 -84.220330  39.717670 -84.216320         0.261   \n",
              "55 -84.205610  39.731670 -84.205800         1.294   \n",
              "56 -84.964440  41.715052 -84.951306         0.879   \n",
              "57 -82.997080  40.063760 -82.996790         1.382   \n",
              "58 -85.719460  38.181040 -85.721160         0.223   \n",
              "59 -85.806780  38.206480 -85.827850         1.832   \n",
              "60 -85.808380  38.271910 -85.808380         0.000   \n",
              "61 -82.870080  39.938440 -82.848290         1.530   \n",
              "62 -81.569917  41.036015 -81.579895         0.521   \n",
              "63 -83.687670  39.932710 -83.611970         4.057   \n",
              "64 -80.175232  41.858231 -80.176444         0.441   \n",
              "65 -82.848490  39.899230 -82.901350         3.899   \n",
              "66 -80.109600  39.002630 -80.226470         6.683   \n",
              "67 -80.226240  38.969110 -80.110720         6.619   \n",
              "68 -83.570630  41.665530 -83.565320         0.325   \n",
              "\n",
              "                                          Description  ...  Roundabout  \\\n",
              "54                   At Dryden Rd/Exit 50 - Accident.  ...       False   \n",
              "55  Between US-35/Albany St/Exit 52 and Edwin C Mo...  ...       False   \n",
              "56  Between James Whitcomb Riley Service Area and ...  ...       False   \n",
              "57  Between Cooke Rd/Exit 115 and Morse Rd/Exit 11...  ...       False   \n",
              "58           At KY-61/Grade Lane/Exit 130 - Accident.  ...       False   \n",
              "59  Between US-31/US-60/Exit 8 and South Cane Run ...  ...       False   \n",
              "60                      At Bank St/Exit 1 - Accident.  ...       False   \n",
              "61          At I-70/US-40/Main St/Exit 43 - Accident.  ...       False   \n",
              "62           At OH-619/Wooster Rd/Exit 17 - Accident.  ...       False   \n",
              "63  Between US-40/Exit 62 and OH-54/Exit 66 - Acci...  ...       False   \n",
              "64                       At US-6/Exit 166 - Accident.  ...       False   \n",
              "65  Between I-70/US-40/Main St/Exit 43 and US-33/E...  ...       False   \n",
              "66                          At Talbott Rd - Accident.  ...       False   \n",
              "67                          At Talbott Rd - Accident.  ...       False   \n",
              "68          At US-24/Detroit Ave/Exit 203 - Accident.  ...       False   \n",
              "\n",
              "   Station   Stop Traffic_Calming Traffic_Signal Turning_Loop Sunrise_Sunset  \\\n",
              "54   False  False           False          False        False            Day   \n",
              "55   False  False           False          False        False            Day   \n",
              "56   False  False           False          False        False            Day   \n",
              "57   False  False           False          False        False            Day   \n",
              "58   False  False           False          False        False            Day   \n",
              "59   False  False           False          False        False            Day   \n",
              "60   False  False           False          False        False            Day   \n",
              "61   False  False           False          False        False            Day   \n",
              "62   False  False           False          False        False            Day   \n",
              "63   False  False           False          False        False            Day   \n",
              "64   False  False           False          False        False            Day   \n",
              "65   False  False           False          False        False            Day   \n",
              "66   False  False           False          False        False            Day   \n",
              "67   False  False           False          False        False            Day   \n",
              "68   False  False           False          False        False            Day   \n",
              "\n",
              "   Civil_Twilight Nautical_Twilight Astronomical_Twilight  \n",
              "54            Day               Day                   Day  \n",
              "55            Day               Day                   Day  \n",
              "56            Day               Day                   Day  \n",
              "57            Day               Day                   Day  \n",
              "58            Day               Day                   Day  \n",
              "59            Day               Day                   Day  \n",
              "60            Day               Day                   Day  \n",
              "61            Day               Day                   Day  \n",
              "62            Day               Day                   Day  \n",
              "63            Day               Day                   Day  \n",
              "64            Day               Day                   Day  \n",
              "65            Day               Day                   Day  \n",
              "66            Day               Day                   Day  \n",
              "67            Day               Day                   Day  \n",
              "68            Day               Day                   Day  \n",
              "\n",
              "[15 rows x 47 columns]"
            ]
          },
          "metadata": {},
          "execution_count": 7
        }
      ]
    },
    {
      "cell_type": "code",
      "source": [
        "df.info()"
      ],
      "metadata": {
        "colab": {
          "base_uri": "https://localhost:8080/"
        },
        "id": "6ftGP9C0WvpE",
        "outputId": "307db44a-6ac5-4de9-ee45-69682d0a52da"
      },
      "execution_count": null,
      "outputs": [
        {
          "output_type": "stream",
          "name": "stdout",
          "text": [
            "<class 'pandas.core.frame.DataFrame'>\n",
            "RangeIndex: 3015853 entries, 0 to 3015852\n",
            "Data columns (total 47 columns):\n",
            " #   Column                 Dtype  \n",
            "---  ------                 -----  \n",
            " 0   ID                     object \n",
            " 1   Severity               int64  \n",
            " 2   Start_Time             object \n",
            " 3   End_Time               object \n",
            " 4   Start_Lat              float64\n",
            " 5   Start_Lng              float64\n",
            " 6   End_Lat                float64\n",
            " 7   End_Lng                float64\n",
            " 8   Distance(mi)           float64\n",
            " 9   Description            object \n",
            " 10  Number                 float64\n",
            " 11  Street                 object \n",
            " 12  Side                   object \n",
            " 13  City                   object \n",
            " 14  County                 object \n",
            " 15  State                  object \n",
            " 16  Zipcode                object \n",
            " 17  Country                object \n",
            " 18  Timezone               object \n",
            " 19  Airport_Code           object \n",
            " 20  Weather_Timestamp      object \n",
            " 21  Temperature(F)         float64\n",
            " 22  Wind_Chill(F)          float64\n",
            " 23  Humidity(%)            float64\n",
            " 24  Pressure(in)           float64\n",
            " 25  Visibility(mi)         float64\n",
            " 26  Wind_Direction         object \n",
            " 27  Wind_Speed(mph)        float64\n",
            " 28  Precipitation(in)      float64\n",
            " 29  Weather_Condition      object \n",
            " 30  Amenity                bool   \n",
            " 31  Bump                   bool   \n",
            " 32  Crossing               bool   \n",
            " 33  Give_Way               bool   \n",
            " 34  Junction               bool   \n",
            " 35  No_Exit                bool   \n",
            " 36  Railway                bool   \n",
            " 37  Roundabout             bool   \n",
            " 38  Station                bool   \n",
            " 39  Stop                   bool   \n",
            " 40  Traffic_Calming        bool   \n",
            " 41  Traffic_Signal         bool   \n",
            " 42  Turning_Loop           bool   \n",
            " 43  Sunrise_Sunset         object \n",
            " 44  Civil_Twilight         object \n",
            " 45  Nautical_Twilight      object \n",
            " 46  Astronomical_Twilight  object \n",
            "dtypes: bool(13), float64(13), int64(1), object(20)\n",
            "memory usage: 819.7+ MB\n"
          ]
        }
      ]
    },
    {
      "cell_type": "code",
      "source": [
        "df.describe()"
      ],
      "metadata": {
        "colab": {
          "base_uri": "https://localhost:8080/",
          "height": 364
        },
        "id": "sINHfgPMXlHC",
        "outputId": "df01225b-f76b-4fb2-ea18-bb1e1b9d2247"
      },
      "execution_count": null,
      "outputs": [
        {
          "output_type": "execute_result",
          "data": {
            "text/html": [
              "\n",
              "  <div id=\"df-40274348-1d3c-40ed-8cc4-ca6d6b132399\">\n",
              "    <div class=\"colab-df-container\">\n",
              "      <div>\n",
              "<style scoped>\n",
              "    .dataframe tbody tr th:only-of-type {\n",
              "        vertical-align: middle;\n",
              "    }\n",
              "\n",
              "    .dataframe tbody tr th {\n",
              "        vertical-align: top;\n",
              "    }\n",
              "\n",
              "    .dataframe thead th {\n",
              "        text-align: right;\n",
              "    }\n",
              "</style>\n",
              "<table border=\"1\" class=\"dataframe\">\n",
              "  <thead>\n",
              "    <tr style=\"text-align: right;\">\n",
              "      <th></th>\n",
              "      <th>Severity</th>\n",
              "      <th>Start_Lat</th>\n",
              "      <th>Start_Lng</th>\n",
              "      <th>End_Lat</th>\n",
              "      <th>End_Lng</th>\n",
              "      <th>Distance(mi)</th>\n",
              "      <th>Number</th>\n",
              "      <th>Temperature(F)</th>\n",
              "      <th>Wind_Chill(F)</th>\n",
              "      <th>Humidity(%)</th>\n",
              "      <th>Pressure(in)</th>\n",
              "      <th>Visibility(mi)</th>\n",
              "      <th>Wind_Speed(mph)</th>\n",
              "      <th>Precipitation(in)</th>\n",
              "    </tr>\n",
              "  </thead>\n",
              "  <tbody>\n",
              "    <tr>\n",
              "      <th>count</th>\n",
              "      <td>3.015853e+06</td>\n",
              "      <td>3.015853e+06</td>\n",
              "      <td>3.015853e+06</td>\n",
              "      <td>3.015853e+06</td>\n",
              "      <td>3.015853e+06</td>\n",
              "      <td>3.015853e+06</td>\n",
              "      <td>1.174732e+06</td>\n",
              "      <td>2.941347e+06</td>\n",
              "      <td>2.524905e+06</td>\n",
              "      <td>2.937191e+06</td>\n",
              "      <td>2.952023e+06</td>\n",
              "      <td>2.939850e+06</td>\n",
              "      <td>2.849124e+06</td>\n",
              "      <td>2.442304e+06</td>\n",
              "    </tr>\n",
              "    <tr>\n",
              "      <th>mean</th>\n",
              "      <td>2.140779e+00</td>\n",
              "      <td>3.628466e+01</td>\n",
              "      <td>-9.683807e+01</td>\n",
              "      <td>3.628478e+01</td>\n",
              "      <td>-9.683782e+01</td>\n",
              "      <td>7.082974e-01</td>\n",
              "      <td>8.042575e+03</td>\n",
              "      <td>6.155521e+01</td>\n",
              "      <td>5.936960e+01</td>\n",
              "      <td>6.451032e+01</td>\n",
              "      <td>2.946402e+01</td>\n",
              "      <td>9.090539e+00</td>\n",
              "      <td>7.375893e+00</td>\n",
              "      <td>6.928912e-03</td>\n",
              "    </tr>\n",
              "    <tr>\n",
              "      <th>std</th>\n",
              "      <td>4.861732e-01</td>\n",
              "      <td>5.355838e+00</td>\n",
              "      <td>1.829096e+01</td>\n",
              "      <td>5.355914e+00</td>\n",
              "      <td>1.829076e+01</td>\n",
              "      <td>1.584728e+00</td>\n",
              "      <td>1.817221e+04</td>\n",
              "      <td>1.867439e+01</td>\n",
              "      <td>2.121067e+01</td>\n",
              "      <td>2.288266e+01</td>\n",
              "      <td>1.055155e+00</td>\n",
              "      <td>2.722835e+00</td>\n",
              "      <td>5.527790e+00</td>\n",
              "      <td>9.176873e-02</td>\n",
              "    </tr>\n",
              "    <tr>\n",
              "      <th>min</th>\n",
              "      <td>1.000000e+00</td>\n",
              "      <td>2.456603e+01</td>\n",
              "      <td>-1.245481e+02</td>\n",
              "      <td>2.456601e+01</td>\n",
              "      <td>-1.245457e+02</td>\n",
              "      <td>0.000000e+00</td>\n",
              "      <td>0.000000e+00</td>\n",
              "      <td>-8.900000e+01</td>\n",
              "      <td>-8.900000e+01</td>\n",
              "      <td>1.000000e+00</td>\n",
              "      <td>0.000000e+00</td>\n",
              "      <td>0.000000e+00</td>\n",
              "      <td>0.000000e+00</td>\n",
              "      <td>0.000000e+00</td>\n",
              "    </tr>\n",
              "    <tr>\n",
              "      <th>25%</th>\n",
              "      <td>2.000000e+00</td>\n",
              "      <td>3.346218e+01</td>\n",
              "      <td>-1.179876e+02</td>\n",
              "      <td>3.346220e+01</td>\n",
              "      <td>-1.179882e+02</td>\n",
              "      <td>5.100000e-02</td>\n",
              "      <td>1.242000e+03</td>\n",
              "      <td>4.900000e+01</td>\n",
              "      <td>4.600000e+01</td>\n",
              "      <td>4.800000e+01</td>\n",
              "      <td>2.930000e+01</td>\n",
              "      <td>1.000000e+01</td>\n",
              "      <td>3.500000e+00</td>\n",
              "      <td>0.000000e+00</td>\n",
              "    </tr>\n",
              "    <tr>\n",
              "      <th>50%</th>\n",
              "      <td>2.000000e+00</td>\n",
              "      <td>3.614557e+01</td>\n",
              "      <td>-9.116184e+01</td>\n",
              "      <td>3.614717e+01</td>\n",
              "      <td>-9.116125e+01</td>\n",
              "      <td>2.430000e-01</td>\n",
              "      <td>3.998000e+03</td>\n",
              "      <td>6.300000e+01</td>\n",
              "      <td>6.300000e+01</td>\n",
              "      <td>6.700000e+01</td>\n",
              "      <td>2.982000e+01</td>\n",
              "      <td>1.000000e+01</td>\n",
              "      <td>7.000000e+00</td>\n",
              "      <td>0.000000e+00</td>\n",
              "    </tr>\n",
              "    <tr>\n",
              "      <th>75%</th>\n",
              "      <td>2.000000e+00</td>\n",
              "      <td>4.020040e+01</td>\n",
              "      <td>-8.034694e+01</td>\n",
              "      <td>4.020168e+01</td>\n",
              "      <td>-8.034852e+01</td>\n",
              "      <td>7.710000e-01</td>\n",
              "      <td>9.500000e+03</td>\n",
              "      <td>7.600000e+01</td>\n",
              "      <td>7.500000e+01</td>\n",
              "      <td>8.400000e+01</td>\n",
              "      <td>3.001000e+01</td>\n",
              "      <td>1.000000e+01</td>\n",
              "      <td>1.000000e+01</td>\n",
              "      <td>0.000000e+00</td>\n",
              "    </tr>\n",
              "    <tr>\n",
              "      <th>max</th>\n",
              "      <td>4.000000e+00</td>\n",
              "      <td>4.900058e+01</td>\n",
              "      <td>-6.711317e+01</td>\n",
              "      <td>4.907500e+01</td>\n",
              "      <td>-6.710924e+01</td>\n",
              "      <td>1.551860e+02</td>\n",
              "      <td>9.999997e+06</td>\n",
              "      <td>1.960000e+02</td>\n",
              "      <td>1.960000e+02</td>\n",
              "      <td>1.000000e+02</td>\n",
              "      <td>5.890000e+01</td>\n",
              "      <td>1.400000e+02</td>\n",
              "      <td>1.087000e+03</td>\n",
              "      <td>2.400000e+01</td>\n",
              "    </tr>\n",
              "  </tbody>\n",
              "</table>\n",
              "</div>\n",
              "      <button class=\"colab-df-convert\" onclick=\"convertToInteractive('df-40274348-1d3c-40ed-8cc4-ca6d6b132399')\"\n",
              "              title=\"Convert this dataframe to an interactive table.\"\n",
              "              style=\"display:none;\">\n",
              "        \n",
              "  <svg xmlns=\"http://www.w3.org/2000/svg\" height=\"24px\"viewBox=\"0 0 24 24\"\n",
              "       width=\"24px\">\n",
              "    <path d=\"M0 0h24v24H0V0z\" fill=\"none\"/>\n",
              "    <path d=\"M18.56 5.44l.94 2.06.94-2.06 2.06-.94-2.06-.94-.94-2.06-.94 2.06-2.06.94zm-11 1L8.5 8.5l.94-2.06 2.06-.94-2.06-.94L8.5 2.5l-.94 2.06-2.06.94zm10 10l.94 2.06.94-2.06 2.06-.94-2.06-.94-.94-2.06-.94 2.06-2.06.94z\"/><path d=\"M17.41 7.96l-1.37-1.37c-.4-.4-.92-.59-1.43-.59-.52 0-1.04.2-1.43.59L10.3 9.45l-7.72 7.72c-.78.78-.78 2.05 0 2.83L4 21.41c.39.39.9.59 1.41.59.51 0 1.02-.2 1.41-.59l7.78-7.78 2.81-2.81c.8-.78.8-2.07 0-2.86zM5.41 20L4 18.59l7.72-7.72 1.47 1.35L5.41 20z\"/>\n",
              "  </svg>\n",
              "      </button>\n",
              "      \n",
              "  <style>\n",
              "    .colab-df-container {\n",
              "      display:flex;\n",
              "      flex-wrap:wrap;\n",
              "      gap: 12px;\n",
              "    }\n",
              "\n",
              "    .colab-df-convert {\n",
              "      background-color: #E8F0FE;\n",
              "      border: none;\n",
              "      border-radius: 50%;\n",
              "      cursor: pointer;\n",
              "      display: none;\n",
              "      fill: #1967D2;\n",
              "      height: 32px;\n",
              "      padding: 0 0 0 0;\n",
              "      width: 32px;\n",
              "    }\n",
              "\n",
              "    .colab-df-convert:hover {\n",
              "      background-color: #E2EBFA;\n",
              "      box-shadow: 0px 1px 2px rgba(60, 64, 67, 0.3), 0px 1px 3px 1px rgba(60, 64, 67, 0.15);\n",
              "      fill: #174EA6;\n",
              "    }\n",
              "\n",
              "    [theme=dark] .colab-df-convert {\n",
              "      background-color: #3B4455;\n",
              "      fill: #D2E3FC;\n",
              "    }\n",
              "\n",
              "    [theme=dark] .colab-df-convert:hover {\n",
              "      background-color: #434B5C;\n",
              "      box-shadow: 0px 1px 3px 1px rgba(0, 0, 0, 0.15);\n",
              "      filter: drop-shadow(0px 1px 2px rgba(0, 0, 0, 0.3));\n",
              "      fill: #FFFFFF;\n",
              "    }\n",
              "  </style>\n",
              "\n",
              "      <script>\n",
              "        const buttonEl =\n",
              "          document.querySelector('#df-40274348-1d3c-40ed-8cc4-ca6d6b132399 button.colab-df-convert');\n",
              "        buttonEl.style.display =\n",
              "          google.colab.kernel.accessAllowed ? 'block' : 'none';\n",
              "\n",
              "        async function convertToInteractive(key) {\n",
              "          const element = document.querySelector('#df-40274348-1d3c-40ed-8cc4-ca6d6b132399');\n",
              "          const dataTable =\n",
              "            await google.colab.kernel.invokeFunction('convertToInteractive',\n",
              "                                                     [key], {});\n",
              "          if (!dataTable) return;\n",
              "\n",
              "          const docLinkHtml = 'Like what you see? Visit the ' +\n",
              "            '<a target=\"_blank\" href=https://colab.research.google.com/notebooks/data_table.ipynb>data table notebook</a>'\n",
              "            + ' to learn more about interactive tables.';\n",
              "          element.innerHTML = '';\n",
              "          dataTable['output_type'] = 'display_data';\n",
              "          await google.colab.output.renderOutput(dataTable, element);\n",
              "          const docLink = document.createElement('div');\n",
              "          docLink.innerHTML = docLinkHtml;\n",
              "          element.appendChild(docLink);\n",
              "        }\n",
              "      </script>\n",
              "    </div>\n",
              "  </div>\n",
              "  "
            ],
            "text/plain": [
              "           Severity     Start_Lat     Start_Lng       End_Lat       End_Lng  \\\n",
              "count  3.015853e+06  3.015853e+06  3.015853e+06  3.015853e+06  3.015853e+06   \n",
              "mean   2.140779e+00  3.628466e+01 -9.683807e+01  3.628478e+01 -9.683782e+01   \n",
              "std    4.861732e-01  5.355838e+00  1.829096e+01  5.355914e+00  1.829076e+01   \n",
              "min    1.000000e+00  2.456603e+01 -1.245481e+02  2.456601e+01 -1.245457e+02   \n",
              "25%    2.000000e+00  3.346218e+01 -1.179876e+02  3.346220e+01 -1.179882e+02   \n",
              "50%    2.000000e+00  3.614557e+01 -9.116184e+01  3.614717e+01 -9.116125e+01   \n",
              "75%    2.000000e+00  4.020040e+01 -8.034694e+01  4.020168e+01 -8.034852e+01   \n",
              "max    4.000000e+00  4.900058e+01 -6.711317e+01  4.907500e+01 -6.710924e+01   \n",
              "\n",
              "       Distance(mi)        Number  Temperature(F)  Wind_Chill(F)  \\\n",
              "count  3.015853e+06  1.174732e+06    2.941347e+06   2.524905e+06   \n",
              "mean   7.082974e-01  8.042575e+03    6.155521e+01   5.936960e+01   \n",
              "std    1.584728e+00  1.817221e+04    1.867439e+01   2.121067e+01   \n",
              "min    0.000000e+00  0.000000e+00   -8.900000e+01  -8.900000e+01   \n",
              "25%    5.100000e-02  1.242000e+03    4.900000e+01   4.600000e+01   \n",
              "50%    2.430000e-01  3.998000e+03    6.300000e+01   6.300000e+01   \n",
              "75%    7.710000e-01  9.500000e+03    7.600000e+01   7.500000e+01   \n",
              "max    1.551860e+02  9.999997e+06    1.960000e+02   1.960000e+02   \n",
              "\n",
              "        Humidity(%)  Pressure(in)  Visibility(mi)  Wind_Speed(mph)  \\\n",
              "count  2.937191e+06  2.952023e+06    2.939850e+06     2.849124e+06   \n",
              "mean   6.451032e+01  2.946402e+01    9.090539e+00     7.375893e+00   \n",
              "std    2.288266e+01  1.055155e+00    2.722835e+00     5.527790e+00   \n",
              "min    1.000000e+00  0.000000e+00    0.000000e+00     0.000000e+00   \n",
              "25%    4.800000e+01  2.930000e+01    1.000000e+01     3.500000e+00   \n",
              "50%    6.700000e+01  2.982000e+01    1.000000e+01     7.000000e+00   \n",
              "75%    8.400000e+01  3.001000e+01    1.000000e+01     1.000000e+01   \n",
              "max    1.000000e+02  5.890000e+01    1.400000e+02     1.087000e+03   \n",
              "\n",
              "       Precipitation(in)  \n",
              "count       2.442304e+06  \n",
              "mean        6.928912e-03  \n",
              "std         9.176873e-02  \n",
              "min         0.000000e+00  \n",
              "25%         0.000000e+00  \n",
              "50%         0.000000e+00  \n",
              "75%         0.000000e+00  \n",
              "max         2.400000e+01  "
            ]
          },
          "metadata": {},
          "execution_count": 9
        }
      ]
    },
    {
      "cell_type": "code",
      "source": [
        "numerics = ['int16', 'int32', 'int64', 'float16', 'float32', 'float64']\n",
        "numerics_df = df.select_dtypes(include=numerics)\n",
        "len(numerics_df.columns)"
      ],
      "metadata": {
        "colab": {
          "base_uri": "https://localhost:8080/"
        },
        "id": "SQCSADW1XqtQ",
        "outputId": "dad48762-9386-47c4-b742-5fd680065165"
      },
      "execution_count": null,
      "outputs": [
        {
          "output_type": "execute_result",
          "data": {
            "text/plain": [
              "14"
            ]
          },
          "metadata": {},
          "execution_count": 10
        }
      ]
    },
    {
      "cell_type": "code",
      "source": [
        "missing_perc = df.isna().sum().sort_values(ascending=False)/len(df)\n",
        "missing_perc"
      ],
      "metadata": {
        "colab": {
          "base_uri": "https://localhost:8080/"
        },
        "id": "eiYSRrv-XlDO",
        "outputId": "e5f8e804-65fb-46cc-8d55-98d557fe8476"
      },
      "execution_count": null,
      "outputs": [
        {
          "output_type": "execute_result",
          "data": {
            "text/plain": [
              "Number                   6.104810e-01\n",
              "Precipitation(in)        1.901780e-01\n",
              "Wind_Chill(F)            1.627891e-01\n",
              "Wind_Speed(mph)          5.528419e-02\n",
              "Wind_Direction           2.643696e-02\n",
              "Humidity(%)              2.608284e-02\n",
              "Weather_Condition        2.525189e-02\n",
              "Visibility(mi)           2.520116e-02\n",
              "Temperature(F)           2.470479e-02\n",
              "Pressure(in)             2.116482e-02\n",
              "Weather_Timestamp        1.821607e-02\n",
              "Airport_Code             3.405670e-03\n",
              "Timezone                 1.280898e-03\n",
              "Nautical_Twilight        1.137323e-03\n",
              "Civil_Twilight           1.137323e-03\n",
              "Sunrise_Sunset           1.137323e-03\n",
              "Astronomical_Twilight    1.137323e-03\n",
              "Zipcode                  4.778084e-04\n",
              "City                     4.708452e-05\n",
              "Street                   6.631623e-07\n",
              "Country                  0.000000e+00\n",
              "Junction                 0.000000e+00\n",
              "Start_Time               0.000000e+00\n",
              "End_Time                 0.000000e+00\n",
              "Start_Lat                0.000000e+00\n",
              "Turning_Loop             0.000000e+00\n",
              "Traffic_Signal           0.000000e+00\n",
              "Traffic_Calming          0.000000e+00\n",
              "Stop                     0.000000e+00\n",
              "Station                  0.000000e+00\n",
              "Roundabout               0.000000e+00\n",
              "Railway                  0.000000e+00\n",
              "No_Exit                  0.000000e+00\n",
              "Crossing                 0.000000e+00\n",
              "Give_Way                 0.000000e+00\n",
              "Bump                     0.000000e+00\n",
              "Amenity                  0.000000e+00\n",
              "Start_Lng                0.000000e+00\n",
              "End_Lat                  0.000000e+00\n",
              "End_Lng                  0.000000e+00\n",
              "Distance(mi)             0.000000e+00\n",
              "Description              0.000000e+00\n",
              "Severity                 0.000000e+00\n",
              "Side                     0.000000e+00\n",
              "County                   0.000000e+00\n",
              "State                    0.000000e+00\n",
              "ID                       0.000000e+00\n",
              "dtype: float64"
            ]
          },
          "metadata": {},
          "execution_count": 11
        }
      ]
    },
    {
      "cell_type": "code",
      "source": [
        "missing_perc[missing_perc!=0].plot(kind = 'barh')"
      ],
      "metadata": {
        "colab": {
          "base_uri": "https://localhost:8080/",
          "height": 282
        },
        "id": "p7fOh28MXlA_",
        "outputId": "ca72b7bc-1f0d-4750-b430-fa2e8c95e1ec"
      },
      "execution_count": null,
      "outputs": [
        {
          "output_type": "execute_result",
          "data": {
            "text/plain": [
              "<matplotlib.axes._subplots.AxesSubplot at 0x7f7b6c46e890>"
            ]
          },
          "metadata": {},
          "execution_count": 12
        },
        {
          "output_type": "display_data",
          "data": {
            "image/png": "[encoded data removed]",
            "text/plain": [
              "<Figure size 432x288 with 1 Axes>"
            ]
          },
          "metadata": {
            "needs_background": "light"
          }
        }
      ]
    },
    {
      "cell_type": "markdown",
      "source": [
        "# Exploraitory Data Analysis & Visualization\n",
        "- City\n",
        "-Start Time\n",
        "-Start Lat,Start Lng\n",
        "-State\n",
        "-Temperature\n",
        "- Weather Condition\n",
        "-Sunrise Sunset\n",
        "-Distance\n"
      ],
      "metadata": {
        "id": "TGNzohRIWxiO"
      }
    },
    {
      "cell_type": "code",
      "source": [
        "df.columns"
      ],
      "metadata": {
        "id": "1wXtJd8oXAOq",
        "colab": {
          "base_uri": "https://localhost:8080/"
        },
        "outputId": "2d93e6ca-2c63-444d-9df7-e97f3f464f81"
      },
      "execution_count": null,
      "outputs": [
        {
          "output_type": "execute_result",
          "data": {
            "text/plain": [
              "Index(['ID', 'Severity', 'Start_Time', 'End_Time', 'Start_Lat', 'Start_Lng',\n",
              "       'End_Lat', 'End_Lng', 'Distance(mi)', 'Description', 'Number', 'Street',\n",
              "       'Side', 'City', 'County', 'State', 'Zipcode', 'Country', 'Timezone',\n",
              "       'Airport_Code', 'Weather_Timestamp', 'Temperature(F)', 'Wind_Chill(F)',\n",
              "       'Humidity(%)', 'Pressure(in)', 'Visibility(mi)', 'Wind_Direction',\n",
              "       'Wind_Speed(mph)', 'Precipitation(in)', 'Weather_Condition', 'Amenity',\n",
              "       'Bump', 'Crossing', 'Give_Way', 'Junction', 'No_Exit', 'Railway',\n",
              "       'Roundabout', 'Station', 'Stop', 'Traffic_Calming', 'Traffic_Signal',\n",
              "       'Turning_Loop', 'Sunrise_Sunset', 'Civil_Twilight', 'Nautical_Twilight',\n",
              "       'Astronomical_Twilight'],\n",
              "      dtype='object')"
            ]
          },
          "metadata": {},
          "execution_count": 13
        }
      ]
    },
    {
      "cell_type": "markdown",
      "source": [
        "## City"
      ],
      "metadata": {
        "id": "e40yLO9ypDYD"
      }
    },
    {
      "cell_type": "code",
      "source": [
        "df.City"
      ],
      "metadata": {
        "colab": {
          "base_uri": "https://localhost:8080/"
        },
        "id": "bLrvXsanpa8w",
        "outputId": "613593fd-3b8f-4130-c790-c21d212f00e3"
      },
      "execution_count": null,
      "outputs": [
        {
          "output_type": "execute_result",
          "data": {
            "text/plain": [
              "0               Dublin\n",
              "1               Dayton\n",
              "2           Cincinnati\n",
              "3           Cincinnati\n",
              "4                Akron\n",
              "              ...     \n",
              "3015848      Riverside\n",
              "3015849      San Diego\n",
              "3015850         Orange\n",
              "3015851    Culver City\n",
              "3015852       Highland\n",
              "Name: City, Length: 3015853, dtype: object"
            ]
          },
          "metadata": {},
          "execution_count": 14
        }
      ]
    },
    {
      "cell_type": "code",
      "source": [
        "cities = df.City.unique()\n",
        "len(cities)"
      ],
      "metadata": {
        "colab": {
          "base_uri": "https://localhost:8080/"
        },
        "id": "XyRR-nGSpFgW",
        "outputId": "2e4f57df-6ec4-4dc1-c991-4a5fcc31ce80"
      },
      "execution_count": null,
      "outputs": [
        {
          "output_type": "execute_result",
          "data": {
            "text/plain": [
              "11706"
            ]
          },
          "metadata": {},
          "execution_count": 15
        }
      ]
    },
    {
      "cell_type": "code",
      "source": [
        "cities_by_accident = df.City.value_counts(ascending= False)\n",
        "cities_by_accident"
      ],
      "metadata": {
        "colab": {
          "base_uri": "https://localhost:8080/"
        },
        "id": "UHmwwKfOpFcb",
        "outputId": "4768876d-9952-4927-a77c-e8c941f26d1f"
      },
      "execution_count": null,
      "outputs": [
        {
          "output_type": "execute_result",
          "data": {
            "text/plain": [
              "Miami                           110984\n",
              "Los Angeles                      71045\n",
              "Orlando                          56750\n",
              "Dallas                           43445\n",
              "Houston                          40950\n",
              "                                 ...  \n",
              "Holcombe                             1\n",
              "Muskego                              1\n",
              "Woodway                              1\n",
              "Merigold                             1\n",
              "American Fork-Pleasant Grove         1\n",
              "Name: City, Length: 11705, dtype: int64"
            ]
          },
          "metadata": {},
          "execution_count": 16
        }
      ]
    },
    {
      "cell_type": "code",
      "source": [
        "cities_by_accident[:20]"
      ],
      "metadata": {
        "colab": {
          "base_uri": "https://localhost:8080/"
        },
        "id": "kUWm2xdTpFab",
        "outputId": "f6e86ee3-8055-4c82-fdbc-fbf91cca5466"
      },
      "execution_count": null,
      "outputs": [
        {
          "output_type": "execute_result",
          "data": {
            "text/plain": [
              "Miami           110984\n",
              "Los Angeles      71045\n",
              "Orlando          56750\n",
              "Dallas           43445\n",
              "Houston          40950\n",
              "Charlotte        37307\n",
              "Sacramento       33516\n",
              "San Diego        27450\n",
              "Raleigh          24068\n",
              "Minneapolis      23876\n",
              "Portland         21779\n",
              "Nashville        21206\n",
              "Austin           19647\n",
              "Baton Rouge      19270\n",
              "Phoenix          17999\n",
              "Saint Paul       17821\n",
              "New Orleans      17380\n",
              "Atlanta          17212\n",
              "Jacksonville     15854\n",
              "Richmond         15614\n",
              "Name: City, dtype: int64"
            ]
          },
          "metadata": {},
          "execution_count": 17
        }
      ]
    },
    {
      "cell_type": "code",
      "source": [
        "cities_by_accident[:20].plot(kind='barh')"
      ],
      "metadata": {
        "id": "ZQIg9mVWXAL5",
        "colab": {
          "base_uri": "https://localhost:8080/",
          "height": 282
        },
        "outputId": "f84edfc4-8fcc-4eec-9648-466743ced893"
      },
      "execution_count": null,
      "outputs": [
        {
          "output_type": "execute_result",
          "data": {
            "text/plain": [
              "<matplotlib.axes._subplots.AxesSubplot at 0x7f7ba52cae90>"
            ]
          },
          "metadata": {},
          "execution_count": 18
        },
        {
          "output_type": "display_data",
          "data": {
            "image/png": "[encoded data removed]",
            "text/plain": [
              "<Figure size 432x288 with 1 Axes>"
            ]
          },
          "metadata": {
            "needs_background": "light"
          }
        }
      ]
    },
    {
      "cell_type": "code",
      "source": [
        "sns.histplot(cities_by_accident, log_scale=True)"
      ],
      "metadata": {
        "id": "NaWVtbv9XAIP",
        "colab": {
          "base_uri": "https://localhost:8080/",
          "height": 300
        },
        "outputId": "1f8d536a-4168-47f9-ae15-3ad12c6f8a30"
      },
      "execution_count": null,
      "outputs": [
        {
          "output_type": "execute_result",
          "data": {
            "text/plain": [
              "<matplotlib.axes._subplots.AxesSubplot at 0x7f7b6e909750>"
            ]
          },
          "metadata": {},
          "execution_count": 19
        },
        {
          "output_type": "display_data",
          "data": {
            "image/png": "[encoded data removed]",
            "text/plain": [
              "<Figure size 432x288 with 1 Axes>"
            ]
          },
          "metadata": {
            "needs_background": "light"
          }
        }
      ]
    },
    {
      "cell_type": "code",
      "source": [
        "cities_by_accident[cities_by_accident == 1]"
      ],
      "metadata": {
        "colab": {
          "base_uri": "https://localhost:8080/"
        },
        "id": "C01vCbibzYWd",
        "outputId": "ac2d00d3-6a6d-44be-f8e9-56f5359fbe37"
      },
      "execution_count": null,
      "outputs": [
        {
          "output_type": "execute_result",
          "data": {
            "text/plain": [
              "Tracys Landing                  1\n",
              "Eidson                          1\n",
              "West Valley                     1\n",
              "Rapid River                     1\n",
              "Winter Garden-Ocoee             1\n",
              "                               ..\n",
              "Holcombe                        1\n",
              "Muskego                         1\n",
              "Woodway                         1\n",
              "Merigold                        1\n",
              "American Fork-Pleasant Grove    1\n",
              "Name: City, Length: 972, dtype: int64"
            ]
          },
          "metadata": {},
          "execution_count": 20
        }
      ]
    },
    {
      "cell_type": "markdown",
      "source": [
        "Around 972 cities has reported only 1 accident"
      ],
      "metadata": {
        "id": "qlT5zQJ20nKg"
      }
    },
    {
      "cell_type": "code",
      "source": [
        ""
      ],
      "metadata": {
        "id": "o7xT2j6G0lCD"
      },
      "execution_count": null,
      "outputs": []
    },
    {
      "cell_type": "markdown",
      "source": [
        "## Start Time"
      ],
      "metadata": {
        "id": "MQMghOqp07h7"
      }
    },
    {
      "cell_type": "code",
      "source": [
        "df.Start_Time = pd.to_datetime(df.Start_Time)\n",
        "df.End_Time = pd.to_datetime(df.End_Time)"
      ],
      "metadata": {
        "id": "szFYkEG31mgU"
      },
      "execution_count": null,
      "outputs": []
    },
    {
      "cell_type": "code",
      "source": [
        "sns.set_style(\"darkgrid\")\n",
        "sns.distplot(df.Start_Time.dt.hour, bins=24, kde=False, norm_hist=True)"
      ],
      "metadata": {
        "colab": {
          "base_uri": "https://localhost:8080/"
        },
        "id": "eshud5XB1mdD",
        "outputId": "c851a3ed-478b-4fb3-f77a-d17dde9a7c0d"
      },
      "execution_count": null,
      "outputs": [
        {
          "output_type": "stream",
          "name": "stderr",
          "text": [
            "/usr/local/lib/python3.7/dist-packages/seaborn/distributions.py:2619: FutureWarning: `distplot` is a deprecated function and will be removed in a future version. Please adapt your code to use either `displot` (a figure-level function with similar flexibility) or `histplot` (an axes-level function for histograms).\n",
            "  warnings.warn(msg, FutureWarning)\n"
          ]
        },
        {
          "output_type": "execute_result",
          "data": {
            "text/plain": [
              "<matplotlib.axes._subplots.AxesSubplot at 0x7f7b5e5b1d50>"
            ]
          },
          "metadata": {},
          "execution_count": 22
        },
        {
          "output_type": "display_data",
          "data": {
            "image/png": "[encoded data removed]",
            "text/plain": [
              "<Figure size 432x288 with 1 Axes>"
            ]
          },
          "metadata": {}
        }
      ]
    },
    {
      "cell_type": "markdown",
      "source": [
        "We observed that accident higher between 6 to 9 and 14 to 16"
      ],
      "metadata": {
        "id": "gNQ3BVGQBoVV"
      }
    },
    {
      "cell_type": "code",
      "source": [
        "sns.distplot(df.Start_Time.dt.day_of_week, bins = 7, kde = False, norm_hist = True)"
      ],
      "metadata": {
        "colab": {
          "base_uri": "https://localhost:8080/"
        },
        "id": "QN38aimf_XL8",
        "outputId": "244d24b2-9971-48bc-f7e9-06afb67e4ef0"
      },
      "execution_count": null,
      "outputs": [
        {
          "output_type": "stream",
          "name": "stderr",
          "text": [
            "/usr/local/lib/python3.7/dist-packages/seaborn/distributions.py:2619: FutureWarning: `distplot` is a deprecated function and will be removed in a future version. Please adapt your code to use either `displot` (a figure-level function with similar flexibility) or `histplot` (an axes-level function for histograms).\n",
            "  warnings.warn(msg, FutureWarning)\n"
          ]
        },
        {
          "output_type": "execute_result",
          "data": {
            "text/plain": [
              "<matplotlib.axes._subplots.AxesSubplot at 0x7f7b6080b550>"
            ]
          },
          "metadata": {},
          "execution_count": 23
        },
        {
          "output_type": "display_data",
          "data": {
            "image/png": "[encoded data removed]",
            "text/plain": [
              "<Figure size 432x288 with 1 Axes>"
            ]
          },
          "metadata": {}
        }
      ]
    },
    {
      "cell_type": "markdown",
      "source": [
        "For weekends accident are lower than weekdays"
      ],
      "metadata": {
        "id": "9GhKeQx7CDFW"
      }
    },
    {
      "cell_type": "code",
      "source": [
        "sunday_start_time = df.Start_Time[df.Start_Time.dt.day_of_week == 6]\n",
        "sns.distplot(sunday_start_time.dt.hour, bins = 24, kde = False, norm_hist = True)"
      ],
      "metadata": {
        "colab": {
          "base_uri": "https://localhost:8080/"
        },
        "id": "IcwOg81c_XJi",
        "outputId": "9aed3c9b-4140-4cc6-d6a6-0070a3bc1733"
      },
      "execution_count": null,
      "outputs": [
        {
          "output_type": "stream",
          "name": "stderr",
          "text": [
            "/usr/local/lib/python3.7/dist-packages/seaborn/distributions.py:2619: FutureWarning: `distplot` is a deprecated function and will be removed in a future version. Please adapt your code to use either `displot` (a figure-level function with similar flexibility) or `histplot` (an axes-level function for histograms).\n",
            "  warnings.warn(msg, FutureWarning)\n"
          ]
        },
        {
          "output_type": "execute_result",
          "data": {
            "text/plain": [
              "<matplotlib.axes._subplots.AxesSubplot at 0x7f7b5e52f250>"
            ]
          },
          "metadata": {},
          "execution_count": 24
        },
        {
          "output_type": "display_data",
          "data": {
            "image/png": "[encoded data removed]",
            "text/plain": [
              "<Figure size 432x288 with 1 Axes>"
            ]
          },
          "metadata": {}
        }
      ]
    },
    {
      "cell_type": "markdown",
      "source": [
        "for sunday high accident interval changes to  0 to 2 and 11 to 18 "
      ],
      "metadata": {
        "id": "RBBFXuaJCJ3D"
      }
    },
    {
      "cell_type": "code",
      "source": [
        "monday_start_time = df.Start_Time[df.Start_Time.dt.day_of_week == 0]\n",
        "sns.distplot(monday_start_time.dt.hour, bins = 24, kde = False, norm_hist = True)"
      ],
      "metadata": {
        "colab": {
          "base_uri": "https://localhost:8080/"
        },
        "id": "OVJpI-0k_XGz",
        "outputId": "2ee9db9e-cf64-4bc9-97be-4190ae0e48ce"
      },
      "execution_count": null,
      "outputs": [
        {
          "output_type": "stream",
          "name": "stderr",
          "text": [
            "/usr/local/lib/python3.7/dist-packages/seaborn/distributions.py:2619: FutureWarning: `distplot` is a deprecated function and will be removed in a future version. Please adapt your code to use either `displot` (a figure-level function with similar flexibility) or `histplot` (an axes-level function for histograms).\n",
            "  warnings.warn(msg, FutureWarning)\n"
          ]
        },
        {
          "output_type": "execute_result",
          "data": {
            "text/plain": [
              "<matplotlib.axes._subplots.AxesSubplot at 0x7f7b5e4b4150>"
            ]
          },
          "metadata": {},
          "execution_count": 25
        },
        {
          "output_type": "display_data",
          "data": {
            "image/png": "[encoded data removed]",
            "text/plain": [
              "<Figure size 432x288 with 1 Axes>"
            ]
          },
          "metadata": {}
        }
      ]
    },
    {
      "cell_type": "markdown",
      "source": [
        "## Start Longititude, Start Latitude"
      ],
      "metadata": {
        "id": "ZCHny9QMM8dk"
      }
    },
    {
      "cell_type": "code",
      "source": [
        "sample_df = df.sample(int(0.1 * len(df)))"
      ],
      "metadata": {
        "id": "UrG-uHxtXAGK"
      },
      "execution_count": null,
      "outputs": []
    },
    {
      "cell_type": "code",
      "source": [
        "sns.scatterplot(x  = sample_df.Start_Lng, y = sample_df.Start_Lat, size = 0.001)"
      ],
      "metadata": {
        "id": "Jg5oweBmXFsz",
        "colab": {
          "base_uri": "https://localhost:8080/",
          "height": 300
        },
        "outputId": "72045710-a2cb-486e-ab6d-fce5f73ec941"
      },
      "execution_count": null,
      "outputs": [
        {
          "output_type": "execute_result",
          "data": {
            "text/plain": [
              "<matplotlib.axes._subplots.AxesSubplot at 0x7f7b50960190>"
            ]
          },
          "metadata": {},
          "execution_count": 34
        },
        {
          "output_type": "display_data",
          "data": {
            "image/png": "[encoded data removed]",
            "text/plain": [
              "<Figure size 432x288 with 1 Axes>"
            ]
          },
          "metadata": {}
        }
      ]
    },
    {
      "cell_type": "code",
      "source": [
        "import folium"
      ],
      "metadata": {
        "id": "3yA6l5W3M8Bt"
      },
      "execution_count": null,
      "outputs": []
    },
    {
      "cell_type": "code",
      "source": [
        "lon, lat = df['Start_Lng'][0] ,df['Start_Lat'][0]\n",
        "print(lon, lat)"
      ],
      "metadata": {
        "colab": {
          "base_uri": "https://localhost:8080/"
        },
        "id": "bpZRoRhMN18F",
        "outputId": "b7276266-c818-4aeb-a75f-bb918152a52f"
      },
      "execution_count": null,
      "outputs": [
        {
          "output_type": "stream",
          "name": "stdout",
          "text": [
            "-83.09286 40.10891\n"
          ]
        }
      ]
    },
    {
      "cell_type": "code",
      "source": [
        "for x in df[['Start_Lat','Start_Lng']].sample(50).iteritems():\n",
        "  print(x[1])"
      ],
      "metadata": {
        "colab": {
          "base_uri": "https://localhost:8080/"
        },
        "id": "m26ZaYMAOLqs",
        "outputId": "c488314a-860c-40ed-e7b9-e75c39f0b1bf"
      },
      "execution_count": null,
      "outputs": [
        {
          "output_type": "stream",
          "name": "stdout",
          "text": [
            "1127867    40.725155\n",
            "277065     34.577956\n",
            "219442     42.891140\n",
            "2471816    41.229560\n",
            "2001871    31.781342\n",
            "2693248    45.696665\n",
            "1966379    33.390423\n",
            "2459639    34.995542\n",
            "205392     35.878866\n",
            "2548540    42.433080\n",
            "578926     45.012061\n",
            "1740945    34.023693\n",
            "845994     35.772437\n",
            "2423039    35.050300\n",
            "708211     33.897262\n",
            "713191     36.104322\n",
            "1128079    39.879574\n",
            "2334703    32.836060\n",
            "520        40.409340\n",
            "747129     36.690074\n",
            "2956358    35.735340\n",
            "1216438    40.727598\n",
            "133556     34.308982\n",
            "331818     39.231415\n",
            "768668     28.457380\n",
            "2133796    33.991125\n",
            "1840339    28.064657\n",
            "1763390    37.631295\n",
            "928979     37.876708\n",
            "2371715    34.016880\n",
            "351771     32.911972\n",
            "69741      39.021970\n",
            "1464106    44.879702\n",
            "1213537    35.824590\n",
            "429807     25.984755\n",
            "53029      27.928530\n",
            "1507296    39.015783\n",
            "1622433    39.898470\n",
            "917508     32.673221\n",
            "1789520    26.329103\n",
            "665940     40.924480\n",
            "2993842    41.912990\n",
            "898255     30.170939\n",
            "1850007    36.290189\n",
            "1017393    45.919159\n",
            "1292339    45.300967\n",
            "102560     40.609939\n",
            "1896781    28.400459\n",
            "2459061    44.964990\n",
            "1329000    34.993088\n",
            "Name: Start_Lat, dtype: float64\n",
            "1127867    -73.932408\n",
            "277065    -117.951884\n",
            "219442     -85.779230\n",
            "2471816    -95.955330\n",
            "2001871   -106.414742\n",
            "2693248   -121.356288\n",
            "1966379   -111.684662\n",
            "2459639   -118.942685\n",
            "205392     -78.487697\n",
            "2548540    -83.427390\n",
            "578926     -93.005221\n",
            "1740945   -118.201747\n",
            "845994     -78.587289\n",
            "2423039    -89.875020\n",
            "708211    -117.471085\n",
            "713191     -95.993596\n",
            "1128079   -104.987679\n",
            "2334703    -83.662530\n",
            "520        -80.192470\n",
            "747129    -121.588780\n",
            "2956358    -80.371380\n",
            "1216438    -76.391725\n",
            "133556    -117.471688\n",
            "331818     -77.284451\n",
            "768668     -81.470760\n",
            "2133796   -117.549954\n",
            "1840339    -82.738770\n",
            "1763390   -122.083822\n",
            "928979    -122.078856\n",
            "2371715    -80.949140\n",
            "351771     -96.447319\n",
            "69741      -84.504100\n",
            "1464106    -93.398358\n",
            "1213537    -81.190703\n",
            "429807     -80.165705\n",
            "53029      -82.337960\n",
            "1507296    -77.001366\n",
            "1622433    -75.181277\n",
            "917508     -81.020168\n",
            "1789520    -81.805621\n",
            "665940     -73.858953\n",
            "2993842    -87.666640\n",
            "898255     -97.691120\n",
            "1850007    -79.731950\n",
            "1017393   -112.412109\n",
            "1292339    -93.811688\n",
            "102560    -111.938781\n",
            "1896781    -81.244401\n",
            "2459061    -93.287230\n",
            "1329000    -85.286377\n",
            "Name: Start_Lng, dtype: float64\n"
          ]
        }
      ]
    },
    {
      "cell_type": "code",
      "source": [
        "zip(list(df.Start_Lng), list(df.Start_Lat))"
      ],
      "metadata": {
        "colab": {
          "base_uri": "https://localhost:8080/"
        },
        "id": "JghMO1S0O4Rk",
        "outputId": "6b4d20ed-0686-41a6-972a-60985526ee9b"
      },
      "execution_count": null,
      "outputs": [
        {
          "output_type": "execute_result",
          "data": {
            "text/plain": [
              "<zip at 0x7f7b5c780690>"
            ]
          },
          "metadata": {},
          "execution_count": 48
        }
      ]
    },
    {
      "cell_type": "code",
      "source": [
        "from folium.plugins import HeatMap"
      ],
      "metadata": {
        "id": "zMqh8ylFPz8E"
      },
      "execution_count": null,
      "outputs": []
    },
    {
      "cell_type": "code",
      "source": [
        "map_sample_df = df.sample(int(0.001*len(df)))"
      ],
      "metadata": {
        "id": "yMwjm0I_wyug"
      },
      "execution_count": null,
      "outputs": []
    },
    {
      "cell_type": "code",
      "source": [
        "lon_lat_pair = list(zip(list(map_sample_df.Start_Lat), list(map_sample_df.Start_Lng)))"
      ],
      "metadata": {
        "id": "FRYNxAnKxOLa"
      },
      "execution_count": null,
      "outputs": []
    },
    {
      "cell_type": "code",
      "source": [
        "map = folium.Map()\n",
        "HeatMap(lon_lat_pair).add_to(map)\n",
        "map"
      ],
      "metadata": {
        "colab": {
          "base_uri": "https://localhost:8080/",
          "height": 763
        },
        "id": "9rDQnJBBxkD4",
        "outputId": "682c1f34-a21c-4b81-ef69-11efc7f4afbb"
      },
      "execution_count": null,
      "outputs": [
        {
          "output_type": "execute_result",
          "data": {
            "text/html": [
              "<div style=\"width:100%;\"><div style=\"position:relative;width:100%;height:0;padding-bottom:60%;\"><span style=\"color:#565656\">Make this Notebook Trusted to load map: File -> Trust Notebook</span><iframe src=\"about:blank\" style=\"position:absolute;width:100%;height:100%;left:0;top:0;border:none !important;\" data-html=%3C%21DOCTYPE%20html%3E%0A%3Chead%3E%20%20%20%20%0A%20%20%20%20%3Cmeta%20http-equiv%3D%22content-type%22%20content%3D%22text/html%3B%20charset%3DUTF-8%22%20/%3E%0A%20%20%20%20%3Cscript%3EL_PREFER_CANVAS%3Dfalse%3B%20L_NO_TOUCH%3Dfalse%3B%20L_DISABLE_3D%3Dfalse%3B%3C/script%3E%0A%20%20%20%20%3Cscript%20src%3D%22https%3A//cdn.jsdelivr.net/npm/leaflet%401.4.0/dist/leaflet.js%22%3E%3C/script%3E%0A%20%20%20%20%3Cscript%20src%3D%22https%3A//code.jquery.com/jquery-1.12.4.min.js%22%3E%3C/script%3E%0A%20%20%20%20%3Cscript%20src%3D%22https%3A//maxcdn.bootstrapcdn.com/bootstrap/3.2.0/js/bootstrap.min.js%22%3E%3C/script%3E%0A%20%20%20%20%3Cscript%20src%3D%22https%3A//cdnjs.cloudflare.com/ajax/libs/Leaflet.awesome-markers/2.0.2/leaflet.awesome-markers.js%22%3E%3C/script%3E%0A%20%20%20%20%3Clink%20rel%3D%22stylesheet%22%20href%3D%22https%3A//cdn.jsdelivr.net/npm/leaflet%401.4.0/dist/leaflet.css%22/%3E%0A%20%20%20%20%3Clink%20rel%3D%22stylesheet%22%20href%3D%22https%3A//maxcdn.bootstrapcdn.com/bootstrap/3.2.0/css/bootstrap.min.css%22/%3E%0A%20%20%20%20%3Clink%20rel%3D%22stylesheet%22%20href%3D%22https%3A//maxcdn.bootstrapcdn.com/bootstrap/3.2.0/css/bootstrap-theme.min.css%22/%3E%0A%20%20%20%20%3Clink%20rel%3D%22stylesheet%22%20href%3D%22https%3A//maxcdn.bootstrapcdn.com/font-awesome/4.6.3/css/font-awesome.min.css%22/%3E%0A%20%20%20%20%3Clink%20rel%3D%22stylesheet%22%20href%3D%22https%3A//cdnjs.cloudflare.com/ajax/libs/Leaflet.awesome-markers/2.0.2/leaflet.awesome-markers.css%22/%3E%0A%20%20%20%20%3Clink%20rel%3D%22stylesheet%22%20href%3D%22https%3A//rawcdn.githack.com/python-visualization/folium/master/folium/templates/leaflet.awesome.rotate.css%22/%3E%0A%20%20%20%20%3Cstyle%3Ehtml%2C%20body%20%7Bwidth%3A%20100%25%3Bheight%3A%20100%25%3Bmargin%3A%200%3Bpadding%3A%200%3B%7D%3C/style%3E%0A%20%20%20%20%3Cstyle%3E%23map%20%7Bposition%3Aabsolute%3Btop%3A0%3Bbottom%3A0%3Bright%3A0%3Bleft%3A0%3B%7D%3C/style%3E%0A%20%20%20%20%0A%20%20%20%20%3Cmeta%20name%3D%22viewport%22%20content%3D%22width%3Ddevice-width%2C%0A%20%20%20%20%20%20%20%20initial-scale%3D1.0%2C%20maximum-scale%3D1.0%2C%20user-scalable%3Dno%22%20/%3E%0A%20%20%20%20%3Cstyle%3E%23map_8d94305388ee49f7905108fe650ae1ae%20%7B%0A%20%20%20%20%20%20%20%20position%3A%20relative%3B%0A%20%20%20%20%20%20%20%20width%3A%20100.0%25%3B%0A%20%20%20%20%20%20%20%20height%3A%20100.0%25%3B%0A%20%20%20%20%20%20%20%20left%3A%200.0%25%3B%0A%20%20%20%20%20%20%20%20top%3A%200.0%25%3B%0A%20%20%20%20%20%20%20%20%7D%0A%20%20%20%20%3C/style%3E%0A%20%20%20%20%3Cscript%20src%3D%22https%3A//leaflet.github.io/Leaflet.heat/dist/leaflet-heat.js%22%3E%3C/script%3E%0A%3C/head%3E%0A%3Cbody%3E%20%20%20%20%0A%20%20%20%20%0A%20%20%20%20%3Cdiv%20class%3D%22folium-map%22%20id%3D%22map_8d94305388ee49f7905108fe650ae1ae%22%20%3E%3C/div%3E%0A%3C/body%3E%0A%3Cscript%3E%20%20%20%20%0A%20%20%20%20%0A%20%20%20%20%0A%20%20%20%20%20%20%20%20var%20bounds%20%3D%20null%3B%0A%20%20%20%20%0A%0A%20%20%20%20var%20map_8d94305388ee49f7905108fe650ae1ae%20%3D%20L.map%28%0A%20%20%20%20%20%20%20%20%27map_8d94305388ee49f7905108fe650ae1ae%27%2C%20%7B%0A%20%20%20%20%20%20%20%20center%3A%20%5B0%2C%200%5D%2C%0A%20%20%20%20%20%20%20%20zoom%3A%201%2C%0A%20%20%20%20%20%20%20%20maxBounds%3A%20bounds%2C%0A%20%20%20%20%20%20%20%20layers%3A%20%5B%5D%2C%0A%20%20%20%20%20%20%20%20worldCopyJump%3A%20false%2C%0A%20%20%20%20%20%20%20%20crs%3A%20L.CRS.EPSG3857%2C%0A%20%20%20%20%20%20%20%20zoomControl%3A%20true%2C%0A%20%20%20%20%20%20%20%20%7D%29%3B%0A%0A%0A%20%20%20%20%0A%20%20%20%20var%20tile_layer_80f2fd52d83c4b3db4d090fdd9a1ea62%20%3D%20L.tileLayer%28%0A%20%20%20%20%20%20%20%20%27https%3A//%7Bs%7D.tile.openstreetmap.org/%7Bz%7D/%7Bx%7D/%7By%7D.png%27%2C%0A%20%20%20%20%20%20%20%20%7B%0A%20%20%20%20%20%20%20%20%22attribution%22%3A%20null%2C%0A%20%20%20%20%20%20%20%20%22detectRetina%22%3A%20false%2C%0A%20%20%20%20%20%20%20%20%22maxNativeZoom%22%3A%2018%2C%0A%20%20%20%20%20%20%20%20%22maxZoom%22%3A%2018%2C%0A%20%20%20%20%20%20%20%20%22minZoom%22%3A%200%2C%0A%20%20%20%20%20%20%20%20%22noWrap%22%3A%20false%2C%0A%20%20%20%20%20%20%20%20%22opacity%22%3A%201%2C%0A%20%20%20%20%20%20%20%20%22subdomains%22%3A%20%22abc%22%2C%0A%20%20%20%20%20%20%20%20%22tms%22%3A%20false%0A%7D%29.addTo%28map_8d94305388ee49f7905108fe650ae1ae%29%3B%0A%20%20%20%20%0A%20%20%20%20%20%20%20%20%20%20%20%20var%20heat_map_2c79e2bb25b443849a53ac789b08da35%20%3D%20L.heatLayer%28%0A%20%20%20%20%20%20%20%20%20%20%20%20%20%20%20%20%5B%5B25.924727%2C%20-80.294154%5D%2C%20%5B43.594743%2C%20-116.361072%5D%2C%20%5B39.31791%2C%20-76.73749000000002%5D%2C%20%5B29.435962%2C%20-98.644069%5D%2C%20%5B38.197439%2C%20-121.170702%5D%2C%20%5B42.219014%2C%20-83.526161%5D%2C%20%5B37.536604%2C%20-120.828786%5D%2C%20%5B33.81423%2C%20-118.17156%5D%2C%20%5B38.662812%2C%20-77.248492%5D%2C%20%5B29.545561%2C%20-98.368915%5D%2C%20%5B29.940564%2C%20-90.101547%5D%2C%20%5B40.994324%2C%20-73.659726%5D%2C%20%5B34.20019%2C%20-82.159334%5D%2C%20%5B42.253836%2C%20-83.298736%5D%2C%20%5B37.374926%2C%20-93.341127%5D%2C%20%5B37.48762%2C%20-122.20602%5D%2C%20%5B35.306745%2C%20-80.851949%5D%2C%20%5B41.88981500000001%2C%20-88.008534%5D%2C%20%5B45.445884%2C%20-118.376495%5D%2C%20%5B39.315658%2C%20-76.74453299999998%5D%2C%20%5B35.25014%2C%20-80.85696999999998%5D%2C%20%5B34.466525%2C%20-118.329727%5D%2C%20%5B38.499471%2C%20-90.341899%5D%2C%20%5B35.240866%2C%20-80.944159%5D%2C%20%5B45.716699%2C%20-119.008757%5D%2C%20%5B39.729799%2C%20-105.171811%5D%2C%20%5B34.033615999999995%2C%20-118.024545%5D%2C%20%5B35.89942100000001%2C%20-84.77107%5D%2C%20%5B38.852633%2C%20-77.39969599999998%5D%2C%20%5B47.23251%2C%20-122.46325%5D%2C%20%5B34.02376%2C%20-117.556996%5D%2C%20%5B39.84255%2C%20-86.2568%5D%2C%20%5B33.00875300000001%2C%20-96.708038%5D%2C%20%5B34.199656%2C%20-118.337806%5D%2C%20%5B26.508196%2C%20-80.07459200000002%5D%2C%20%5B30.264851%2C%20-81.608819%5D%2C%20%5B45.243%2C%20-92.98395%5D%2C%20%5B37.71305%2C%20-122.17053%5D%2C%20%5B32.734171%2C%20-96.683984%5D%2C%20%5B34.0366%2C%20-118.37637%5D%2C%20%5B32.647517%2C%20-96.858764%5D%2C%20%5B34.0675%2C%20-117.982794%5D%2C%20%5B34.030548%2C%20-118.41603899999998%5D%2C%20%5B30.474226%2C%20-87.22319%5D%2C%20%5B41.04591%2C%20-92.372291%5D%2C%20%5B31.525847%2C%20-86.330753%5D%2C%20%5B35.81163%2C%20-78.60274%5D%2C%20%5B32.556427%2C%20-80.690002%5D%2C%20%5B25.913002%2C%20-80.209923%5D%2C%20%5B45.641659%2C%20-120.89038899999998%5D%2C%20%5B38.511826%2C%20-121.409076%5D%2C%20%5B45.952514%2C%20-111.597589%5D%2C%20%5B35.15181%2C%20-84.94853%5D%2C%20%5B30.632388%2C%20-81.54634200000002%5D%2C%20%5B37.669125%2C%20-122.109206%5D%2C%20%5B33.966565%2C%20-118.107074%5D%2C%20%5B29.79138%2C%20-95.26782%5D%2C%20%5B37.581756%2C%20-121.322809%5D%2C%20%5B46.663366%2C%20-92.478758%5D%2C%20%5B42.99005%2C%20-71.41565%5D%2C%20%5B41.238934%2C%20-77.058146%5D%2C%20%5B37.067833%2C%20-93.553195%5D%2C%20%5B40.019641%2C%20-75.143962%5D%2C%20%5B40.630027%2C%20-111.870034%5D%2C%20%5B45.427832%2C%20-122.63428%5D%2C%20%5B29.78552800000001%2C%20-95.799152%5D%2C%20%5B35.032599%2C%20-81.852007%5D%2C%20%5B40.22686%2C%20-111.67775%5D%2C%20%5B44.95096%2C%20-93.10985%5D%2C%20%5B35.19752000000001%2C%20-80.88178%5D%2C%20%5B38.865074%2C%20-77.266947%5D%2C%20%5B33.495020000000004%2C%20-112.0999%5D%2C%20%5B33.590538%2C%20-117.501594%5D%2C%20%5B34.145996999999994%2C%20-117.289556%5D%2C%20%5B33.392928999999995%2C%20-79.377305%5D%2C%20%5B38.78104%2C%20-122.025629%5D%2C%20%5B35.573749%2C%20-120.699225%5D%2C%20%5B35.27645%2C%20-80.8037%5D%2C%20%5B43.02025%2C%20-83.51777%5D%2C%20%5B37.528894%2C%20-77.414299%5D%2C%20%5B36.951964%2C%20-119.89394%5D%2C%20%5B33.188892%2C%20-87.32730699999998%5D%2C%20%5B33.615446%2C%20-117.426499%5D%2C%20%5B39.90025%2C%20-86.06227%5D%2C%20%5B38.403755%2C%20-121.251403%5D%2C%20%5B34.171240000000004%2C%20-118.387725%5D%2C%20%5B40.028783%2C%20-75.754633%5D%2C%20%5B44.938118%2C%20-123.061453%5D%2C%20%5B41.10568%2C%20-73.42578%5D%2C%20%5B47.75594%2C%20-122.3289%5D%2C%20%5B36.173338%2C%20-95.995765%5D%2C%20%5B25.891627%2C%20-80.163146%5D%2C%20%5B25.93371%2C%20-80.121845%5D%2C%20%5B28.898535%2C%20-82.382308%5D%2C%20%5B38.69399%2C%20-90.45034%5D%2C%20%5B34.038881%2C%20-117.319395%5D%2C%20%5B30.32086%2C%20-81.70207099999998%5D%2C%20%5B32.982555%2C%20-80.078026%5D%2C%20%5B45.04537%2C%20-122.97522%5D%2C%20%5B26.277054%2C%20-80.124976%5D%2C%20%5B40.990613%2C%20-77.42546800000002%5D%2C%20%5B26.709393%2C%20-81.721182%5D%2C%20%5B37.403994%2C%20-121.877313%5D%2C%20%5B40.6197%2C%20-111.4369%5D%2C%20%5B34.398826%2C%20-82.554649%5D%2C%20%5B28.451188%2C%20-81.33943599999998%5D%2C%20%5B37.681866%2C%20-120.471414%5D%2C%20%5B32.404389%2C%20-93.802205%5D%2C%20%5B38.773781%2C%20-76.02377299999998%5D%2C%20%5B25.918732%2C%20-80.210398%5D%2C%20%5B39.132517%2C%20-76.642845%5D%2C%20%5B28.006479%2C%20-82.50506899999998%5D%2C%20%5B39.787362%2C%20-84.234935%5D%2C%20%5B33.95946%2C%20-118.28053%5D%2C%20%5B44.702932%2C%20-93.441963%5D%2C%20%5B32.81173%2C%20-117.15566%5D%2C%20%5B33.916415%2C%20-118.273852%5D%2C%20%5B40.190429%2C%20-105.251271%5D%2C%20%5B29.72941%2C%20-95.44641%5D%2C%20%5B38.695919%2C%20-90.464682%5D%2C%20%5B28.555573%2C%20-81.310674%5D%2C%20%5B33.984286%2C%20-117.842712%5D%2C%20%5B38.77438%2C%20-77.18213%5D%2C%20%5B25.770074%2C%20-80.313113%5D%2C%20%5B30.503529%2C%20-87.237313%5D%2C%20%5B34.892520000000005%2C%20-82.28988000000003%5D%2C%20%5B25.86554%2C%20-80.20855%5D%2C%20%5B44.26871%2C%20-93.95925%5D%2C%20%5B40.237652%2C%20-75.058561%5D%2C%20%5B37.461286%2C%20-121.177943%5D%2C%20%5B37.867454%2C%20-121.278969%5D%2C%20%5B33.98758%2C%20-118.391709%5D%2C%20%5B36.64329%2C%20-120.612309%5D%2C%20%5B27.256811%2C%20-80.34950699999997%5D%2C%20%5B43.178944%2C%20-77.591328%5D%2C%20%5B34.012578000000005%2C%20-118.490649%5D%2C%20%5B34.030441%2C%20-117.672854%5D%2C%20%5B34.201008%2C%20-118.473633%5D%2C%20%5B32.339061%2C%20-95.300659%5D%2C%20%5B38.885659%2C%20-123.129235%5D%2C%20%5B28.047994%2C%20-82.34066700000002%5D%2C%20%5B25.880005%2C%20-80.242866%5D%2C%20%5B39.64925%2C%20-106.021151%5D%2C%20%5B40.729143%2C%20-73.909708%5D%2C%20%5B33.448695%2C%20-117.13545%5D%2C%20%5B34.081828%2C%20-117.702656%5D%2C%20%5B48.59606%2C%20-93.82137%5D%2C%20%5B28.56806%2C%20-81.37566%5D%2C%20%5B42.693032%2C%20-73.826655%5D%2C%20%5B41.464119%2C%20-112.054991%5D%2C%20%5B36.1368%2C%20-85.26395%5D%2C%20%5B44.341499%2C%20-93.293019%5D%2C%20%5B30.270640000000004%2C%20-97.791118%5D%2C%20%5B34.127088%2C%20-118.474797%5D%2C%20%5B33.994707%2C%20-117.356273%5D%2C%20%5B33.3533%2C%20-111.97138%5D%2C%20%5B33.810712%2C%20-84.37227299999998%5D%2C%20%5B40.955368%2C%20-78.327573%5D%2C%20%5B33.928905%2C%20-118.293071%5D%2C%20%5B25.882237%2C%20-80.122265%5D%2C%20%5B39.433169%2C%20-105.759016%5D%2C%20%5B34.7505%2C%20-86.758424%5D%2C%20%5B32.444271%2C%20-93.708161%5D%2C%20%5B37.241783%2C%20-121.772527%5D%2C%20%5B33.74005%2C%20-117.7976%5D%2C%20%5B31.324690000000004%2C%20-89.35443000000002%5D%2C%20%5B42.913715%2C%20-70.872948%5D%2C%20%5B29.416664%2C%20-82.887252%5D%2C%20%5B25.940488%2C%20-80.293993%5D%2C%20%5B38.15337%2C%20-85.83579%5D%2C%20%5B27.31139000000001%2C%20-80.349517%5D%2C%20%5B27.500133%2C%20-81.79767199999998%5D%2C%20%5B40.665646%2C%20-73.99355200000002%5D%2C%20%5B40.078298%2C%20-75.674362%5D%2C%20%5B36.842405%2C%20-121.457708%5D%2C%20%5B30.476728%2C%20-91.167265%5D%2C%20%5B37.699842%2C%20-120.99451299999998%5D%2C%20%5B34.155728%2C%20-118.43123500000002%5D%2C%20%5B33.831375%2C%20-118.0839%5D%2C%20%5B30.18617%2C%20-81.557983%5D%2C%20%5B34.240254%2C%20-117.429524%5D%2C%20%5B30.527785%2C%20-91.16563%5D%2C%20%5B40.63855%2C%20-112.02455%5D%2C%20%5B37.278028000000006%2C%20-81.12398%5D%2C%20%5B32.924963%2C%20-96.764155%5D%2C%20%5B25.631644%2C%20-80.41476800000002%5D%2C%20%5B36.771589%2C%20-76.25745%5D%2C%20%5B32.67862%2C%20-96.94606%5D%2C%20%5B30.243312%2C%20-81.76301099999998%5D%2C%20%5B41.70832100000001%2C%20-78.694029%5D%2C%20%5B41.376795%2C%20-73.604399%5D%2C%20%5B34.146763%2C%20-118.784254%5D%2C%20%5B34.13922%2C%20-118.01543%5D%2C%20%5B46.961912%2C%20-114.159867%5D%2C%20%5B35.017584%2C%20-90.002409%5D%2C%20%5B33.757595%2C%20-111.989553%5D%2C%20%5B42.91265%2C%20-85.544437%5D%2C%20%5B38.167203%2C%20-122.202969%5D%2C%20%5B43.717309%2C%20-70.336399%5D%2C%20%5B34.441261%2C%20-80.924316%5D%2C%20%5B33.04209%2C%20-80.144299%5D%2C%20%5B38.658199%2C%20-121.048955%5D%2C%20%5B41.160846%2C%20-122.29663899999998%5D%2C%20%5B25.768256%2C%20-80.33629599999998%5D%2C%20%5B40.851573%2C%20-73.952779%5D%2C%20%5B29.81394%2C%20-95.369743%5D%2C%20%5B28.465325%2C%20-81.389814%5D%2C%20%5B32.79168%2C%20-96.74289%5D%2C%20%5B33.970961%2C%20-117.896209%5D%2C%20%5B34.477095%2C%20-82.787442%5D%2C%20%5B28.303326%2C%20-81.589751%5D%2C%20%5B39.121494%2C%20-119.771877%5D%2C%20%5B29.750302%2C%20-95.384848%5D%2C%20%5B33.356841%2C%20-80.589448%5D%2C%20%5B45.6326%2C%20-121.09867%5D%2C%20%5B25.755535%2C%20-80.35571%5D%2C%20%5B48.51582%2C%20-122.37758999999998%5D%2C%20%5B25.78374%2C%20-80.26748%5D%2C%20%5B43.676474%2C%20-94.447896%5D%2C%20%5B25.869222%2C%20-80.234268%5D%2C%20%5B27.258743%2C%20-80.419782%5D%2C%20%5B41.59344%2C%20-93.71668%5D%2C%20%5B33.771285%2C%20-84.390084%5D%2C%20%5B45.63594000000001%2C%20-118.67988%5D%2C%20%5B33.917122%2C%20-117.848058%5D%2C%20%5B38.656857%2C%20-120.982416%5D%2C%20%5B44.097822%2C%20-123.151041%5D%2C%20%5B25.615377%2C%20-80.350149%5D%2C%20%5B41.44171%2C%20-84.27115%5D%2C%20%5B45.068981%2C%20-93.272391%5D%2C%20%5B41.530433%2C%20-122.276276%5D%2C%20%5B40.065603%2C%20-75.46208299999998%5D%2C%20%5B43.00112%2C%20-78.84756999999998%5D%2C%20%5B37.340975%2C%20-77.46757%5D%2C%20%5B37.086362%2C%20-77.557484%5D%2C%20%5B38.39915%2C%20-120.676457%5D%2C%20%5B33.591608%2C%20-79.004459%5D%2C%20%5B37.540577%2C%20-76.43304300000001%5D%2C%20%5B38.110801%2C%20-121.394449%5D%2C%20%5B35.14676%2C%20-80.87642%5D%2C%20%5B25.891254%2C%20-80.186559%5D%2C%20%5B33.846586%2C%20-118.212132%5D%2C%20%5B45.798323%2C%20-108.451813%5D%2C%20%5B41.295198%2C%20-73.10534200000002%5D%2C%20%5B26.093764%2C%20-80.16860600000003%5D%2C%20%5B35.84117600000001%2C%20-83.982416%5D%2C%20%5B33.9965%2C%20-117.92688%5D%2C%20%5B37.822692%2C%20-122.3201%5D%2C%20%5B28.39251%2C%20-81.376398%5D%2C%20%5B25.631575%2C%20-80.38255799999997%5D%2C%20%5B37.398504%2C%20-77.424289%5D%2C%20%5B33.44692%2C%20-111.8907%5D%2C%20%5B38.643224%2C%20-121.117624%5D%2C%20%5B35.097509%2C%20-81.673017%5D%2C%20%5B43.19551%2C%20-73.65024%5D%2C%20%5B33.846533%2C%20-118.27101100000002%5D%2C%20%5B41.68976%2C%20-83.666%5D%2C%20%5B35.834617%2C%20-78.581703%5D%2C%20%5B28.479811%2C%20-81.417468%5D%2C%20%5B32.878820000000005%2C%20-96.51348%5D%2C%20%5B28.596425%2C%20-81.555438%5D%2C%20%5B34.766052%2C%20-118.799682%5D%2C%20%5B39.86984%2C%20-86.28217%5D%2C%20%5B32.865497%2C%20-96.817238%5D%2C%20%5B45.646847%2C%20-121.51245%5D%2C%20%5B40.703299%2C%20-112.256441%5D%2C%20%5B38.13998%2C%20-121.6238%5D%2C%20%5B37.787052%2C%20-122.180519%5D%2C%20%5B34.128717%2C%20-117.938135%5D%2C%20%5B37.94041%2C%20-122.32444%5D%2C%20%5B29.729881%2C%20-95.427395%5D%2C%20%5B41.518571%2C%20-73.96999699999998%5D%2C%20%5B42.32301500000001%2C%20-83.163617%5D%2C%20%5B36.377088%2C%20-119.21564%5D%2C%20%5B37.24928900000001%2C%20-121.959745%5D%2C%20%5B34.922874%2C%20-82.347574%5D%2C%20%5B33.410990000000005%2C%20-112.00567%5D%2C%20%5B30.241425%2C%20-97.785393%5D%2C%20%5B25.880366%2C%20-80.208917%5D%2C%20%5B34.868727%2C%20-120.436474%5D%2C%20%5B34.428284000000005%2C%20-119.73741%5D%2C%20%5B33.741706%2C%20-80.255566%5D%2C%20%5B33.946195%2C%20-117.297335%5D%2C%20%5B40.768798%2C%20-73.837175%5D%2C%20%5B36.961124%2C%20-81.933221%5D%2C%20%5B45.22923%2C%20-93.55263%5D%2C%20%5B38.674037%2C%20-90.362087%5D%2C%20%5B37.717584%2C%20-120.349894%5D%2C%20%5B41.90172000000001%2C%20-88.10185%5D%2C%20%5B40.960561%2C%20-111.89132%5D%2C%20%5B28.494552%2C%20-81.395985%5D%2C%20%5B35.098551%2C%20-80.944834%5D%2C%20%5B47.59856%2C%20-122.32907%5D%2C%20%5B30.39797%2C%20-86.59792%5D%2C%20%5B34.03048%2C%20-118.43306499999998%5D%2C%20%5B34.114224%2C%20-80.889903%5D%2C%20%5B40.480939%2C%20-74.402879%5D%2C%20%5B28.437533%2C%20-81.40436%5D%2C%20%5B33.97743%2C%20-118.38884%5D%2C%20%5B42.37797%2C%20-83.22309%5D%2C%20%5B38.830954%2C%20-77.397666%5D%2C%20%5B32.904928000000005%2C%20-96.945155%5D%2C%20%5B32.704056%2C%20-111.480642%5D%2C%20%5B30.235926%2C%20-93.209873%5D%2C%20%5B33.887086%2C%20-98.485709%5D%2C%20%5B33.340246%2C%20-111.848983%5D%2C%20%5B37.935649%2C%20-122.451167%5D%2C%20%5B25.770371%2C%20-80.30619%5D%2C%20%5B35.606171%2C%20-87.05164%5D%2C%20%5B35.008267%2C%20-85.236579%5D%2C%20%5B33.843769%2C%20-117.25096200000002%5D%2C%20%5B40.907775%2C%20-74.580184%5D%2C%20%5B34.211888%2C%20-118.228512%5D%2C%20%5B41.90544000000001%2C%20-87.9786%5D%2C%20%5B40.533466%2C%20-107.440475%5D%2C%20%5B42.955995%2C%20-85.671654%5D%2C%20%5B30.467672%2C%20-86.130235%5D%2C%20%5B43.51456%2C%20-95.683461%5D%2C%20%5B25.910063%2C%20-80.210076%5D%2C%20%5B35.197668%2C%20-80.790503%5D%2C%20%5B33.538525%2C%20-112.131596%5D%2C%20%5B28.595921%2C%20-81.307105%5D%2C%20%5B33.989262%2C%20-118.400459%5D%2C%20%5B33.81041%2C%20-118.08132%5D%2C%20%5B34.739466%2C%20-92.277914%5D%2C%20%5B48.671052%2C%20-114.96551399999998%5D%2C%20%5B46.433404%2C%20-92.747365%5D%2C%20%5B34.03448%2C%20-118.26714%5D%2C%20%5B33.544719%2C%20-117.673176%5D%2C%20%5B41.00899%2C%20-74.36193%5D%2C%20%5B47.48206%2C%20-92.53047%5D%2C%20%5B45.29285%2C%20-117.20046%5D%2C%20%5B45.237%2C%20-94.54741%5D%2C%20%5B30.325022%2C%20-81.68003399999998%5D%2C%20%5B34.07226%2C%20-117.94127%5D%2C%20%5B39.769765%2C%20-120.619756%5D%2C%20%5B33.567738%2C%20-112.09713899999998%5D%2C%20%5B45.656374%2C%20-118.716942%5D%2C%20%5B37.0873%2C%20-76.45721999999998%5D%2C%20%5B37.49998%2C%20-121.9284%5D%2C%20%5B32.70942%2C%20-117.146691%5D%2C%20%5B40.21675%2C%20-76.09056%5D%2C%20%5B38.338776%2C%20-77.489007%5D%2C%20%5B43.12804600000001%2C%20-77.488097%5D%2C%20%5B42.512504%2C%20-79.172531%5D%2C%20%5B41.67214%2C%20-72.82058%5D%2C%20%5B35.85805%2C%20-86.5863%5D%2C%20%5B47.343386%2C%20-122.292585%5D%2C%20%5B34.156612%2C%20-118.260151%5D%2C%20%5B40.837638%2C%20-73.930251%5D%2C%20%5B25.704114%2C%20-80.334288%5D%2C%20%5B34.030393%2C%20-117.619599%5D%2C%20%5B33.866848%2C%20-117.711544%5D%2C%20%5B45.453829%2C%20-122.572686%5D%2C%20%5B28.342265%2C%20-81.37782299999998%5D%2C%20%5B34.032035%2C%20-118.143974%5D%2C%20%5B46.890496%2C%20-102.330511%5D%2C%20%5B37.722908%2C%20-121.10087%5D%2C%20%5B36.05901400000001%2C%20-86.678574%5D%2C%20%5B36.762241%2C%20-119.775658%5D%2C%20%5B28.68764%2C%20-81.38868000000002%5D%2C%20%5B39.18193%2C%20-84.48465%5D%2C%20%5B43.21858%2C%20-87.92130999999998%5D%2C%20%5B30.381245%2C%20-97.685104%5D%2C%20%5B45.51142%2C%20-122.66697%5D%2C%20%5B45.036218%2C%20-120.724268%5D%2C%20%5B40.161195%2C%20-75.479967%5D%2C%20%5B33.782596000000005%2C%20-118.169541%5D%2C%20%5B34.072317%2C%20-118.080797%5D%2C%20%5B32.716982%2C%20-96.803186%5D%2C%20%5B47.08211%2C%20-122.672653%5D%2C%20%5B32.752694%2C%20-96.770638%5D%2C%20%5B34.539739000000004%2C%20-118.122064%5D%2C%20%5B38.142589%2C%20-122.705644%5D%2C%20%5B38.416346%2C%20-119.45%5D%2C%20%5B26.584196%2C%20-81.871972%5D%2C%20%5B32.29526%2C%20-95.301696%5D%2C%20%5B29.716088%2C%20-95.538889%5D%2C%20%5B33.873712%2C%20-118.361357%5D%2C%20%5B40.98989%2C%20-75.63121%5D%2C%20%5B25.81365%2C%20-80.20711999999997%5D%2C%20%5B37.99042%2C%20-122.06747%5D%2C%20%5B32.83316%2C%20-97.061284%5D%2C%20%5B38.236126%2C%20-122.262553%5D%2C%20%5B29.63351%2C%20-81.58861999999998%5D%2C%20%5B33.284398%2C%20-80.515109%5D%2C%20%5B36.80543%2C%20-119.736096%5D%2C%20%5B27.584986%2C%20-82.43690500000002%5D%2C%20%5B28.523983%2C%20-81.845465%5D%2C%20%5B40.812156%2C%20-124.195784%5D%2C%20%5B45.51036%2C%20-92.991875%5D%2C%20%5B40.213757%2C%20-75.142398%5D%2C%20%5B30.189832%2C%20-85.708381%5D%2C%20%5B43.93748%2C%20-91.97109%5D%2C%20%5B32.83317%2C%20-96.61265%5D%2C%20%5B32.899491999999995%2C%20-96.898115%5D%2C%20%5B39.265863%2C%20-76.66725100000002%5D%2C%20%5B25.731812%2C%20-80.335697%5D%2C%20%5B33.934059999999995%2C%20-117.4079%5D%2C%20%5B37.616444%2C%20-122.15718%5D%2C%20%5B39.81022%2C%20-75.35242%5D%2C%20%5B35.23036%2C%20-80.868726%5D%2C%20%5B37.841363%2C%20-122.297042%5D%2C%20%5B41.093289%2C%20-79.225619%5D%2C%20%5B38.880561%2C%20-77.124892%5D%2C%20%5B37.481402%2C%20-122.203608%5D%2C%20%5B36.797171%2C%20-76.148504%5D%2C%20%5B47.013406%2C%20-122.694576%5D%2C%20%5B34.762563%2C%20-92.312117%5D%2C%20%5B32.87376%2C%20-96.52398%5D%2C%20%5B39.788782%2C%20-84.183931%5D%2C%20%5B28.56967%2C%20-81.23272800000002%5D%2C%20%5B41.213359%2C%20-76.98214499999997%5D%2C%20%5B34.013671%2C%20-118.16656299999998%5D%2C%20%5B40.359183%2C%20-122.28368%5D%2C%20%5B45.53028%2C%20-122.68706%5D%2C%20%5B28.47258900000001%2C%20-81.39546899999998%5D%2C%20%5B45.542203%2C%20-122.67313500000002%5D%2C%20%5B35.60230100000001%2C%20-82.35494200000002%5D%2C%20%5B44.913456%2C%20-93.401112%5D%2C%20%5B35.153149%2C%20-90.05653000000002%5D%2C%20%5B43.14745%2C%20-76.11853%5D%2C%20%5B37.826668%2C%20-122.267907%5D%2C%20%5B35.755511%2C%20-118.417359%5D%2C%20%5B41.27453%2C%20-122.298654%5D%2C%20%5B41.281108%2C%20-75.791487%5D%2C%20%5B33.67383%2C%20-117.885775%5D%2C%20%5B27.916448%2C%20-82.754189%5D%2C%20%5B40.61715%2C%20-75.50359%5D%2C%20%5B32.237672%2C%20-90.164945%5D%2C%20%5B40.900398%2C%20-74.145459%5D%2C%20%5B38.01176%2C%20-121.866217%5D%2C%20%5B25.702455%2C%20-80.332105%5D%2C%20%5B38.765977%2C%20-111.468154%5D%2C%20%5B42.25321%2C%20-88.09356%5D%2C%20%5B33.69272%2C%20-84.40366999999998%5D%2C%20%5B39.630565%2C%20-122.006841%5D%2C%20%5B38.782715%2C%20-90.486106%5D%2C%20%5B33.385959%2C%20-111.820171%5D%2C%20%5B25.953452%2C%20-80.205487%5D%2C%20%5B40.783342%2C%20-74.149163%5D%2C%20%5B40.239887%2C%20-74.579697%5D%2C%20%5B41.95881%2C%20-87.7393%5D%2C%20%5B37.31473%2C%20-121.88727%5D%2C%20%5B25.896129%2C%20-80.193887%5D%2C%20%5B30.336015000000003%2C%20-97.702269%5D%2C%20%5B34.407224%2C%20-117.399626%5D%2C%20%5B40.50598%2C%20-111.891278%5D%2C%20%5B33.924934%2C%20-118.103969%5D%2C%20%5B33.858344%2C%20-118.096283%5D%2C%20%5B44.340916%2C%20-92.632094%5D%2C%20%5B37.289816%2C%20-77.390151%5D%2C%20%5B32.780138%2C%20-96.789844%5D%2C%20%5B32.18884%2C%20-83.74826999999998%5D%2C%20%5B39.867539%2C%20-86.047064%5D%2C%20%5B32.813383%2C%20-117.221256%5D%2C%20%5B29.97946%2C%20-95.42199%5D%2C%20%5B40.13213%2C%20-75.115788%5D%2C%20%5B40.630146%2C%20-75.472353%5D%2C%20%5B32.68374%2C%20-96.81489%5D%2C%20%5B33.855515999999994%2C%20-118.203926%5D%2C%20%5B37.92824%2C%20-122.38369%5D%2C%20%5B36.923734%2C%20-120.022147%5D%2C%20%5B35.799823%2C%20-78.357803%5D%2C%20%5B34.788535%2C%20-83.046518%5D%2C%20%5B33.889034%2C%20-84.255427%5D%2C%20%5B45.54137%2C%20-122.47726000000002%5D%2C%20%5B43.660085%2C%20-94.111129%5D%2C%20%5B34.051859%2C%20-117.301692%5D%2C%20%5B26.02809%2C%20-80.16566999999998%5D%2C%20%5B36.955775%2C%20-121.764926%5D%2C%20%5B38.892645%2C%20-77.216717%5D%2C%20%5B43.002923%2C%20-83.709264%5D%2C%20%5B32.668825%2C%20-96.956242%5D%2C%20%5B34.037606%2C%20-118.27739%5D%2C%20%5B28.447068%2C%20-81.470865%5D%2C%20%5B42.828249%2C%20-78.791077%5D%2C%20%5B38.92926%2C%20-77.51890999999998%5D%2C%20%5B45.07582%2C%20-93.337794%5D%2C%20%5B40.714395%2C%20-73.95290899999998%5D%2C%20%5B32.070273%2C%20-81.161369%5D%2C%20%5B25.688265%2C%20-80.32344599999998%5D%2C%20%5B25.763135%2C%20-80.302862%5D%2C%20%5B38.581877%2C%20-121.462963%5D%2C%20%5B39.670718%2C%20-104.829214%5D%2C%20%5B38.003079%2C%20-122.082754%5D%2C%20%5B33.392783%2C%20-80.424631%5D%2C%20%5B32.806086%2C%20-96.708816%5D%2C%20%5B44.97203%2C%20-93.38223%5D%2C%20%5B37.944713%2C%20-122.514715%5D%2C%20%5B40.60767%2C%20-111.90516%5D%2C%20%5B32.924017%2C%20-97.084511%5D%2C%20%5B41.62603%2C%20-87.57908%5D%2C%20%5B34.018461%2C%20-117.340279%5D%2C%20%5B39.705094%2C%20-120.659505%5D%2C%20%5B40.93179%2C%20-73.85673%5D%2C%20%5B29.991238%2C%20-90.058759%5D%2C%20%5B35.16438%2C%20-80.89478000000003%5D%2C%20%5B41.044911%2C%20-73.563777%5D%2C%20%5B37.649326%2C%20-122.091366%5D%2C%20%5B25.894693%2C%20-80.209726%5D%2C%20%5B46.789795%2C%20-93.61389%5D%2C%20%5B42.911274%2C%20-85.608063%5D%2C%20%5B32.480086%2C%20-93.865503%5D%2C%20%5B25.956173%2C%20-80.205572%5D%2C%20%5B44.631861%2C%20-122.870568%5D%2C%20%5B34.273524%2C%20-118.426383%5D%2C%20%5B38.596657%2C%20-121.279319%5D%2C%20%5B37.766861%2C%20-77.46136800000002%5D%2C%20%5B25.760888%2C%20-80.39667299999998%5D%2C%20%5B34.13989%2C%20-80.91402%5D%2C%20%5B39.042995%2C%20-95.671448%5D%2C%20%5B41.658471%2C%20-93.575781%5D%2C%20%5B37.764754%2C%20-121.388133%5D%2C%20%5B28.436917%2C%20-81.404464%5D%2C%20%5B40.395258%2C%20-123.102353%5D%2C%20%5B38.55075%2C%20-121.42342%5D%2C%20%5B33.504228000000005%2C%20-117.152774%5D%2C%20%5B26.324338%2C%20-80.116433%5D%2C%20%5B41.244401%2C%20-76.721228%5D%2C%20%5B33.466974%2C%20-117.670012%5D%2C%20%5B37.357809%2C%20-108.232952%5D%2C%20%5B33.831808%2C%20-81.34879000000002%5D%2C%20%5B41.452907%2C%20-74.372559%5D%2C%20%5B34.201681%2C%20-117.858685%5D%2C%20%5B32.9072%2C%20-96.72877%5D%2C%20%5B39.91708%2C%20-75.36242%5D%2C%20%5B40.268701%2C%20-74.509395%5D%2C%20%5B38.148736%2C%20-122.380732%5D%2C%20%5B39.840221%2C%20-75.405452%5D%2C%20%5B33.38674%2C%20-111.67959%5D%2C%20%5B40.454062%2C%20-111.913976%5D%2C%20%5B29.94195%2C%20-90.0727%5D%2C%20%5B39.443257%2C%20-77.988288%5D%2C%20%5B32.837716%2C%20-86.955875%5D%2C%20%5B40.683692%2C%20-74.389296%5D%2C%20%5B42.58946%2C%20-74.73431%5D%2C%20%5B27.936468%2C%20-82.73042%5D%2C%20%5B35.19424%2C%20-80.878446%5D%2C%20%5B34.368551000000004%2C%20-117.427747%5D%2C%20%5B27.748421%2C%20-80.436295%5D%2C%20%5B35.27480100000001%2C%20-80.766894%5D%2C%20%5B34.876439000000005%2C%20-120.429507%5D%2C%20%5B33.880314%2C%20-78.604457%5D%2C%20%5B30.423001%2C%20-91.139099%5D%2C%20%5B34.14691%2C%20-117.331111%5D%2C%20%5B28.550963%2C%20-81.413641%5D%2C%20%5B34.03842%2C%20-81.0978%5D%2C%20%5B33.986675%2C%20-118.16993%5D%2C%20%5B37.774626%2C%20-122.404289%5D%2C%20%5B26.297345%2C%20-80.121818%5D%2C%20%5B28.45091%2C%20-81.36375%5D%2C%20%5B34.808121%2C%20-82.235284%5D%2C%20%5B43.08715%2C%20-77.63019%5D%2C%20%5B42.03023%2C%20-80.060835%5D%2C%20%5B36.841673%2C%20-79.916503%5D%2C%20%5B38.689759%2C%20-77.220332%5D%2C%20%5B34.743401%2C%20-92.341537%5D%2C%20%5B36.838799%2C%20-76.092134%5D%2C%20%5B35.033659%2C%20-80.805522%5D%2C%20%5B32.74742%2C%20-96.76385%5D%2C%20%5B33.88162%2C%20-117.5785%5D%2C%20%5B33.72006%2C%20-117.720336%5D%2C%20%5B34.121164%2C%20-117.832242%5D%2C%20%5B43.148261%2C%20-93.122499%5D%2C%20%5B40.745899%2C%20-111.726912%5D%2C%20%5B41.70476%2C%20-72.64453%5D%2C%20%5B33.874002000000004%2C%20-78.622254%5D%2C%20%5B39.386726%2C%20-76.731551%5D%2C%20%5B32.80296%2C%20-116.93913%5D%2C%20%5B45.239838%2C%20-123.141297%5D%2C%20%5B39.017417%2C%20-122.057392%5D%2C%20%5B25.671755%2C%20-80.36510799999998%5D%2C%20%5B36.05669%2C%20-79.74732%5D%2C%20%5B34.199199%2C%20-84.451487%5D%2C%20%5B35.514684%2C%20-77.41401%5D%2C%20%5B34.228281%2C%20-118.473043%5D%2C%20%5B38.017951%2C%20-121.894061%5D%2C%20%5B42.137543%2C%20-122.636136%5D%2C%20%5B37.64691%2C%20-77.58298%5D%2C%20%5B39.318823%2C%20-121.104912%5D%2C%20%5B42.850889%2C%20-123.254485%5D%2C%20%5B32.759718%2C%20-97.216267%5D%2C%20%5B30.320919%2C%20-81.711872%5D%2C%20%5B32.760923%2C%20-96.784313%5D%2C%20%5B37.334681%2C%20-80.802392%5D%2C%20%5B44.456879%2C%20-119.426794%5D%2C%20%5B39.44197800000001%2C%20-76.35604599999998%5D%2C%20%5B28.451321000000004%2C%20-81.45925799999998%5D%2C%20%5B36.04545%2C%20-86.70359%5D%2C%20%5B30.181723%2C%20-97.646165%5D%2C%20%5B28.087074%2C%20-82.446641%5D%2C%20%5B41.742371%2C%20-106.767443%5D%2C%20%5B33.73016%2C%20-84.39275%5D%2C%20%5B36.88126%2C%20-76.18684%5D%2C%20%5B29.848227%2C%20-95.318847%5D%2C%20%5B42.73778%2C%20-71.48136%5D%2C%20%5B41.38667%2C%20-73.99774000000002%5D%2C%20%5B34.04569%2C%20-118.21552%5D%2C%20%5B41.040362%2C%20-80.212565%5D%2C%20%5B34.078853%2C%20-117.484285%5D%2C%20%5B34.004767%2C%20-117.881798%5D%2C%20%5B33.67994%2C%20-117.879384%5D%2C%20%5B33.85235%2C%20-117.88198%5D%2C%20%5B39.85183%2C%20-104.98631%5D%2C%20%5B45.580799%2C%20-117.888168%5D%2C%20%5B28.265481%2C%20-82.707351%5D%2C%20%5B34.120090999999995%2C%20-117.782825%5D%2C%20%5B34.48684%2C%20-118.61692%5D%2C%20%5B40.847934%2C%20-73.935634%5D%2C%20%5B27.403321%2C%20-82.45266600000002%5D%2C%20%5B34.523469%2C%20-92.683845%5D%2C%20%5B25.785575%2C%20-80.355626%5D%2C%20%5B36.661346%2C%20-78.899825%5D%2C%20%5B30.884244%2C%20-87.862367%5D%2C%20%5B30.112785%2C%20-97.785283%5D%2C%20%5B34.138952%2C%20-80.50272700000002%5D%2C%20%5B39.868043%2C%20-75.33890600000002%5D%2C%20%5B33.979831%2C%20-118.167377%5D%2C%20%5B25.785322%2C%20-80.368794%5D%2C%20%5B39.42323%2C%20-88.38269%5D%2C%20%5B27.300553000000004%2C%20-82.451621%5D%2C%20%5B39.973593%2C%20-111.338034%5D%2C%20%5B25.82045%2C%20-80.283203%5D%2C%20%5B33.765953%2C%20-117.963134%5D%2C%20%5B33.401425%2C%20-81.42116700000003%5D%2C%20%5B39.77836%2C%20-104.895773%5D%2C%20%5B33.45159%2C%20-112.2035%5D%2C%20%5B45.34572%2C%20-118.16076%5D%2C%20%5B38.896417%2C%20-76.718501%5D%2C%20%5B39.407562%2C%20-77.43435500000002%5D%2C%20%5B40.321857%2C%20-120.398821%5D%2C%20%5B28.03392100000001%2C%20-82.50500500000003%5D%2C%20%5B29.697172%2C%20-95.288392%5D%2C%20%5B33.99712%2C%20-117.8657%5D%2C%20%5B32.171425%2C%20-111.071466%5D%2C%20%5B40.83345%2C%20-73.93165%5D%2C%20%5B32.815521999999994%2C%20-96.78936%5D%2C%20%5B39.30051%2C%20-76.55192%5D%2C%20%5B37.062671%2C%20-121.586157%5D%2C%20%5B33.884896000000005%2C%20-117.633462%5D%2C%20%5B32.442444%2C%20-84.92741600000002%5D%2C%20%5B39.875725%2C%20-75.052596%5D%2C%20%5B34.446512%2C%20-117.451012%5D%2C%20%5B35.38836%2C%20-77.92066%5D%2C%20%5B42.105145%2C%20-121.698454%5D%2C%20%5B33.040240000000004%2C%20-80.15098%5D%2C%20%5B27.7036%2C%20-80.89527%5D%2C%20%5B45.008808%2C%20-93.076332%5D%2C%20%5B45.120924%2C%20-93.049811%5D%2C%20%5B30.44233%2C%20-91.10924%5D%2C%20%5B28.613988%2C%20-81.386901%5D%2C%20%5B36.93891%2C%20-121.45691%5D%2C%20%5B38.407021%2C%20-121.385648%5D%2C%20%5B37.6294%2C%20-77.565044%5D%2C%20%5B34.230854%2C%20-117.296396%5D%2C%20%5B25.923052%2C%20-80.309213%5D%2C%20%5B30.363254%2C%20-97.71767%5D%2C%20%5B42.410348%2C%20-87.878229%5D%2C%20%5B37.372053%2C%20-121.850434%5D%2C%20%5B44.945412%2C%20-122.990128%5D%2C%20%5B45.28542%2C%20-94.07834%5D%2C%20%5B29.918352%2C%20-90.01762%5D%2C%20%5B37.60126%2C%20-77.45425999999998%5D%2C%20%5B45.027596%2C%20-93.286417%5D%2C%20%5B32.841664%2C%20-117.12062%5D%2C%20%5B38.577171%2C%20-121.507769%5D%2C%20%5B36.884654%2C%20-121.560212%5D%2C%20%5B45.53262%2C%20-122.57654%5D%2C%20%5B32.9075%2C%20-96.90488%5D%2C%20%5B37.833222%2C%20-122.294673%5D%2C%20%5B38.80185%2C%20-77.51633000000002%5D%2C%20%5B25.789129%2C%20-80.202057%5D%2C%20%5B40.28137%2C%20-74.69869%5D%2C%20%5B37.300718%2C%20-122.404639%5D%2C%20%5B38.891116%2C%20-77.184937%5D%2C%20%5B34.253658%2C%20-80.08171%5D%2C%20%5B44.627814%2C%20-69.541954%5D%2C%20%5B43.14491%2C%20-87.9153%5D%2C%20%5B34.136274%2C%20-117.424102%5D%2C%20%5B26.97688%2C%20-82.356259%5D%2C%20%5B37.698479%2C%20-121.9413%5D%2C%20%5B36.141299%2C%20-86.731852%5D%2C%20%5B32.624538%2C%20-117.086953%5D%2C%20%5B32.303201%2C%20-95.275981%5D%2C%20%5B35.006518%2C%20-85.519651%5D%2C%20%5B39.49226%2C%20-76.39381%5D%2C%20%5B25.931894%2C%20-80.203648%5D%2C%20%5B39.01855%2C%20-76.97125%5D%2C%20%5B41.85697%2C%20-88.16093000000002%5D%2C%20%5B43.528765%2C%20-95.67741%5D%2C%20%5B38.334897%2C%20-122.738285%5D%2C%20%5B46.118195%2C%20-93.433105%5D%2C%20%5B43.019832%2C%20-76.140328%5D%2C%20%5B43.54283%2C%20-70.43688%5D%2C%20%5B35.82449000000001%2C%20-78.621925%5D%2C%20%5B34.716570000000004%2C%20-82.56312%5D%2C%20%5B34.541495%2C%20-82.673097%5D%2C%20%5B37.948447%2C%20-76.593287%5D%2C%20%5B37.462634%2C%20-76.839111%5D%2C%20%5B26.33658%2C%20-81.75142%5D%2C%20%5B33.919843%2C%20-118.23901200000002%5D%2C%20%5B34.257069%2C%20-80.574735%5D%2C%20%5B33.993598%2C%20-118.17638%5D%2C%20%5B39.10533%2C%20-94.684284%5D%2C%20%5B28.56818%2C%20-81.28602%5D%2C%20%5B40.090592%2C%20-75.9171%5D%2C%20%5B25.859072%2C%20-80.208013%5D%2C%20%5B36.805365%2C%20-119.785425%5D%2C%20%5B25.858411%2C%20-80.207993%5D%2C%20%5B35.91247%2C%20-78.78206999999998%5D%2C%20%5B39.775497%2C%20-105.233768%5D%2C%20%5B39.7365%2C%20-84.20489%5D%2C%20%5B34.493368%2C%20-112.006441%5D%2C%20%5B39.921138%2C%20-75.19386800000002%5D%2C%20%5B33.930325%2C%20-118.376231%5D%2C%20%5B35.249072%2C%20-80.845557%5D%2C%20%5B33.06883%2C%20-117.29324%5D%2C%20%5B42.37685%2C%20-83.03948000000003%5D%2C%20%5B28.32533%2C%20-82.55287%5D%2C%20%5B34.855546999999994%2C%20-82.481541%5D%2C%20%5B26.619269%2C%20-81.73232800000002%5D%2C%20%5B30.42027%2C%20-91.12102%5D%2C%20%5B38.78841%2C%20-75.247548%5D%2C%20%5B36.23873%2C%20-86.77829%5D%2C%20%5B38.008412%2C%20-122.095832%5D%2C%20%5B35.23726%2C%20-80.8536%5D%2C%20%5B30.65181%2C%20-87.76034%5D%2C%20%5B40.10977800000001%2C%20-76.007159%5D%2C%20%5B39.7179%2C%20-83.77571999999998%5D%2C%20%5B34.72878%2C%20-111.70843700000002%5D%2C%20%5B28.03021%2C%20-82.14013%5D%2C%20%5B37.571815%2C%20-122.26426%5D%2C%20%5B37.187486%2C%20-121.688958%5D%2C%20%5B34.012549%2C%20-118.491149%5D%2C%20%5B39.862973%2C%20-104.987702%5D%2C%20%5B33.790971%2C%20-118.287773%5D%2C%20%5B38.93619%2C%20-76.91614%5D%2C%20%5B30.348716%2C%20-97.749653%5D%2C%20%5B47.6033%2C%20-122.32647%5D%2C%20%5B42.211329%2C%20-121.757194%5D%2C%20%5B33.860926%2C%20-118.285367%5D%2C%20%5B32.221151%2C%20-110.969316%5D%2C%20%5B38.167011%2C%20-121.596221%5D%2C%20%5B25.781571%2C%20-80.35316800000003%5D%2C%20%5B40.6908%2C%20-73.58076%5D%2C%20%5B29.588037%2C%20-98.624342%5D%2C%20%5B38.794639%2C%20-77.18612399999998%5D%2C%20%5B43.082395%2C%20-83.694144%5D%2C%20%5B40.62279%2C%20-74.08527%5D%2C%20%5B30.164240000000003%2C%20-97.69301%5D%2C%20%5B37.841185%2C%20-121.285414%5D%2C%20%5B44.965807%2C%20-93.260504%5D%2C%20%5B28.369821%2C%20-81.397522%5D%2C%20%5B37.248576%2C%20-80.204948%5D%2C%20%5B45.602522%2C%20-122.678916%5D%2C%20%5B40.638802%2C%20-122.240026%5D%2C%20%5B30.346940000000004%2C%20-91.14879%5D%2C%20%5B39.37207100000001%2C%20-85.942429%5D%2C%20%5B33.870401%2C%20-117.744465%5D%2C%20%5B36.371807%2C%20-119.73595%5D%2C%20%5B38.522472%2C%20-121.52158%5D%2C%20%5B41.40196%2C%20-88.19339000000002%5D%2C%20%5B33.974776%2C%20-118.256403%5D%2C%20%5B27.821137%2C%20-82.678503%5D%2C%20%5B29.39608%2C%20-98.515664%5D%2C%20%5B40.742022%2C%20-73.83930699999998%5D%2C%20%5B37.550172%2C%20-77.436211%5D%2C%20%5B29.0948%2C%20-82.24142900000002%5D%2C%20%5B42.384942%2C%20-83.28950999999998%5D%2C%20%5B38.923738%2C%20-77.029718%5D%2C%20%5B35.231534%2C%20-80.833078%5D%2C%20%5B38.981972%2C%20-76.988814%5D%2C%20%5B39.509343%2C%20-76.163492%5D%2C%20%5B33.49855%2C%20-112.11305%5D%2C%20%5B38.975101%2C%20-76.98733%5D%2C%20%5B39.823007%2C%20-75.233644%5D%2C%20%5B34.152522%2C%20-118.118401%5D%2C%20%5B28.551790000000004%2C%20-81.484202%5D%2C%20%5B42.3244%2C%20-88.15259%5D%2C%20%5B30.48591%2C%20-81.642907%5D%2C%20%5B45.54104%2C%20-122.69858%5D%2C%20%5B40.62089%2C%20-111.91025%5D%2C%20%5B38.887835%2C%20-112.830094%5D%2C%20%5B42.985026%2C%20-85.681803%5D%2C%20%5B37.346909%2C%20-121.858843%5D%2C%20%5B37.780877%2C%20-121.186956%5D%2C%20%5B28.237192%2C%20-82.356964%5D%2C%20%5B40.08355%2C%20-75.254462%5D%2C%20%5B27.820985%2C%20-82.725589%5D%2C%20%5B34.329251%2C%20-97.154057%5D%2C%20%5B25.890198%2C%20-80.188048%5D%2C%20%5B39.84574%2C%20-84.42857%5D%2C%20%5B40.831808%2C%20-77.881516%5D%2C%20%5B37.31467%2C%20-121.82768%5D%2C%20%5B45.935827%2C%20-123.918168%5D%2C%20%5B41.983834%2C%20-80.288525%5D%2C%20%5B36.596452%2C%20-120.061417%5D%2C%20%5B40.920332%2C%20-124.096845%5D%2C%20%5B37.905982%2C%20-121.874104%5D%2C%20%5B29.699152%2C%20-95.418326%5D%2C%20%5B45.44750300000001%2C%20-92.989157%5D%2C%20%5B25.760961%2C%20-80.56277800000002%5D%2C%20%5B45.364447%2C%20-122.604449%5D%2C%20%5B40.042816%2C%20-111.745859%5D%2C%20%5B25.968747%2C%20-80.165592%5D%2C%20%5B43.920855%2C%20-91.391312%5D%2C%20%5B25.699202%2C%20-80.382118%5D%2C%20%5B38.097381%2C%20-78.483816%5D%2C%20%5B32.385913%2C%20-93.816957%5D%2C%20%5B38.872213%2C%20-77.043171%5D%2C%20%5B37.903864%2C%20-122.312909%5D%2C%20%5B42.78064000000001%2C%20-86.10894%5D%2C%20%5B40.665732%2C%20-73.74966500000002%5D%2C%20%5B38.029616%2C%20-112.53103%5D%2C%20%5B44.295598%2C%20-75.974739%5D%2C%20%5B35.057181%2C%20-81.65238199999997%5D%2C%20%5B30.32089%2C%20-81.70087%5D%2C%20%5B41.21244%2C%20-96.08253%5D%2C%20%5B36.140601%2C%20-86.732024%5D%2C%20%5B38.283929%2C%20-122.685578%5D%2C%20%5B38.962102%2C%20-76.099436%5D%2C%20%5B33.215598%2C%20-111.789172%5D%2C%20%5B38.944385%2C%20-121.046495%5D%2C%20%5B39.04185800000001%2C%20-108.548909%5D%2C%20%5B44.17099%2C%20-93.8958%5D%2C%20%5B36.846001%2C%20-76.183213%5D%2C%20%5B38.455532%2C%20-77.409089%5D%2C%20%5B37.140598%2C%20-121.667888%5D%2C%20%5B39.802404%2C%20-86.078664%5D%2C%20%5B27.388990000000003%2C%20-82.505567%5D%2C%20%5B47.335801%2C%20-122.603941%5D%2C%20%5B35.844561%2C%20-78.680376%5D%2C%20%5B30.407999%2C%20-97.745543%5D%2C%20%5B34.08745%2C%20-117.65527%5D%2C%20%5B42.92202%2C%20-71.37586%5D%2C%20%5B37.398539%2C%20-122.256151%5D%2C%20%5B42.646559%2C%20-84.072603%5D%2C%20%5B26.0336%2C%20-80.14331%5D%2C%20%5B33.825357000000004%2C%20-118.218449%5D%2C%20%5B30.496565000000004%2C%20-87.24702099999998%5D%2C%20%5B38.23128300000001%2C%20-122.111905%5D%2C%20%5B27.899826%2C%20-82.639138%5D%2C%20%5B41.652635%2C%20-93.570481%5D%2C%20%5B33.938355%2C%20-118.36678700000002%5D%2C%20%5B44.757368%2C%20-93.251953%5D%2C%20%5B42.86522%2C%20-85.87113000000002%5D%2C%20%5B28.151748%2C%20-81.268536%5D%2C%20%5B44.911272%2C%20-93.509612%5D%2C%20%5B25.816086%2C%20-80.206008%5D%2C%20%5B26.177011%2C%20-81.736012%5D%2C%20%5B34.147022%2C%20-118.781064%5D%2C%20%5B40.015461%2C%20-75.306084%5D%2C%20%5B38.59343%2C%20-121.17874%5D%2C%20%5B25.940961%2C%20-80.205035%5D%2C%20%5B37.297629%2C%20-121.811631%5D%2C%20%5B36.09381%2C%20-94.19004%5D%2C%20%5B34.704555%2C%20-117.203575%5D%2C%20%5B26.591666%2C%20-80.069271%5D%2C%20%5B47.185554%2C%20-122.46361%5D%2C%20%5B28.25538%2C%20-81.62451%5D%2C%20%5B37.28544%2C%20-121.80955%5D%2C%20%5B40.72607%2C%20-111.96291%5D%2C%20%5B38.639547%2C%20-121.355474%5D%2C%20%5B27.939767%2C%20-82.285787%5D%2C%20%5B28.817707%2C%20-82.018314%5D%2C%20%5B43.04456%2C%20-89.32753000000002%5D%2C%20%5B32.75953%2C%20-97.099596%5D%2C%20%5B28.372396%2C%20-81.425653%5D%2C%20%5B45.38085%2C%20-122.58032%5D%2C%20%5B33.893034%2C%20-118.272107%5D%2C%20%5B29.721446000000004%2C%20-95.266072%5D%2C%20%5B41.80574%2C%20-87.61648000000002%5D%2C%20%5B34.046279%2C%20-118.215187%5D%2C%20%5B28.58881%2C%20-81.46784%5D%2C%20%5B39.051798%2C%20-94.498477%5D%2C%20%5B38.634083%2C%20-121.380209%5D%2C%20%5B37.840729%2C%20-122.297221%5D%2C%20%5B43.051561%2C%20-112.407465%5D%2C%20%5B45.457658%2C%20-92.99254%5D%2C%20%5B40.96838%2C%20-111.89117%5D%2C%20%5B40.2071%2C%20-122.24575%5D%2C%20%5B25.949889%2C%20-80.182288%5D%2C%20%5B41.679457%2C%20-122.716553%5D%2C%20%5B25.927407%2C%20-80.215583%5D%2C%20%5B37.42528%2C%20-122.09804%5D%2C%20%5B33.91581%2C%20-84.40314000000002%5D%2C%20%5B44.79232%2C%20-122.61626%5D%2C%20%5B33.897899%2C%20-118.26527%5D%2C%20%5B33.138413%2C%20-117.331472%5D%2C%20%5B39.806553%2C%20-86.06212099999998%5D%2C%20%5B39.4308%2C%20-87.34003100000002%5D%2C%20%5B41.074157%2C%20-85.13683%5D%2C%20%5B28.603267%2C%20-81.312722%5D%2C%20%5B29.29713%2C%20-82.307902%5D%2C%20%5B43.01071%2C%20-83.670277%5D%2C%20%5B38.481795%2C%20-120.844832%5D%2C%20%5B34.153690000000005%2C%20-118.32574%5D%2C%20%5B39.229227%2C%20-76.664904%5D%2C%20%5B40.30774%2C%20-111.72573%5D%2C%20%5B26.281234%2C%20-80.125031%5D%2C%20%5B42.929831%2C%20-85.666794%5D%2C%20%5B38.63444000000001%2C%20-121.21041%5D%2C%20%5B37.627648%2C%20-122.081719%5D%2C%20%5B41.483821%2C%20-73.627183%5D%2C%20%5B33.9725%2C%20-118.07399%5D%2C%20%5B26.94678%2C%20-82.21576999999998%5D%2C%20%5B35.119576%2C%20-80.88124599999998%5D%2C%20%5B26.05412%2C%20-80.162035%5D%2C%20%5B26.552090000000003%2C%20-81.79522%5D%2C%20%5B37.361276%2C%20-121.877349%5D%2C%20%5B40.599%2C%20-111.34128%5D%2C%20%5B35.51065999999999%2C%20-82.57875899999998%5D%2C%20%5B33.39191%2C%20-111.89155%5D%2C%20%5B25.910107%2C%20-80.16834899999998%5D%2C%20%5B44.645634%2C%20-93.295857%5D%2C%20%5B33.547286%2C%20-117.673043%5D%2C%20%5B40.004349%2C%20-76.102537%5D%2C%20%5B25.866967%2C%20-80.323114%5D%2C%20%5B38.51743%2C%20-121.435673%5D%2C%20%5B39.6995%2C%20-75.14981999999998%5D%2C%20%5B41.146062%2C%20-111.920481%5D%2C%20%5B38.42692%2C%20-122.71515%5D%2C%20%5B34.55185%2C%20-112.41092%5D%2C%20%5B43.644688%2C%20-123.52876299999998%5D%2C%20%5B37.259455%2C%20-121.952995%5D%2C%20%5B43.704497%2C%20-73.505225%5D%2C%20%5B40.98397%2C%20-73.688007%5D%2C%20%5B40.02435%2C%20-75.22635%5D%2C%20%5B32.748132%2C%20-117.20364%5D%2C%20%5B34.735446%2C%20-86.646928%5D%2C%20%5B26.043436%2C%20-80.16287700000002%5D%2C%20%5B39.007747%2C%20-122.814474%5D%2C%20%5B39.225836%2C%20-76.845792%5D%2C%20%5B43.657318%2C%20-116.655954%5D%2C%20%5B33.873477%2C%20-118.193472%5D%2C%20%5B39.300074%2C%20-123.28888%5D%2C%20%5B30.37311%2C%20-87.17702%5D%2C%20%5B29.70974600000001%2C%20-95.515684%5D%2C%20%5B44.950757%2C%20-93.105954%5D%2C%20%5B47.24101%2C%20-122.38043%5D%2C%20%5B37.765766%2C%20-121.345187%5D%2C%20%5B38.666345%2C%20-121.341285%5D%2C%20%5B34.031792%2C%20-118.180145%5D%2C%20%5B27.594361%2C%20-81.439799%5D%2C%20%5B36.34158%2C%20-119.807968%5D%2C%20%5B44.471876%2C%20-93.290806%5D%2C%20%5B42.334474%2C%20-79.590743%5D%2C%20%5B38.111187%2C%20-78.47855%5D%2C%20%5B36.760269%2C%20-119.775338%5D%2C%20%5B40.460492%2C%20-111.465576%5D%2C%20%5B30.141029%2C%20-82.634529%5D%2C%20%5B40.039637%2C%20-75.49161%5D%2C%20%5B32.717913%2C%20-96.828292%5D%2C%20%5B35.025125%2C%20-85.375111%5D%2C%20%5B37.476476%2C%20-77.429744%5D%2C%20%5B34.029990000000005%2C%20-117.580393%5D%2C%20%5B42.056443%2C%20-87.759718%5D%2C%20%5B38.525245%2C%20-121.370234%5D%2C%20%5B28.450781%2C%20-81.477807%5D%2C%20%5B33.560384%2C%20-81.809374%5D%2C%20%5B38.160634%2C%20-121.39941%5D%2C%20%5B32.17787%2C%20-110.931145%5D%2C%20%5B46.762822%2C%20-92.125264%5D%2C%20%5B35.81110800000001%2C%20-78.602633%5D%2C%20%5B41.648403%2C%20-104.845329%5D%2C%20%5B25.92744%2C%20-80.2065%5D%2C%20%5B29.927839%2C%20-90.073696%5D%2C%20%5B32.1952%2C%20-110.8925%5D%2C%20%5B40.149224%2C%20-117.11474%5D%2C%20%5B25.94174%2C%20-80.205074%5D%2C%20%5B45.228152%2C%20-123.074853%5D%2C%20%5B45.00746%2C%20-93.401%5D%2C%20%5B37.699589%2C%20-121.070831%5D%2C%20%5B34.23441%2C%20-118.28498%5D%2C%20%5B42.92103400000001%2C%20-119.999873%5D%2C%20%5B29.721681%2C%20-95.51401%5D%2C%20%5B39.663991%2C%20-84.235129%5D%2C%20%5B32.752906%2C%20-96.771284%5D%2C%20%5B33.85412%2C%20-117.95422%5D%2C%20%5B38.529771%2C%20-85.77467299999998%5D%2C%20%5B38.572133%2C%20-121.413204%5D%2C%20%5B33.957387%2C%20-117.860631%5D%2C%20%5B32.423805%2C%20-80.749346%5D%2C%20%5B33.669437%2C%20-112.098237%5D%2C%20%5B38.47495900000001%2C%20-77.401519%5D%2C%20%5B35.055044%2C%20-90.691741%5D%2C%20%5B42.4096%2C%20-87.82481999999996%5D%2C%20%5B41.101881%2C%20-73.434665%5D%2C%20%5B33.54374%2C%20-117.17737%5D%2C%20%5B34.523469%2C%20-92.683845%5D%2C%20%5B33.43895%2C%20-117.62301%5D%2C%20%5B44.287059%2C%20-118.97743%5D%2C%20%5B40.046136%2C%20-122.213492%5D%2C%20%5B42.30556%2C%20-87.95983000000004%5D%2C%20%5B37.14435%2C%20-121.98468%5D%2C%20%5B36.521054%2C%20-119.56512%5D%2C%20%5B40.60416%2C%20-74.47451%5D%2C%20%5B36.604874%2C%20-119.547862%5D%2C%20%5B34.626586%2C%20-82.779824%5D%2C%20%5B33.84573%2C%20-117.95899%5D%2C%20%5B38.091955%2C%20-122.230198%5D%2C%20%5B30.004074%2C%20-90.035709%5D%2C%20%5B36.191717%2C%20-81.653989%5D%2C%20%5B44.098045%2C%20-117.037467%5D%2C%20%5B32.360841%2C%20-86.175405%5D%2C%20%5B36.988552%2C%20-121.956087%5D%2C%20%5B44.17881%2C%20-123.060416%5D%2C%20%5B33.877283%2C%20-118.136956%5D%2C%20%5B36.680256%2C%20-121.64196499999998%5D%2C%20%5B35.207029%2C%20-120.62893400000002%5D%2C%20%5B37.40793%2C%20-122.004262%5D%2C%20%5B34.321627%2C%20-119.389448%5D%2C%20%5B33.923685%2C%20-78.769072%5D%2C%20%5B28.47906%2C%20-81.44622%5D%2C%20%5B42.33422%2C%20-87.87165%5D%2C%20%5B37.752231%2C%20-77.850934%5D%2C%20%5B33.74136%2C%20-84.40658%5D%2C%20%5B41.68002%2C%20-72.81786%5D%2C%20%5B25.559805%2C%20-80.386901%5D%2C%20%5B25.939205%2C%20-80.294666%5D%2C%20%5B40.80200900000001%2C%20-73.91683%5D%2C%20%5B30.563581%2C%20-83.63734000000002%5D%2C%20%5B34.215657%2C%20-119.026443%5D%2C%20%5B32.931756%2C%20-80.704574%5D%2C%20%5B40.762914%2C%20-111.94923500000002%5D%2C%20%5B25.780506%2C%20-80.328514%5D%2C%20%5B35.3916%2C%20-97.49443%5D%2C%20%5B37.5103%2C%20-77.47465%5D%2C%20%5B41.08205%2C%20-95.92801%5D%2C%20%5B33.82992%2C%20-84.4255%5D%2C%20%5B39.09757000000001%2C%20-84.51666%5D%2C%20%5B38.12916%2C%20-77.51255%5D%2C%20%5B34.058719%2C%20-81.742492%5D%2C%20%5B37.501286%2C%20-80.11189499999998%5D%2C%20%5B40.905955%2C%20-74.161559%5D%2C%20%5B40.20952%2C%20-75.45329%5D%2C%20%5B33.645225%2C%20-81.724902%5D%2C%20%5B33.868821000000004%2C%20-117.730125%5D%2C%20%5B33.614301%2C%20-117.700273%5D%2C%20%5B25.598647%2C%20-80.35255699999998%5D%2C%20%5B30.513586%2C%20-87.21821%5D%2C%20%5B35.781687%2C%20-83.10926500000002%5D%2C%20%5B35.780829%2C%20-78.569251%5D%2C%20%5B39.04503%2C%20-94.47577%5D%2C%20%5B34.430372%2C%20-117.377659%5D%2C%20%5B38.48569000000001%2C%20-90.76409%5D%2C%20%5B36.735341%2C%20-119.907674%5D%2C%20%5B47.81046%2C%20-122.298369%5D%2C%20%5B32.751596%2C%20-117.155884%5D%2C%20%5B42.63432%2C%20-73.55351999999998%5D%2C%20%5B44.946118%2C%20-118.995377%5D%2C%20%5B34.29195%2C%20-118.41168600000002%5D%2C%20%5B39.202169%2C%20-76.757631%5D%2C%20%5B44.712803%2C%20-93.422955%5D%2C%20%5B40.691928%2C%20-73.810723%5D%2C%20%5B35.332213%2C%20-119.00308%5D%2C%20%5B28.750784000000003%2C%20-82.296992%5D%2C%20%5B30.151446000000004%2C%20-82.03293599999998%5D%2C%20%5B45.82826%2C%20-94.292639%5D%2C%20%5B28.487019%2C%20-81.427555%5D%2C%20%5B33.939249%2C%20-118.352719%5D%2C%20%5B34.087992%2C%20-118.309153%5D%2C%20%5B45.051015%2C%20-107.33671499999998%5D%2C%20%5B35.691318%2C%20-97.012914%5D%2C%20%5B36.725785%2C%20-119.235814%5D%2C%20%5B25.851613%2C%20-80.208145%5D%2C%20%5B47.002342%2C%20-93.224667%5D%2C%20%5B33.15456%2C%20-87.591837%5D%2C%20%5B39.21441%2C%20-110.99996000000002%5D%2C%20%5B35.82295%2C%20-78.622359%5D%2C%20%5B33.200524%2C%20-87.575485%5D%2C%20%5B39.038014%2C%20-76.487689%5D%2C%20%5B32.727253999999995%2C%20-97.508272%5D%2C%20%5B44.81916500000001%2C%20-122.799929%5D%2C%20%5B33.470733%2C%20-117.137334%5D%2C%20%5B40.740162%2C%20-74.06460899999998%5D%2C%20%5B30.418074%2C%20-91.089402%5D%2C%20%5B35.415775%2C%20-82.52243399999998%5D%2C%20%5B32.650106%2C%20-96.774636%5D%2C%20%5B42.38539%2C%20-83.25491%5D%2C%20%5B40.785251%2C%20-73.44494399999998%5D%2C%20%5B38.82477100000001%2C%20-109.781581%5D%2C%20%5B36.216213%2C%20-86.77528000000002%5D%2C%20%5B27.444308000000003%2C%20-82.468968%5D%2C%20%5B40.72151%2C%20-111.90584%5D%2C%20%5B28.61099%2C%20-81.3867%5D%2C%20%5B32.817059%2C%20-96.817289%5D%2C%20%5B35.753791%2C%20-78.64912%5D%2C%20%5B27.235423%2C%20-81.89173100000002%5D%2C%20%5B40.159578%2C%20-77.817494%5D%2C%20%5B44.927241%2C%20-93.349545%5D%2C%20%5B28.52312%2C%20-82.3031%5D%2C%20%5B37.62580300000001%2C%20-120.948322%5D%2C%20%5B32.715707%2C%20-90.047758%5D%2C%20%5B41.8528%2C%20-87.631208%5D%2C%20%5B39.420694%2C%20-76.64485%5D%2C%20%5B33.018124%2C%20-117.115283%5D%2C%20%5B32.82414%2C%20-97.29043%5D%2C%20%5B40.480747%2C%20-122.29572%5D%2C%20%5B30.452993%2C%20-87.25967800000002%5D%2C%20%5B25.570806%2C%20-80.377111%5D%2C%20%5B39.88367%2C%20-75.10333299999998%5D%2C%20%5B28.076173%2C%20-82.354019%5D%2C%20%5B27.777390000000004%2C%20-82.67953299999998%5D%2C%20%5B44.95245%2C%20-92.95853%5D%2C%20%5B30.288952%2C%20-81.97868199999998%5D%2C%20%5B29.37484000000001%2C%20-98.51452%5D%2C%20%5B33.988336%2C%20-117.905669%5D%2C%20%5B34.701089%2C%20-82.170738%5D%2C%20%5B33.39233%2C%20-117.17417%5D%2C%20%5B33.762233%2C%20-117.831118%5D%2C%20%5B41.64467%2C%20-85.17475%5D%2C%20%5B34.148456%2C%20-79.33764599999998%5D%2C%20%5B28.23193%2C%20-81.65016%5D%2C%20%5B35.186084%2C%20-80.730411%5D%2C%20%5B43.153449%2C%20-76.35861700000002%5D%2C%20%5B25.769371%2C%20-80.361049%5D%2C%20%5B30.475009000000004%2C%20-87.255988%5D%2C%20%5B34.836665999999994%2C%20-82.533324%5D%2C%20%5B35.914823%2C%20-84.106363%5D%2C%20%5B28.56107%2C%20-81.27776%5D%2C%20%5B33.80084%2C%20-118.20708%5D%2C%20%5B34.251670000000004%2C%20-81.59626%5D%2C%20%5B33.536442%2C%20-117.674614%5D%2C%20%5B42.51719%2C%20-83.60956999999998%5D%2C%20%5B29.574875%2C%20-81.6321%5D%2C%20%5B40.664895%2C%20-73.996599%5D%2C%20%5B34.136165000000005%2C%20-117.57586%5D%2C%20%5B29.93772%2C%20-90.06246999999998%5D%2C%20%5B40.29179%2C%20-75.402433%5D%2C%20%5B37.62053%2C%20-77.58431999999998%5D%2C%20%5B37.564835%2C%20-120.170311%5D%2C%20%5B30.532228000000003%2C%20-87.221343%5D%2C%20%5B35.115882%2C%20-80.924222%5D%2C%20%5B39.31035%2C%20-76.64817%5D%2C%20%5B41.825197%2C%20-83.68334399999998%5D%2C%20%5B36.11893%2C%20-95.83327%5D%2C%20%5B37.14623%2C%20-121.98619%5D%2C%20%5B34.428222%2C%20-117.172555%5D%2C%20%5B36.70876%2C%20-81.947007%5D%2C%20%5B40.975495%2C%20-122.432981%5D%2C%20%5B37.276942%2C%20-121.805518%5D%2C%20%5B33.87325%2C%20-118.060137%5D%2C%20%5B26.554509000000003%2C%20-81.871788%5D%2C%20%5B33.888689%2C%20-118.192819%5D%2C%20%5B28.375542%2C%20-82.682563%5D%2C%20%5B33.847939000000004%2C%20-117.871587%5D%2C%20%5B39.928667%2C%20-75.196568%5D%2C%20%5B38.88350300000001%2C%20-121.107144%5D%2C%20%5B42.46445%2C%20-87.85514%5D%2C%20%5B33.003948%2C%20-117.258111%5D%2C%20%5B39.803552%2C%20-86.031977%5D%2C%20%5B39.44422%2C%20-84.33357%5D%2C%20%5B34.024855%2C%20-117.750702%5D%2C%20%5B33.866577%2C%20-117.764813%5D%2C%20%5B42.78222%2C%20-85.83187%5D%2C%20%5B42.757886%2C%20-73.73859300000002%5D%2C%20%5B39.294273%2C%20-81.494007%5D%2C%20%5B33.657476%2C%20-112.232263%5D%2C%20%5B45.324021%2C%20-105.171529%5D%2C%20%5B43.05417%2C%20-76.15561%5D%2C%20%5B33.149814%2C%20-117.161874%5D%2C%20%5B42.96849%2C%20-85.58534%5D%2C%20%5B25.636913%2C%20-80.317511%5D%2C%20%5B36.8387%2C%20-76.15973000000002%5D%2C%20%5B37.92842%2C%20-122.38362%5D%2C%20%5B35.26443%2C%20-80.84297%5D%2C%20%5B35.64270399999999%2C%20-117.754199%5D%2C%20%5B45.226253%2C%20-93.027961%5D%2C%20%5B32.72374%2C%20-117.102747%5D%2C%20%5B41.520375%2C%20-74.001417%5D%2C%20%5B26.677177%2C%20-81.81116800000002%5D%2C%20%5B44.957163%2C%20-93.195692%5D%2C%20%5B37.506967%2C%20-121.966757%5D%2C%20%5B28.261524%2C%20-81.342271%5D%2C%20%5B39.62872%2C%20-84.225993%5D%2C%20%5B29.717718%2C%20-95.5377%5D%2C%20%5B43.20382%2C%20-77.67689%5D%2C%20%5B40.007539%2C%20-75.748125%5D%2C%20%5B39.78375%2C%20-75.10207%5D%2C%20%5B29.869669%2C%20-82.541881%5D%2C%20%5B25.964%2C%20-80.186545%5D%2C%20%5B34.655355%2C%20-120.53681%5D%2C%20%5B34.804155%2C%20-82.373181%5D%2C%20%5B39.323453%2C%20-120.379259%5D%2C%20%5B30.442422%2C%20-91.146542%5D%2C%20%5B34.14033%2C%20-118.014549%5D%2C%20%5B39.969044%2C%20-74.90910799999997%5D%2C%20%5B27.448743%2C%20-82.575404%5D%2C%20%5B29.736733%2C%20-95.500827%5D%2C%20%5B45.56271%2C%20-122.6307%5D%2C%20%5B36.327985%2C%20-119.600921%5D%2C%20%5B40.31586%2C%20-111.72587%5D%2C%20%5B37.53961%2C%20-77.42778%5D%2C%20%5B34.048535%2C%20-117.418183%5D%2C%20%5B42.996071%2C%20-78.932213%5D%2C%20%5B34.65625900000001%2C%20-82.56376999999998%5D%2C%20%5B30.020912%2C%20-90.034941%5D%2C%20%5B34.117489%2C%20-117.84632%5D%2C%20%5B38.452537%2C%20-121.37337%5D%2C%20%5B40.77809%2C%20-73.6249%5D%2C%20%5B35.015991%2C%20-85.254195%5D%2C%20%5B25.814207%2C%20-80.240513%5D%2C%20%5B34.365024%2C%20-118.50346299999998%5D%2C%20%5B35.787481%2C%20-78.574272%5D%2C%20%5B30.188444%2C%20-85.760875%5D%2C%20%5B28.550956%2C%20-81.594132%5D%2C%20%5B46.833901%2C%20-100.773058%5D%2C%20%5B39.809984%2C%20-84.22541600000002%5D%2C%20%5B27.14288%2C%20-82.41454%5D%2C%20%5B25.822576%2C%20-80.206568%5D%2C%20%5B36.025374%2C%20-95.879157%5D%2C%20%5B36.046432%2C%20-86.660703%5D%2C%20%5B41.560789%2C%20-71.489695%5D%2C%20%5B25.941524%2C%20-80.225258%5D%2C%20%5B40.140676%2C%20-75.115779%5D%2C%20%5B39.31216%2C%20-76.74450999999998%5D%2C%20%5B29.413232%2C%20-98.506088%5D%2C%20%5B29.761999%2C%20-90.832867%5D%2C%20%5B41.14597%2C%20-73.25958299999998%5D%2C%20%5B35.40474000000001%2C%20-80.696114%5D%2C%20%5B38.522472%2C%20-121.52158%5D%2C%20%5B33.89865%2C%20-84.47028%5D%2C%20%5B44.946116%2C%20-93.400463%5D%2C%20%5B25.823882%2C%20-80.24219699999998%5D%2C%20%5B38.00458%2C%20-120.308454%5D%2C%20%5B35.31939000000001%2C%20-112.88798%5D%2C%20%5B34.156890000000004%2C%20-118.37925%5D%2C%20%5B32.475219%2C%20-93.797228%5D%2C%20%5B42.429853%2C%20-123.093577%5D%2C%20%5B28.492141%2C%20-81.458805%5D%2C%20%5B47.203799%2C%20-122.251385%5D%2C%20%5B33.515192%2C%20-83.69335799999998%5D%2C%20%5B33.61484%2C%20-117.70757%5D%2C%20%5B41.303631%2C%20-73.034246%5D%2C%20%5B32.46958%2C%20-96.83914%5D%2C%20%5B46.693009%2C%20-112.200804%5D%2C%20%5B29.520427%2C%20-98.498969%5D%2C%20%5B37.180382%2C%20-76.55426%5D%2C%20%5B28.699252%2C%20-81.346517%5D%2C%20%5B28.466733%2C%20-81.276549%5D%2C%20%5B47.835255%2C%20-94.268628%5D%2C%20%5B36.96673%2C%20-76.294566%5D%2C%20%5B42.298521%2C%20-88.179324%5D%2C%20%5B45.418392%2C%20-93.917752%5D%2C%20%5B26.581406%2C%20-82.006962%5D%2C%20%5B39.413163%2C%20-76.60397900000002%5D%2C%20%5B32.710929%2C%20-96.67938%5D%2C%20%5B46.18907%2C%20-123.833769%5D%2C%20%5B34.224255%2C%20-119.155695%5D%2C%20%5B39.01608%2C%20-77.01541%5D%2C%20%5B33.88001%2C%20-117.60802%5D%2C%20%5B38.70182%2C%20-90.26702%5D%2C%20%5B42.381187%2C%20-122.90741%5D%2C%20%5B43.13092%2C%20-77.45092%5D%2C%20%5B38.441172%2C%20-82.127577%5D%2C%20%5B45.44502%2C%20-122.736852%5D%2C%20%5B33.179763%2C%20-117.310625%5D%2C%20%5B27.926269%2C%20-82.350356%5D%2C%20%5B37.67138%2C%20-77.4609%5D%2C%20%5B41.81335%2C%20-87.6297%5D%2C%20%5B38.690529%2C%20-120.943032%5D%2C%20%5B33.641546000000005%2C%20-117.176396%5D%2C%20%5B37.3341%2C%20-122.06485%5D%2C%20%5B30.271065000000004%2C%20-82.773824%5D%2C%20%5B26.109285%2C%20-80.25034000000002%5D%2C%20%5B34.78945%2C%20-82.41606%5D%2C%20%5B45.554412%2C%20-122.566448%5D%2C%20%5B32.326559%2C%20-111.209498%5D%2C%20%5B34.216738%2C%20-117.288084%5D%2C%20%5B32.60445%2C%20-117.090976%5D%2C%20%5B33.974727%2C%20-118.231482%5D%2C%20%5B44.726239%2C%20-122.252324%5D%2C%20%5B40.83565%2C%20-73.86836%5D%2C%20%5B28.332742%2C%20-81.58758900000002%5D%2C%20%5B37.588666%2C%20-122.053906%5D%2C%20%5B48.016581%2C%20-114.224556%5D%2C%20%5B42.2405%2C%20-87.96452%5D%2C%20%5B25.716935%2C%20-80.431289%5D%2C%20%5B47.441187%2C%20-122.217454%5D%2C%20%5B38.6342%2C%20-90.02778%5D%2C%20%5B26.433208%2C%20-80.089863%5D%2C%20%5B37.576295%2C%20-79.645983%5D%2C%20%5B29.695298%2C%20-95.55717%5D%2C%20%5B27.719416%2C%20-82.662239%5D%2C%20%5B33.977391%2C%20-118.22522%5D%2C%20%5B39.013052%2C%20-77.133257%5D%2C%20%5B42.157212%2C%20-79.88417700000002%5D%2C%20%5B27.98147%2C%20-82.45113%5D%2C%20%5B42.464109%2C%20-123.321796%5D%2C%20%5B32.134011%2C%20-110.949114%5D%2C%20%5B34.0373%2C%20-118.29743%5D%2C%20%5B37.93065900000001%2C%20-121.296045%5D%2C%20%5B32.37505%2C%20-111.12738%5D%2C%20%5B42.473112%2C%20-73.806034%5D%2C%20%5B45.524135%2C%20-122.56516%5D%2C%20%5B37.7182%2C%20-121.66403%5D%2C%20%5B37.985249%2C%20-122.524205%5D%2C%20%5B38.56057%2C%20-121.45827%5D%2C%20%5B34.066444%2C%20-81.035156%5D%2C%20%5B36.82912%2C%20-76.31083000000002%5D%2C%20%5B37.594642%2C%20-77.566247%5D%2C%20%5B32.633629%2C%20-96.857168%5D%2C%20%5B28.357378000000004%2C%20-81.494599%5D%2C%20%5B47.4986%2C%20-92.88247%5D%2C%20%5B25.685462%2C%20-80.415318%5D%2C%20%5B34.12085%2C%20-117.87932%5D%2C%20%5B28.53511%2C%20-81.3918%5D%2C%20%5B33.64888%2C%20-112.11483%5D%2C%20%5B42.3231%2C%20-83.44412%5D%2C%20%5B47.545642%2C%20-122.328534%5D%2C%20%5B38.617554%2C%20-90.191198%5D%2C%20%5B39.852453%2C%20-122.152559%5D%2C%20%5B36.67927%2C%20-80.696569%5D%2C%20%5B40.72826%2C%20-73.97163%5D%2C%20%5B39.782247%2C%20-86.03187%5D%2C%20%5B29.736744%2C%20-95.5671%5D%2C%20%5B30.688095%2C%20-88.041297%5D%2C%20%5B42.910567%2C%20-85.665872%5D%2C%20%5B25.684604%2C%20-80.400559%5D%2C%20%5B32.17352%2C%20-110.98543%5D%2C%20%5B25.578714%2C%20-80.369339%5D%2C%20%5B40.81573%2C%20-73.28893000000002%5D%2C%20%5B34.096378%2C%20-118.476829%5D%2C%20%5B42.81049%2C%20-88.27726%5D%2C%20%5B45.514866%2C%20-122.691503%5D%2C%20%5B38.66382700000001%2C%20-121.27318%5D%2C%20%5B37.63326%2C%20-122.08523%5D%2C%20%5B40.19036%2C%20-76.847938%5D%2C%20%5B34.087856%2C%20-117.301948%5D%2C%20%5B47.50525%2C%20-94.94744%5D%2C%20%5B32.206839%2C%20-110.968483%5D%2C%20%5B36.141564%2C%20-86.713975%5D%2C%20%5B30.384932%2C%20-86.369801%5D%2C%20%5B33.876546000000005%2C%20-118.08291%5D%2C%20%5B34.028420000000004%2C%20-118.23%5D%2C%20%5B40.724227%2C%20-111.916928%5D%2C%20%5B45.137795%2C%20-93.494391%5D%2C%20%5B40.126738%2C%20-75.45109000000002%5D%2C%20%5B27.429265%2C%20-82.552458%5D%2C%20%5B34.099302%2C%20-117.488784%5D%2C%20%5B38.824029%2C%20-77.123948%5D%2C%20%5B44.11386%2C%20-123.18217%5D%2C%20%5B33.695667%2C%20-117.86468700000002%5D%2C%20%5B33.98963%2C%20-117.36002%5D%2C%20%5B38.463935%2C%20-121.381042%5D%2C%20%5B40.005934%2C%20-75.761718%5D%2C%20%5B41.07213%2C%20-73.802575%5D%2C%20%5B33.498290000000004%2C%20-80.461496%5D%2C%20%5B38.916181%2C%20-77.217804%5D%2C%20%5B40.7646%2C%20-115.92434%5D%2C%20%5B43.587382%2C%20-111.622877%5D%2C%20%5B33.974726000000004%2C%20-118.237251%5D%2C%20%5B33.77993%2C%20-117.87689%5D%2C%20%5B33.542111%2C%20-81.985336%5D%2C%20%5B30.375896%2C%20-97.689782%5D%2C%20%5B40.51285%2C%20-122.325143%5D%2C%20%5B29.803897%2C%20-95.440074%5D%2C%20%5B34.136431%2C%20-117.544092%5D%2C%20%5B39.330969%2C%20-84.284518%5D%2C%20%5B40.760829%2C%20-74.164079%5D%2C%20%5B30.31706%2C%20-97.656334%5D%2C%20%5B35.59148%2C%20-78.79309%5D%2C%20%5B47.986469%2C%20-112.315687%5D%2C%20%5B41.01045%2C%20-111.37492%5D%2C%20%5B42.08645%2C%20-86.41166899999996%5D%2C%20%5B44.68891%2C%20-88.70553000000002%5D%2C%20%5B40.70097%2C%20-73.99471%5D%2C%20%5B25.942311%2C%20-80.182163%5D%2C%20%5B28.577597%2C%20-81.464548%5D%2C%20%5B40.599063%2C%20-77.57176899999997%5D%2C%20%5B29.944223%2C%20-90.091189%5D%2C%20%5B33.969646999999995%2C%20-118.281005%5D%2C%20%5B33.6973%2C%20-84.40681%5D%2C%20%5B47.35783%2C%20-122.29463%5D%2C%20%5B40.72009%2C%20-111.90364%5D%2C%20%5B47.666694%2C%20-114.660149%5D%2C%20%5B45.06744000000001%2C%20-93.247071%5D%2C%20%5B39.016882%2C%20-122.91286200000002%5D%2C%20%5B29.349868%2C%20-98.535533%5D%2C%20%5B38.542962%2C%20-121.334864%5D%2C%20%5B34.200664%2C%20-118.473461%5D%2C%20%5B37.638269%2C%20-120.91719%5D%2C%20%5B35.149123%2C%20-84.955627%5D%2C%20%5B30.484527000000003%2C%20-91.086318%5D%2C%20%5B35.030215000000005%2C%20-118.959027%5D%2C%20%5B34.934471%2C%20-81.98985400000002%5D%2C%20%5B35.792373%2C%20-78.579829%5D%2C%20%5B38.816016%2C%20-77.642494%5D%2C%20%5B33.713739000000004%2C%20-117.786451%5D%2C%20%5B33.982062%2C%20-118.252054%5D%2C%20%5B28.504733%2C%20-81.310148%5D%2C%20%5B29.20599600000001%2C%20-82.183542%5D%2C%20%5B42.41443%2C%20-83.42409%5D%2C%20%5B25.448558%2C%20-80.47519100000002%5D%2C%20%5B34.228774%2C%20-117.290285%5D%2C%20%5B30.038602%2C%20-89.977358%5D%2C%20%5B43.548085%2C%20-70.431313%5D%2C%20%5B38.833268%2C%20-77.102447%5D%2C%20%5B33.891223%2C%20-84.46141999999998%5D%2C%20%5B40.22184%2C%20-76.78402%5D%2C%20%5B39.95906%2C%20-82.8435%5D%2C%20%5B45.373932%2C%20-118.301113%5D%2C%20%5B30.390259000000004%2C%20-87.06439499999998%5D%2C%20%5B32.184482%2C%20-110.818476%5D%2C%20%5B45.919161%2C%20-95.557669%5D%2C%20%5B40.92585800000001%2C%20-78.580586%5D%2C%20%5B41.480226%2C%20-78.669779%5D%2C%20%5B39.90519000000001%2C%20-83.08194%5D%2C%20%5B34.2033%2C%20-118.19251%5D%2C%20%5B35.83872%2C%20-78.675063%5D%2C%20%5B36.571494%2C%20-121.808415%5D%2C%20%5B33.863222%2C%20-117.539192%5D%2C%20%5B35.995614%2C%20-78.525745%5D%2C%20%5B42.48953%2C%20-83.28806%5D%2C%20%5B42.357605%2C%20-88.100277%5D%2C%20%5B38.48129%2C%20-121.501318%5D%2C%20%5B39.85401%2C%20-75.3572%5D%2C%20%5B33.65073%2C%20-80.88349000000002%5D%2C%20%5B37.96231%2C%20-122.05383%5D%2C%20%5B30.419433%2C%20-91.094823%5D%2C%20%5B44.890898%2C%20-93.399764%5D%2C%20%5B42.924073%2C%20-83.625936%5D%2C%20%5B38.574912%2C%20-121.550362%5D%2C%20%5B34.38312%2C%20-117.394512%5D%2C%20%5B33.818895%2C%20-118.191224%5D%2C%20%5B33.439593%2C%20-111.966431%5D%2C%20%5B42.304567%2C%20-88.96459%5D%2C%20%5B45.746074%2C%20-92.992109%5D%2C%20%5B34.487414%2C%20-118.159514%5D%2C%20%5B42.17702%2C%20-72.60839%5D%2C%20%5B32.774525%2C%20-96.785313%5D%2C%20%5B42.41299%2C%20-83.08331%5D%2C%20%5B36.06746%2C%20-80.182052%5D%2C%20%5B44.09782%2C%20-123.151054%5D%2C%20%5B33.937113000000004%2C%20-80.972913%5D%2C%20%5B32.22143%2C%20-81.169255%5D%2C%20%5B34.05538%2C%20-118.196434%5D%2C%20%5B45.224136%2C%20-93.605736%5D%2C%20%5B36.083866%2C%20-95.896249%5D%2C%20%5B42.19714000000001%2C%20-87.98939%5D%2C%20%5B32.647827%2C%20-96.884994%5D%2C%20%5B40.539518%2C%20-74.307482%5D%2C%20%5B28.4717%2C%20-81.44388000000002%5D%2C%20%5B37.940254%2C%20-122.516115%5D%2C%20%5B40.886725%2C%20-74.068182%5D%2C%20%5B34.132772%2C%20-117.951418%5D%2C%20%5B33.892661%2C%20-117.504669%5D%2C%20%5B41.588444%2C%20-86.911066%5D%2C%20%5B35.97151599999999%2C%20-80.495847%5D%2C%20%5B43.011313%2C%20-83.51812%5D%2C%20%5B41.12596%2C%20-112.02526%5D%2C%20%5B33.928194%2C%20-118.230578%5D%2C%20%5B34.10488%2C%20-118.32578%5D%2C%20%5B34.767305%2C%20-78.996601%5D%2C%20%5B45.214209%2C%20-122.974379%5D%2C%20%5B47.638532%2C%20-117.470106%5D%2C%20%5B40.696996%2C%20-123.367544%5D%2C%20%5B35.88061%2C%20-84.23258%5D%2C%20%5B34.02202800000001%2C%20-117.990406%5D%2C%20%5B33.99686%2C%20-118.357817%5D%2C%20%5B33.21774%2C%20-96.6362%5D%2C%20%5B43.061288%2C%20-76.564418%5D%2C%20%5B30.141431%2C%20-81.508072%5D%2C%20%5B26.023924%2C%20-80.167024%5D%2C%20%5B45.812316%2C%20-123.487543%5D%2C%20%5B41.305132%2C%20-74.130461%5D%2C%20%5B33.990528999999995%2C%20-118.069976%5D%2C%20%5B36.65129500000001%2C%20-119.708401%5D%2C%20%5B28.686356%2C%20-81.388508%5D%2C%20%5B33.93097%2C%20-118.369959%5D%2C%20%5B40.14751%2C%20-75.32795%5D%2C%20%5B34.34531%2C%20-92.392823%5D%2C%20%5B37.878816%2C%20-121.278607%5D%2C%20%5B34.048059%2C%20-117.553403%5D%2C%20%5B37.538432%2C%20-121.927219%5D%2C%20%5B40.50973%2C%20-111.89136%5D%2C%20%5B25.925466%2C%20-80.292271%5D%2C%20%5B30.191419%2C%20-97.773396%5D%2C%20%5B40.575751%2C%20-77.23397800000002%5D%2C%20%5B32.809424%2C%20-96.780041%5D%2C%20%5B38.365219%2C%20-122.666206%5D%2C%20%5B26.665981%2C%20-80.07076500000002%5D%2C%20%5B38.606921%2C%20-86.692453%5D%2C%20%5B36.109803%2C%20-86.72147%5D%2C%20%5B37.66746%2C%20-121.03466%5D%2C%20%5B37.687404%2C%20-122.103227%5D%2C%20%5B33.327552000000004%2C%20-84.774273%5D%2C%20%5B40.65393%2C%20-74.007929%5D%2C%20%5B41.344767%2C%20-73.75778000000003%5D%2C%20%5B28.392974%2C%20-81.370099%5D%2C%20%5B36.202466%2C%20-86.776883%5D%2C%20%5B45.069297%2C%20-93.285931%5D%2C%20%5B39.754223%2C%20-84.223989%5D%2C%20%5B38.167544%2C%20-79.011579%5D%2C%20%5B36.663365%2C%20-119.77278%5D%2C%20%5B40.640119%2C%20-111.889069%5D%2C%20%5B47.446464%2C%20-122.21608700000002%5D%2C%20%5B44.247644%2C%20-120.99761399999998%5D%2C%20%5B37.891643%2C%20-120.292766%5D%2C%20%5B40.721363%2C%20-74.232118%5D%2C%20%5B42.16764000000001%2C%20-84.988635%5D%2C%20%5B25.891627%2C%20-80.163146%5D%2C%20%5B45.152167%2C%20-94.542793%5D%2C%20%5B40.956441%2C%20-77.011831%5D%2C%20%5B25.747318%2C%20-80.35009699999998%5D%2C%20%5B41.5399%2C%20-121.153032%5D%2C%20%5B33.928402%2C%20-118.005279%5D%2C%20%5B40.139849%2C%20-75.361503%5D%2C%20%5B41.177743%2C%20-79.157953%5D%2C%20%5B45.196853%2C%20-93.55743%5D%2C%20%5B42.41517%2C%20-83.08511999999997%5D%2C%20%5B41.9015%2C%20-87.92034%5D%2C%20%5B44.924116%2C%20-93.45561%5D%2C%20%5B34.13793%2C%20-117.2414%5D%2C%20%5B33.870267%2C%20-117.745201%5D%2C%20%5B29.972519%2C%20-90.122821%5D%2C%20%5B39.301398%2C%20-121.595141%5D%2C%20%5B34.867973%2C%20-82.424501%5D%2C%20%5B32.956806%2C%20-117.118216%5D%2C%20%5B33.701701%2C%20-84.25211%5D%2C%20%5B35.746371999999994%2C%20-78.64898000000002%5D%2C%20%5B36.827361%2C%20-76.195545%5D%2C%20%5B42.47726%2C%20-83.10555%5D%2C%20%5B41.706243%2C%20-72.644856%5D%2C%20%5B35.782867%2C%20-78.64909300000002%5D%2C%20%5B30.564534%2C%20-81.830892%5D%2C%20%5B37.69557%2C%20-122.078871%5D%2C%20%5B39.192307%2C%20-76.771513%5D%2C%20%5B34.207511%2C%20-118.200079%5D%2C%20%5B39.415158%2C%20-85.961676%5D%2C%20%5B35.27187%2C%20-80.83704%5D%2C%20%5B42.45431%2C%20-83.09551%5D%2C%20%5B43.599622%2C%20-83.623736%5D%2C%20%5B34.019597%2C%20-118.123221%5D%2C%20%5B37.432786%2C%20-77.61293%5D%2C%20%5B28.248966%2C%20-81.62709100000002%5D%2C%20%5B46.556035%2C%20-112.864254%5D%2C%20%5B33.84599%2C%20-118.205476%5D%2C%20%5B25.757175%2C%20-80.41492%5D%2C%20%5B32.160075%2C%20-110.989515%5D%2C%20%5B36.965163%2C%20-76.515022%5D%2C%20%5B38.692718%2C%20-77.22640899999998%5D%2C%20%5B33.071496999999994%2C%20-80.139137%5D%2C%20%5B38.56996%2C%20-121.51451000000002%5D%2C%20%5B33.927417%2C%20-118.258231%5D%2C%20%5B40.38636500000001%2C%20-111.938814%5D%2C%20%5B45.421933%2C%20-122.571678%5D%2C%20%5B31.041940000000004%2C%20-83.76514%5D%2C%20%5B34.019744%2C%20-118.230053%5D%2C%20%5B39.31296%2C%20-77.51436%5D%2C%20%5B38.800522%2C%20-77.532324%5D%2C%20%5B40.68746%2C%20-73.61777%5D%2C%20%5B42.35703%2C%20-88.06799000000002%5D%2C%20%5B30.235409000000004%2C%20-97.727375%5D%2C%20%5B37.69053%2C%20-122.07805%5D%2C%20%5B41.13206%2C%20-73.459564%5D%2C%20%5B44.224101%2C%20-95.128501%5D%2C%20%5B44.963501%2C%20-93.090099%5D%2C%20%5B37.69337%2C%20-77.88764%5D%2C%20%5B25.642714%2C%20-80.334553%5D%2C%20%5B42.740582%2C%20-73.78063399999998%5D%2C%20%5B35.541661%2C%20-82.756458%5D%2C%20%5B25.701507%2C%20-80.355793%5D%2C%20%5B45.066088%2C%20-93.23677%5D%2C%20%5B33.94064%2C%20-118.041142%5D%2C%20%5B43.124362%2C%20-75.388932%5D%2C%20%5B27.49334600000001%2C%20-82.483198%5D%2C%20%5B32.654896%2C%20-117.09281%5D%2C%20%5B25.762647%2C%20-80.318258%5D%2C%20%5B30.338305%2C%20-97.715478%5D%2C%20%5B37.603025%2C%20-77.564171%5D%2C%20%5B38.883081%2C%20-77.229504%5D%2C%20%5B25.768256%2C%20-80.33629599999998%5D%2C%20%5B28.49362%2C%20-81.46358199999997%5D%2C%20%5B45.49706%2C%20-122.53765%5D%2C%20%5B44.89053%2C%20-93.29271%5D%2C%20%5B37.49447%2C%20-77.431333%5D%2C%20%5B36.20301%2C%20-115.1608%5D%2C%20%5B42.398778%2C%20-122.93115%5D%2C%20%5B29.770442%2C%20-95.410582%5D%2C%20%5B29.061448%2C%20-82.174276%5D%2C%20%5B32.89595%2C%20-96.97198%5D%2C%20%5B30.29422700000001%2C%20-97.719991%5D%2C%20%5B33.362057%2C%20-117.216572%5D%2C%20%5B25.76088%2C%20-80.418865%5D%2C%20%5B25.69143900000001%2C%20-80.36596%5D%2C%20%5B34.75498%2C%20-80.922347%5D%2C%20%5B32.171331%2C%20-110.968268%5D%2C%20%5B45.56627%2C%20-94.13887%5D%2C%20%5B41.000128%2C%20-122.413154%5D%2C%20%5B40.699832%2C%20-111.899719%5D%2C%20%5B41.229702%2C%20-75.86591700000002%5D%2C%20%5B40.235699%2C%20-76.973208%5D%2C%20%5B39.161551%2C%20-121.753658%5D%2C%20%5B26.390724%2C%20-81.77232099999998%5D%2C%20%5B35.89305%2C%20-87.64397%5D%2C%20%5B34.035463%2C%20-118.02544%5D%2C%20%5B34.150478%2C%20-118.280493%5D%2C%20%5B38.414386%2C%20-122.658579%5D%2C%20%5B35.20625%2C%20-80.79549%5D%2C%20%5B35.795765%2C%20-78.694815%5D%2C%20%5B30.907169%2C%20-87.984577%5D%2C%20%5B39.821141%2C%20-86.030948%5D%2C%20%5B44.05016%2C%20-121.19339%5D%2C%20%5B39.17289%2C%20-84.47554000000002%5D%2C%20%5B28.493325%2C%20-81.396765%5D%2C%20%5B29.938913%2C%20-95.41318%5D%2C%20%5B34.51505%2C%20-119.82659%5D%2C%20%5B25.949438%2C%20-80.14681%5D%2C%20%5B29.969462%2C%20-90.02911800000004%5D%2C%20%5B36.890527%2C%20-76.23552%5D%2C%20%5B33.979521000000005%2C%20-118.39243700000002%5D%2C%20%5B30.260246%2C%20-95.823713%5D%2C%20%5B25.940932%2C%20-80.30678%5D%2C%20%5B39.148425%2C%20-94.559853%5D%2C%20%5B38.428727%2C%20-122.715193%5D%2C%20%5B34.092127000000005%2C%20-117.301784%5D%2C%20%5B28.54955%2C%20-81.382266%5D%2C%20%5B29.475426%2C%20-82.739714%5D%2C%20%5B45.555979%2C%20-118.462904%5D%2C%20%5B30.004074%2C%20-90.035709%5D%2C%20%5B34.022431%2C%20-118.426459%5D%2C%20%5B36.968455%2C%20-119.615283%5D%2C%20%5B34.03389%2C%20-118.35654%5D%2C%20%5B42.945352%2C%20-78.766297%5D%2C%20%5B34.148887%2C%20-83.650642%5D%2C%20%5B28.504868%2C%20-81.41743199999998%5D%2C%20%5B38.0927%2C%20-122.234884%5D%2C%20%5B39.87533%2C%20-86.430068%5D%2C%20%5B25.899235%2C%20-80.2114%5D%2C%20%5B28.597574%2C%20-81.296796%5D%2C%20%5B37.880254%2C%20-122.049691%5D%2C%20%5B28.59758%2C%20-81.29731600000002%5D%2C%20%5B35.398484%2C%20-119.32311%5D%2C%20%5B44.69421%2C%20-93.29012%5D%2C%20%5B33.584035%2C%20-117.671524%5D%2C%20%5B38.925132%2C%20-77.009084%5D%2C%20%5B34.902952%2C%20-82.350157%5D%2C%20%5B37.770127%2C%20-121.327445%5D%2C%20%5B34.028267%2C%20-117.667954%5D%2C%20%5B37.541559%2C%20-122.285022%5D%2C%20%5B36.14122800000001%2C%20-86.717461%5D%2C%20%5B33.92889%2C%20-118.29165%5D%2C%20%5B34.278776%2C%20-79.88079599999998%5D%2C%20%5B34.523676%2C%20-81.994956%5D%2C%20%5B34.360693%2C%20-118.505826%5D%2C%20%5B40.741843%2C%20-111.904016%5D%2C%20%5B35.414571%2C%20-119.030049%5D%2C%20%5B34.215278000000005%2C%20-119.0125%5D%2C%20%5B34.46676%2C%20-82.659222%5D%2C%20%5B34.208423%2C%20-82.146873%5D%2C%20%5B46.16659%2C%20-123.693784%5D%2C%20%5B40.215102%2C%20-76.94725799999998%5D%2C%20%5B27.839109000000004%2C%20-82.726135%5D%2C%20%5B38.871267%2C%20-76.965204%5D%2C%20%5B38.81415%2C%20-104.815653%5D%2C%20%5B37.61728400000001%2C%20-122.154525%5D%2C%20%5B33.969646999999995%2C%20-118.281005%5D%2C%20%5B32.292751%2C%20-110.995099%5D%2C%20%5B41.208136%2C%20-111.970755%5D%2C%20%5B32.764392%2C%20-117.205352%5D%2C%20%5B30.116640000000004%2C%20-95.4396%5D%2C%20%5B38.024717%2C%20-121.072764%5D%2C%20%5B39.82748%2C%20-86.03294%5D%2C%20%5B40.825664%2C%20-124.176166%5D%2C%20%5B30.477414000000003%2C%20-87.079356%5D%2C%20%5B32.71713%2C%20-117.11446%5D%2C%20%5B42.99743%2C%20-78.423467%5D%2C%20%5B34.072151%2C%20-118.0694%5D%2C%20%5B32.486258%2C%20-93.770355%5D%2C%20%5B45.874115%2C%20-118.395544%5D%2C%20%5B41.57498%2C%20-88.15534%5D%2C%20%5B33.89623%2C%20-118.18767%5D%2C%20%5B29.801265%2C%20-95.267822%5D%2C%20%5B32.290801%2C%20-86.18960600000004%5D%2C%20%5B37.31474%2C%20-121.91031%5D%2C%20%5B39.465837%2C%20-121.539834%5D%2C%20%5B41.96835%2C%20-83.38299%5D%2C%20%5B34.88056%2C%20-78.961688%5D%2C%20%5B37.728562%2C%20-121.107856%5D%2C%20%5B40.113028%2C%20-75.340532%5D%2C%20%5B35.419627%2C%20-119.051919%5D%2C%20%5B37.566925%2C%20-121.898196%5D%2C%20%5B39.37007%2C%20-76.51406899999998%5D%2C%20%5B40.081%2C%20-76.65694%5D%2C%20%5B46.361914%2C%20-120.320165%5D%2C%20%5B37.052322%2C%20-122.070258%5D%2C%20%5B39.085191%2C%20-77.173479%5D%2C%20%5B44.22193%2C%20-93.27631%5D%2C%20%5B33.402853%2C%20-117.168245%5D%2C%20%5B35.770635%2C%20-78.559391%5D%2C%20%5B40.12998%2C%20-76.79446999999998%5D%2C%20%5B43.058878%2C%20-83.557462%5D%2C%20%5B41.66004%2C%20-93.52236%5D%2C%20%5B43.993324%2C%20-84.019049%5D%2C%20%5B37.601601%2C%20-121.871849%5D%2C%20%5B36.98349%2C%20-85.89479%5D%2C%20%5B40.92785%2C%20-111.891238%5D%2C%20%5B46.861549%2C%20-101.507092%5D%2C%20%5B40.797332%2C%20-74.260936%5D%2C%20%5B32.346546000000004%2C%20-95.274812%5D%2C%20%5B42.21326%2C%20-124.37523799999998%5D%2C%20%5B39.114653%2C%20-77.86058%5D%2C%20%5B34.23251%2C%20-118.472985%5D%2C%20%5B39.555163%2C%20-75.803949%5D%2C%20%5B30.457582%2C%20-85.18978800000002%5D%2C%20%5B25.736808%2C%20-80.319627%5D%2C%20%5B38.161514%2C%20-122.573293%5D%2C%20%5B45.641148%2C%20-122.661989%5D%2C%20%5B33.840368%2C%20-117.87618700000002%5D%2C%20%5B39.406859%2C%20-76.57565799999998%5D%2C%20%5B36.732681%2C%20-121.639042%5D%2C%20%5B32.250453%2C%20-110.922099%5D%2C%20%5B32.899181%2C%20-117.116528%5D%2C%20%5B35.978024%2C%20-119.956352%5D%2C%20%5B36.07365%2C%20-79.93758000000003%5D%2C%20%5B34.137694%2C%20-118.363019%5D%2C%20%5B39.113469%2C%20-76.834311%5D%2C%20%5B37.88260800000001%2C%20-122.051678%5D%2C%20%5B26.12938%2C%20-80.21771%5D%2C%20%5B28.82819000000001%2C%20-81.339341%5D%2C%20%5B25.92478%2C%20-80.154122%5D%2C%20%5B33.95669%2C%20-117.30653%5D%2C%20%5B36.738313%2C%20-76.246565%5D%2C%20%5B27.352373%2C%20-82.505676%5D%2C%20%5B36.724369%2C%20-119.78643%5D%2C%20%5B38.000947%2C%20-122.037852%5D%2C%20%5B29.78457%2C%20-95.60997%5D%2C%20%5B45.543489%2C%20-122.516439%5D%2C%20%5B32.831525%2C%20-96.874367%5D%2C%20%5B32.820238%2C%20-96.867385%5D%2C%20%5B40.036607%2C%20-76.30327199999998%5D%2C%20%5B45.178753%2C%20-122.852178%5D%2C%20%5B38.20297%2C%20-85.66436999999998%5D%2C%20%5B39.61584600000001%2C%20-105.232277%5D%2C%20%5B38.605355%2C%20-121.433309%5D%2C%20%5B34.304443%2C%20-82.65293100000002%5D%2C%20%5B42.029753%2C%20-88.338151%5D%2C%20%5B39.116295%2C%20-76.774617%5D%2C%20%5B33.940769%2C%20-117.87814%5D%2C%20%5B32.236109%2C%20-110.910961%5D%2C%20%5B27.961769%2C%20-82.45366800000002%5D%2C%20%5B30.173249%2C%20-97.800369%5D%2C%20%5B38.964568%2C%20-76.106296%5D%2C%20%5B32.337567%2C%20-111.055487%5D%2C%20%5B25.50058%2C%20-80.44496%5D%2C%20%5B25.782326%2C%20-80.336777%5D%2C%20%5B44.35585800000001%2C%20-69.78087099999999%5D%2C%20%5B27.81980900000001%2C%20-82.679461%5D%2C%20%5B36.197058%2C%20-86.828126%5D%2C%20%5B37.039411%2C%20-94.510382%5D%2C%20%5B35.768604%2C%20-80.54339399999998%5D%2C%20%5B40.05228%2C%20-76.360435%5D%2C%20%5B36.800573%2C%20-77.987746%5D%2C%20%5B33.01803%2C%20-96.93724%5D%2C%20%5B44.951339%2C%20-93.117711%5D%2C%20%5B25.838005%2C%20-80.24962099999998%5D%2C%20%5B33.786338%2C%20-84.390803%5D%2C%20%5B32.83895%2C%20-96.63328%5D%2C%20%5B39.332897%2C%20-120.18305%5D%2C%20%5B44.786678%2C%20-117.811449%5D%2C%20%5B45.532332%2C%20-122.619835%5D%2C%20%5B37.315266%2C%20-121.888186%5D%2C%20%5B44.33583%2C%20-121.17743%5D%2C%20%5B36.735481%2C%20-119.866043%5D%2C%20%5B32.235889%2C%20-110.952374%5D%2C%20%5B28.589434000000004%2C%20-81.38249499999998%5D%2C%20%5B33.39227%2C%20-112.0992%5D%2C%20%5B34.05896%2C%20-83.10717%5D%2C%20%5B34.750370000000004%2C%20-92.262729%5D%2C%20%5B42.950065%2C%20-85.661796%5D%2C%20%5B43.126763%2C%20-77.517656%5D%2C%20%5B39.10158%2C%20-84.52348%5D%2C%20%5B33.449548%2C%20-112.289799%5D%2C%20%5B33.673835%2C%20-117.885757%5D%2C%20%5B35.368216%2C%20-118.931969%5D%2C%20%5B37.596745%2C%20-121.861305%5D%2C%20%5B37.63644%2C%20-120.558708%5D%2C%20%5B34.643379%2C%20-79.504997%5D%2C%20%5B39.891476%2C%20-75.242482%5D%2C%20%5B35.463799%2C%20-119.368116%5D%2C%20%5B33.980766%2C%20-117.841597%5D%2C%20%5B34.37328%2C%20-86.89211%5D%2C%20%5B33.95669%2C%20-117.30653%5D%2C%20%5B35.006558%2C%20-118.951524%5D%2C%20%5B36.153279%2C%20-86.750186%5D%2C%20%5B32.7098%2C%20-83.73199%5D%2C%20%5B38.977451%2C%20-77.314474%5D%2C%20%5B33.21379%2C%20-117.38954%5D%2C%20%5B35.15867%2C%20-80.89138%5D%2C%20%5B32.577847%2C%20-97.319515%5D%2C%20%5B39.05296%2C%20-94.4971%5D%2C%20%5B43.0599%2C%20-76.14698%5D%2C%20%5B35.071641%2C%20-90.016692%5D%2C%20%5B25.890177%2C%20-80.188547%5D%2C%20%5B27.71306400000001%2C%20-82.432344%5D%2C%20%5B45.50272%2C%20-122.67329%5D%2C%20%5B27.114336%2C%20-80.264412%5D%2C%20%5B39.66941%2C%20-104.82928%5D%2C%20%5B34.01959%2C%20-118.05034%5D%2C%20%5B40.996853%2C%20-76.90977099999998%5D%2C%20%5B25.849486%2C%20-80.31439300000002%5D%2C%20%5B29.698891%2C%20-95.497102%5D%2C%20%5B39.76358%2C%20-75.51589%5D%2C%20%5B41.035362%2C%20-80.405322%5D%2C%20%5B40.138049%2C%20-77.33364%5D%2C%20%5B38.792404%2C%20-77.03864300000002%5D%2C%20%5B40.81338%2C%20-73.56854%5D%2C%20%5B38.662904%2C%20-121.542101%5D%2C%20%5B28.566459%2C%20-81.689153%5D%2C%20%5B40.716187%2C%20-73.40953499999998%5D%2C%20%5B40.763118%2C%20-74.009496%5D%2C%20%5B28.621638%2C%20-81.543624%5D%2C%20%5B33.89246%2C%20-118.193153%5D%2C%20%5B32.939825%2C%20-96.769857%5D%2C%20%5B36.157614%2C%20-86.759833%5D%2C%20%5B41.78400300000001%2C%20-72.660667%5D%2C%20%5B40.72775%2C%20-74.1294%5D%2C%20%5B40.27001%2C%20-103.591514%5D%2C%20%5B33.989157%2C%20-118.281009%5D%2C%20%5B35.363075%2C%20-118.976416%5D%2C%20%5B33.66918%2C%20-112.10774%5D%2C%20%5B33.929468%2C%20-118.253856%5D%2C%20%5B30.026482%2C%20-90.023724%5D%2C%20%5B39.440714%2C%20-76.822468%5D%2C%20%5B39.931349%2C%20-74.960798%5D%2C%20%5B36.755038%2C%20-80.781442%5D%2C%20%5B27.48205%2C%20-82.405884%5D%2C%20%5B41.279169%2C%20-87.81831%5D%2C%20%5B42.18313%2C%20-122.66447%5D%2C%20%5B33.577694%2C%20-78.999672%5D%2C%20%5B26.166056%2C%20-80.16014399999997%5D%2C%20%5B35.305155%2C%20-77.823854%5D%2C%20%5B25.984832%2C%20-80.16545699999998%5D%2C%20%5B30.052587%2C%20-95.260777%5D%2C%20%5B35.23982%2C%20-80.88586%5D%2C%20%5B39.96005200000001%2C%20-75.180269%5D%2C%20%5B38.819471%2C%20-76.919113%5D%2C%20%5B25.493711%2C%20-80.461118%5D%2C%20%5B41.971453%2C%20-77.230541%5D%2C%20%5B30.467716%2C%20-87.22699200000002%5D%2C%20%5B25.812239%2C%20-80.135698%5D%2C%20%5B39.25714%2C%20-76.66431999999998%5D%2C%20%5B32.804499%2C%20-86.58103100000002%5D%2C%20%5B41.265475%2C%20-73.53546899999998%5D%2C%20%5B29.979788%2C%20-90.095859%5D%2C%20%5B39.11620900000001%2C%20-76.774767%5D%2C%20%5B37.444387%2C%20-77.578439%5D%2C%20%5B37.83943%2C%20-122.486964%5D%2C%20%5B38.578995%2C%20-77.32084300000002%5D%2C%20%5B28.40763%2C%20-81.42496899999998%5D%2C%20%5B39.725414%2C%20-105.024629%5D%2C%20%5B30.176755%2C%20-81.743335%5D%2C%20%5B34.844943%2C%20-82.18823499999998%5D%2C%20%5B45.58537000000001%2C%20-118.57521%5D%2C%20%5B43.097747%2C%20-73.525327%5D%2C%20%5B34.521076%2C%20-117.992449%5D%2C%20%5B33.925086%2C%20-118.33172%5D%2C%20%5B36.493611%2C%20-121.4275%5D%2C%20%5B37.772817%2C%20-121.556974%5D%2C%20%5B33.651959999999995%2C%20-117.908592%5D%2C%20%5B30.182729%2C%20-81.73934399999997%5D%2C%20%5B34.024534%2C%20-118.469516%5D%2C%20%5B27.903421%2C%20-82.343469%5D%2C%20%5B32.282964%2C%20-110.961067%5D%2C%20%5B44.63112%2C%20-123.99547%5D%2C%20%5B39.01799000000001%2C%20-77.103557%5D%2C%20%5B28.380922%2C%20-81.501329%5D%2C%20%5B38.910739%2C%20-76.935567%5D%2C%20%5B26.709093%2C%20-80.188397%5D%2C%20%5B33.987974%2C%20-118.373817%5D%2C%20%5B28.065353%2C%20-82.738771%5D%2C%20%5B47.46304%2C%20-122.28719%5D%2C%20%5B40.562997%2C%20-124.13395%5D%2C%20%5B40.898441%2C%20-124.083784%5D%2C%20%5B40.053561%2C%20-76.929327%5D%2C%20%5B36.985276%2C%20-122.151587%5D%2C%20%5B40.805994%2C%20-73.932488%5D%2C%20%5B25.768453%2C%20-80.336301%5D%2C%20%5B30.532906%2C%20-87.258225%5D%2C%20%5B35.24827%2C%20-82.33139%5D%2C%20%5B34.039364%2C%20-81.09362%5D%2C%20%5B29.594694%2C%20-95.219518%5D%2C%20%5B25.922163%2C%20-80.30920400000002%5D%2C%20%5B42.97266%2C%20-78.63384%5D%2C%20%5B40.75211%2C%20-73.74691%5D%2C%20%5B27.937756%2C%20-82.257262%5D%2C%20%5B34.987103999999995%2C%20-118.207954%5D%2C%20%5B33.87062%2C%20-118.0566%5D%2C%20%5B41.80896%2C%20-88.11726999999998%5D%2C%20%5B33.36513%2C%20-111.841885%5D%2C%20%5B32.491562%2C%20-86.411902%5D%2C%20%5B34.11784%2C%20-118.33728700000002%5D%2C%20%5B38.181052%2C%20-122.25486200000002%5D%2C%20%5B33.714991%2C%20-84.299994%5D%2C%20%5B43.984274%2C%20-121.497348%5D%2C%20%5B38.841465%2C%20-77.43102900000002%5D%2C%20%5B40.764609%2C%20-111.918464%5D%2C%20%5B40.693054%2C%20-112.02484%5D%2C%20%5B33.82594%2C%20-118.241383%5D%2C%20%5B32.85908%2C%20-96.890643%5D%2C%20%5B33.894783000000004%2C%20-117.558282%5D%2C%20%5B32.388143%2C%20-88.609994%5D%2C%20%5B33.907697%2C%20-81.332899%5D%2C%20%5B38.777058%2C%20-76.061471%5D%2C%20%5B40.441203%2C%20-74.504254%5D%2C%20%5B27.916513%2C%20-82.76499%5D%2C%20%5B35.977598%2C%20-84.149059%5D%2C%20%5B39.281486%2C%20-121.661293%5D%2C%20%5B40.205295%2C%20-74.775901%5D%2C%20%5B41.08901%2C%20-73.45572%5D%2C%20%5B34.017448%2C%20-117.986%5D%2C%20%5B34.539684%2C%20-82.445686%5D%2C%20%5B45.12774%2C%20-93.48593%5D%2C%20%5B38.903647%2C%20-76.85065%5D%2C%20%5B33.251375%2C%20-117.421367%5D%2C%20%5B40.58789%2C%20-111.991247%5D%2C%20%5B40.16673400000001%2C%20-79.73805%5D%2C%20%5B39.018448%2C%20-77.146114%5D%2C%20%5B39.63614000000001%2C%20-75.74341%5D%2C%20%5B35.3329%2C%20-85.933738%5D%2C%20%5B28.280546%2C%20-82.622363%5D%2C%20%5B37.410066%2C%20-121.879205%5D%2C%20%5B25.927299%2C%20-80.18821700000002%5D%2C%20%5B34.154336%2C%20-118.396588%5D%2C%20%5B39.397183%2C%20-76.430661%5D%2C%20%5B39.210007%2C%20-121.073725%5D%2C%20%5B35.81734%2C%20-78.607519%5D%2C%20%5B44.088369%2C%20-121.30098999999998%5D%2C%20%5B37.595619%2C%20-122.051611%5D%2C%20%5B29.965232%2C%20-90.108908%5D%2C%20%5B41.305132%2C%20-74.130461%5D%2C%20%5B38.537474%2C%20-121.513609%5D%2C%20%5B34.309862%2C%20-117.472761%5D%2C%20%5B33.69729%2C%20-79.11184%5D%2C%20%5B39.116136%2C%20-94.59073%5D%2C%20%5B35.21378%2C%20-80.83736999999998%5D%2C%20%5B40.69737%2C%20-112.26278%5D%2C%20%5B39.148478%2C%20-84.44891899999998%5D%2C%20%5B35.177426000000004%2C%20-80.76961800000002%5D%2C%20%5B40.890496%2C%20-74.07033100000002%5D%2C%20%5B27.926622%2C%20-82.40187900000002%5D%2C%20%5B32.356246%2C%20-93.752017%5D%2C%20%5B43.637555%2C%20-95.573662%5D%2C%20%5B36.833095%2C%20-76.286118%5D%2C%20%5B39.011568%2C%20-94.498343%5D%2C%20%5B29.659332%2C%20-82.418776%5D%2C%20%5B33.917593%2C%20-117.437108%5D%2C%20%5B40.71884%2C%20-74.23523%5D%2C%20%5B28.32558400000001%2C%20-81.334726%5D%2C%20%5B39.150305%2C%20-121.965461%5D%2C%20%5B40.400028000000006%2C%20-74.187169%5D%2C%20%5B41.00296%2C%20-111.90873%5D%2C%20%5B28.659340000000004%2C%20-81.38843%5D%2C%20%5B26.211329%2C%20-81.79638800000002%5D%2C%20%5B38.971812%2C%20-76.25144%5D%2C%20%5B31.7776%2C%20-106.4412%5D%2C%20%5B44.966601%2C%20-93.273507%5D%2C%20%5B28.100485%2C%20-82.739884%5D%2C%20%5B38.93819600000001%2C%20-94.705356%5D%2C%20%5B27.859911%2C%20-82.32671500000002%5D%2C%20%5B25.933902%2C%20-80.121837%5D%2C%20%5B33.672459%2C%20-111.970386%5D%2C%20%5B46.26850200000001%2C%20-92.825042%5D%2C%20%5B44.82477%2C%20-121.36888%5D%2C%20%5B40.022925%2C%20-75.280339%5D%2C%20%5B39.99021%2C%20-74.88150999999998%5D%2C%20%5B32.78864%2C%20-96.76414%5D%2C%20%5B35.48921%2C%20-97.54773%5D%2C%20%5B36.351657%2C%20-119.419104%5D%2C%20%5B39.998463%2C%20-76.640592%5D%2C%20%5B40.97575300000001%2C%20-78.04849499999997%5D%2C%20%5B38.295626%2C%20-122.479537%5D%2C%20%5B33.968163%2C%20-118.167871%5D%2C%20%5B28.158753000000004%2C%20-82.393128%5D%2C%20%5B34.766787%2C%20-80.314801%5D%2C%20%5B25.945405%2C%20-80.14745500000002%5D%2C%20%5B32.682234%2C%20-97.240386%5D%2C%20%5B43.09189%2C%20-96.175721%5D%2C%20%5B41.595107%2C%20-93.606036%5D%2C%20%5B39.035983%2C%20-94.50006%5D%2C%20%5B28.496003%2C%20-81.078661%5D%2C%20%5B41.052206%2C%20-73.530839%5D%2C%20%5B40.580105%2C%20-75.622967%5D%2C%20%5B32.766489%2C%20-96.739709%5D%2C%20%5B42.98739000000001%2C%20-83.74372199999998%5D%2C%20%5B34.035143%2C%20-118.329599%5D%2C%20%5B25.494219%2C%20-80.412224%5D%2C%20%5B44.57523%2C%20-91.20188%5D%2C%20%5B33.756415000000004%2C%20-84.23225%5D%2C%20%5B42.38116%2C%20-88.063061%5D%2C%20%5B34.697688%2C%20-82.80200699999997%5D%2C%20%5B33.461318%2C%20-81.84769399999998%5D%2C%20%5B42.174994%2C%20-88.61061%5D%2C%20%5B29.691973%2C%20-95.325693%5D%2C%20%5B42.2315%2C%20-83.58454%5D%2C%20%5B38.057307%2C%20-78.495132%5D%2C%20%5B28.40102000000001%2C%20-81.37623599999998%5D%2C%20%5B40.500196%2C%20-111.959573%5D%2C%20%5B33.912874%2C%20-118.145867%5D%2C%20%5B34.06743%2C%20-117.5799%5D%2C%20%5B44.62663%2C%20-92.99459%5D%2C%20%5B29.564663%2C%20-98.655242%5D%2C%20%5B33.840022999999995%2C%20-117.949812%5D%2C%20%5B33.772919%2C%20-117.74299%5D%2C%20%5B36.83712%2C%20-119.539736%5D%2C%20%5B40.584248%2C%20-74.292866%5D%2C%20%5B40.727595%2C%20-111.986507%5D%2C%20%5B37.503818%2C%20-121.962855%5D%2C%20%5B38.83817%2C%20-76.86298000000002%5D%2C%20%5B33.85641%2C%20-117.78575%5D%2C%20%5B45.5426%2C%20-122.51019%5D%2C%20%5B39.073466%2C%20-94.680594%5D%2C%20%5B36.370936%2C%20-121.901696%5D%2C%20%5B33.5886%2C%20-117.64554%5D%2C%20%5B40.20407%2C%20-75.139607%5D%2C%20%5B30.251101%2C%20-81.58841%5D%2C%20%5B28.547278%2C%20-81.285871%5D%2C%20%5B36.843249%2C%20-76.123312%5D%2C%20%5B37.242503%2C%20-93.260868%5D%2C%20%5B35.523257%2C%20-118.668848%5D%2C%20%5B40.738938%2C%20-74.061759%5D%2C%20%5B38.86187%2C%20-106.14769%5D%2C%20%5B37.523451%2C%20-77.983058%5D%2C%20%5B36.064577%2C%20-79.520228%5D%2C%20%5B34.692094%2C%20-80.787798%5D%2C%20%5B43.161018%2C%20-85.72514%5D%2C%20%5B33.829289%2C%20-117.528133%5D%2C%20%5B32.716570000000004%2C%20-96.82881%5D%2C%20%5B40.31108%2C%20-80.154887%5D%2C%20%5B40.087322%2C%20-75.780124%5D%2C%20%5B25.655519%2C%20-80.380045%5D%2C%20%5B33.812152000000005%2C%20-118.287209%5D%2C%20%5B45.11595%2C%20-123.21315%5D%2C%20%5B43.594627%2C%20-116.314223%5D%2C%20%5B43.09398%2C%20-77.63309%5D%2C%20%5B25.903211%2C%20-80.194604%5D%2C%20%5B40.478151%2C%20-77.044034%5D%2C%20%5B38.100793%2C%20-122.887796%5D%2C%20%5B33.99556%2C%20-117.87454%5D%2C%20%5B37.76345300000001%2C%20-77.460447%5D%2C%20%5B25.559143%2C%20-80.453681%5D%2C%20%5B33.879225%2C%20-117.560251%5D%2C%20%5B39.000638%2C%20-94.356905%5D%2C%20%5B33.967741%2C%20-77.9211%5D%2C%20%5B35.030418%2C%20-85.16795%5D%2C%20%5B34.184108%2C%20-80.98102%5D%2C%20%5B33.46209%2C%20-112.118289%5D%2C%20%5B34.868095000000004%2C%20-82.314499%5D%2C%20%5B39.75948%2C%20-75.04741%5D%2C%20%5B42.47443%2C%20-83.18258%5D%2C%20%5B29.021726%2C%20-81.227663%5D%2C%20%5B31.783676%2C%20-106.450823%5D%2C%20%5B34.936054%2C%20-82.011741%5D%2C%20%5B34.277646000000004%2C%20-118.39218%5D%2C%20%5B40.634078%2C%20-74.20985%5D%2C%20%5B25.669776%2C%20-80.416237%5D%2C%20%5B30.403622%2C%20-81.564785%5D%2C%20%5B30.33283%2C%20-97.70427%5D%2C%20%5B47.95575%2C%20-122.1994%5D%2C%20%5B36.978882%2C%20-76.423424%5D%2C%20%5B40.778481%2C%20-74.048445%5D%2C%20%5B44.781328%2C%20-93.267368%5D%2C%20%5B45.145343%2C%20-93.49922%5D%2C%20%5B39.014606%2C%20-94.693047%5D%2C%20%5B35.795678%2C%20-78.72716199999998%5D%2C%20%5B29.511467%2C%20-82.557497%5D%2C%20%5B39.593325%2C%20-84.19702099999998%5D%2C%20%5B38.49675%2C%20-90.34485%5D%2C%20%5B35.021682%2C%20-80.48781600000002%5D%2C%20%5B40.775402%2C%20-74.152876%5D%2C%20%5B47.881987%2C%20-122.223362%5D%2C%20%5B37.554292%2C%20-77.48382%5D%2C%20%5B39.230447%2C%20-120.06996%5D%2C%20%5B25.820099%2C%20-80.24470500000002%5D%2C%20%5B33.834511%2C%20-117.936655%5D%2C%20%5B35.73517800000001%2C%20-120.209345%5D%2C%20%5B36.771589%2C%20-76.25745%5D%2C%20%5B37.099346%2C%20-121.01585%5D%2C%20%5B25.929874%2C%20-80.18833000000002%5D%2C%20%5B42.28299000000001%2C%20-87.95335%5D%2C%20%5B42.38471%2C%20-83.24283%5D%2C%20%5B34.138789%2C%20-118.719129%5D%2C%20%5B38.661907%2C%20-120.941201%5D%2C%20%5B25.884153%2C%20-80.35084%5D%2C%20%5B40.711%2C%20-94.20514%5D%2C%20%5B38.288902%2C%20-77.53743399999998%5D%2C%20%5B34.070179%2C%20-117.864102%5D%2C%20%5B44.549901%2C%20-120.039937%5D%2C%20%5B37.36404%2C%20-121.8435%5D%2C%20%5B33.526281%2C%20-117.165267%5D%2C%20%5B33.84234%2C%20-118.26628%5D%2C%20%5B41.280942%2C%20-81.650562%5D%2C%20%5B28.836143%2C%20-81.318258%5D%2C%20%5B28.404318%2C%20-81.57603%5D%2C%20%5B37.00283%2C%20-78.973848%5D%2C%20%5B33.08944%2C%20-117.07904%5D%2C%20%5B46.701003%2C%20-113.495775%5D%2C%20%5B34.808538%2C%20-80.932745%5D%2C%20%5B38.146836%2C%20-122.110422%5D%2C%20%5B33.927899%2C%20-118.341256%5D%2C%20%5B34.443179%2C%20-118.60533999999998%5D%2C%20%5B34.126853999999994%2C%20-118.090949%5D%2C%20%5B38.02296%2C%20-79.1406%5D%2C%20%5B34.035595%2C%20-118.274443%5D%2C%20%5B36.84306%2C%20-76.28586%5D%2C%20%5B30.273888%2C%20-97.913414%5D%2C%20%5B27.447751%2C%20-82.573305%5D%2C%20%5B40.02057%2C%20-82.99504%5D%2C%20%5B46.261663%2C%20-96.998267%5D%2C%20%5B36.022705%2C%20-118.910739%5D%2C%20%5B29.749499%2C%20-95.456178%5D%2C%20%5B29.72523%2C%20-95.46022%5D%2C%20%5B39.29498%2C%20-76.60178%5D%2C%20%5B27.907277%2C%20-81.800692%5D%2C%20%5B38.9515%2C%20-76.748889%5D%2C%20%5B34.154289%2C%20-118.396021%5D%2C%20%5B41.109554%2C%20-122.328094%5D%2C%20%5B39.77673%2C%20-104.87621%5D%2C%20%5B40.0377%2C%20-76.27175%5D%2C%20%5B40.160404%2C%20-105.01556%5D%2C%20%5B39.044026%2C%20-94.658925%5D%2C%20%5B25.960184%2C%20-80.294731%5D%2C%20%5B34.055571%2C%20-118.1981%5D%2C%20%5B37.033635%2C%20-77.633267%5D%2C%20%5B35.195327%2C%20-80.781384%5D%2C%20%5B29.084368%2C%20-82.07881%5D%2C%20%5B27.981361%2C%20-82.335148%5D%2C%20%5B34.120692%2C%20-117.824689%5D%2C%20%5B27.583607%2C%20-82.595787%5D%2C%20%5B45.37542%2C%20-122.75555%5D%2C%20%5B33.877743%2C%20-117.588358%5D%2C%20%5B37.296663%2C%20-121.873346%5D%2C%20%5B34.065437%2C%20-117.997873%5D%2C%20%5B38.892726%2C%20-77.427263%5D%2C%20%5B28.576248%2C%20-81.402968%5D%2C%20%5B37.315353%2C%20-121.940269%5D%2C%20%5B40.829905%2C%20-111.917263%5D%2C%20%5B44.034223%2C%20-116.954901%5D%2C%20%5B33.888259999999995%2C%20-84.25466999999998%5D%2C%20%5B33.247407%2C%20-111.789375%5D%2C%20%5B33.94068%2C%20-117.26747%5D%2C%20%5B26.131957%2C%20-80.343436%5D%2C%20%5B32.443354%2C%20-93.716073%5D%2C%20%5B32.86821%2C%20-117.22972%5D%2C%20%5B34.102689%2C%20-118.47718799999998%5D%2C%20%5B38.89209%2C%20-77.03195%5D%2C%20%5B34.28225%2C%20-119.316221%5D%2C%20%5B42.208811%2C%20-73.636889%5D%2C%20%5B32.997232000000004%2C%20-96.709653%5D%2C%20%5B34.003276%2C%20-117.1364%5D%2C%20%5B37.513192%2C%20-121.980977%5D%2C%20%5B33.889562%2C%20-118.266731%5D%2C%20%5B35.681523%2C%20-117.391544%5D%2C%20%5B34.06674%2C%20-117.20684%5D%2C%20%5B39.395395%2C%20-77.421909%5D%2C%20%5B29.774378%2C%20-95.312578%5D%2C%20%5B36.141299%2C%20-86.731852%5D%2C%20%5B29.649208%2C%20-95.512604%5D%2C%20%5B30.187913%2C%20-97.745972%5D%2C%20%5B47.90703%2C%20-122.21092%5D%2C%20%5B25.630294%2C%20-80.41471800000002%5D%2C%20%5B45.0695%2C%20-93.29887%5D%2C%20%5B40.604164%2C%20-74.474603%5D%2C%20%5B47.583655%2C%20-122.302193%5D%2C%20%5B34.064914%2C%20-80.135177%5D%2C%20%5B37.196393%2C%20-121.993409%5D%2C%20%5B28.09043%2C%20-82.40563%5D%2C%20%5B25.68692%2C%20-80.416652%5D%2C%20%5B27.791916%2C%20-82.336061%5D%2C%20%5B36.203611%2C%20-121.138889%5D%2C%20%5B38.45545%2C%20-122.72592%5D%2C%20%5B25.891336%2C%20-80.182449%5D%2C%20%5B38.937606%2C%20-78.13005799999998%5D%2C%20%5B38.902517%2C%20-77.014697%5D%2C%20%5B29.993723%2C%20-90.092774%5D%2C%20%5B34.487478%2C%20-118.139798%5D%2C%20%5B38.724049%2C%20-77.280889%5D%2C%20%5B30.715145%2C%20-84.973558%5D%2C%20%5B35.064502000000005%2C%20-80.773398%5D%2C%20%5B25.905836%2C%20-80.324512%5D%2C%20%5B36.986544%2C%20-76.424247%5D%2C%20%5B33.465481%2C%20-112.038005%5D%2C%20%5B25.963195%2C%20-80.162834%5D%2C%20%5B32.73045%2C%20-97.22502%5D%2C%20%5B43.093451%2C%20-87.92215999999998%5D%2C%20%5B37.327294%2C%20-121.99558%5D%2C%20%5B36.136874%2C%20-86.761043%5D%2C%20%5B33.427587%2C%20-112.052704%5D%2C%20%5B35.65876%2C%20-81.38038%5D%2C%20%5B33.91435%2C%20-117.88273%5D%2C%20%5B40.614242%2C%20-116.881533%5D%2C%20%5B44.057521%2C%20-123.804265%5D%2C%20%5B41.36976%2C%20-87.320515%5D%2C%20%5B43.637362%2C%20-95.86289%5D%2C%20%5B33.3054%2C%20-83.83929%5D%2C%20%5B26.30158%2C%20-80.2434%5D%2C%20%5B34.128717%2C%20-117.938135%5D%2C%20%5B38.900616%2C%20-77.054891%5D%2C%20%5B34.09561%2C%20-118.24414%5D%2C%20%5B30.12176%2C%20-81.704593%5D%2C%20%5B43.245989%2C%20-73.83504%5D%2C%20%5B25.687938%2C%20-80.41644000000002%5D%2C%20%5B43.104328%2C%20-75.233639%5D%2C%20%5B39.11209%2C%20-94.564874%5D%2C%20%5B34.025434999999995%2C%20-117.116314%5D%2C%20%5B28.407649%2C%20-81.231962%5D%2C%20%5B41.687847%2C%20-91.809364%5D%2C%20%5B41.26553%2C%20-73.67732%5D%2C%20%5B43.95645%2C%20-92.23896%5D%2C%20%5B28.337508000000003%2C%20-81.397949%5D%2C%20%5B25.93256%2C%20-80.12189599999998%5D%2C%20%5B44.972223%2C%20-117.879084%5D%2C%20%5B41.87375%2C%20-87.72416%5D%2C%20%5B25.940796%2C%20-80.246746%5D%2C%20%5B39.02194%2C%20-76.47461%5D%2C%20%5B32.950072%2C%20-96.783422%5D%2C%20%5B40.13385%2C%20-74.96543%5D%2C%20%5B25.623247%2C%20-80.371475%5D%2C%20%5B39.47107000000001%2C%20-104.98865%5D%2C%20%5B39.746226%2C%20-75.558875%5D%2C%20%5B36.637107%2C%20-80.604453%5D%2C%20%5B38.8921%2C%20-77.04885%5D%2C%20%5B35.42557%2C%20-97.48618%5D%2C%20%5B34.12143%2C%20-117.88138%5D%2C%20%5B32.91092800000001%2C%20-117.227924%5D%2C%20%5B29.71838%2C%20-95.26605%5D%2C%20%5B25.763269%2C%20-80.38558%5D%2C%20%5B44.67323%2C%20-118.358319%5D%2C%20%5B38.133255%2C%20-122.223662%5D%2C%20%5B41.08917%2C%20-112.038615%5D%2C%20%5B45.14788%2C%20-122.884183%5D%2C%20%5B37.169872%2C%20-76.544646%5D%2C%20%5B38.239232%2C%20-120.374848%5D%2C%20%5B35.795157%2C%20-78.520622%5D%2C%20%5B25.881818%2C%20-80.242974%5D%2C%20%5B27.890564%2C%20-80.593632%5D%2C%20%5B37.85097800000001%2C%20-122.299583%5D%2C%20%5B43.713491%2C%20-94.135044%5D%2C%20%5B26.668839%2C%20-81.939102%5D%2C%20%5B38.474173%2C%20-121.429386%5D%2C%20%5B25.78687%2C%20-80.3213%5D%2C%20%5B29.80802000000001%2C%20-95.261921%5D%2C%20%5B41.16766%2C%20-73.22822%5D%2C%20%5B30.33153%2C%20-81.763%5D%2C%20%5B35.052228%2C%20-80.84966700000003%5D%2C%20%5B35.1943%2C%20-80.72565%5D%2C%20%5B40.695911%2C%20-73.968385%5D%2C%20%5B35.819349%2C%20-78.70493499999998%5D%2C%20%5B40.700272%2C%20-74.155388%5D%2C%20%5B36.757797%2C%20-76.279567%5D%2C%20%5B34.03522%2C%20-118.14979%5D%2C%20%5B34.201947%2C%20-119.14232%5D%2C%20%5B40.048296%2C%20-75.400752%5D%2C%20%5B40.483213%2C%20-77.404507%5D%2C%20%5B40.76019%2C%20-74.051028%5D%2C%20%5B25.925858%2C%20-80.167491%5D%2C%20%5B35.375084%2C%20-118.930755%5D%2C%20%5B37.554881%2C%20-119.927471%5D%2C%20%5B41.84484000000001%2C%20-87.95779%5D%2C%20%5B33.910990000000005%2C%20-84.21488000000002%5D%2C%20%5B25.647128%2C%20-80.38543299999998%5D%2C%20%5B34.186646%2C%20-118.474262%5D%2C%20%5B45.50503300000001%2C%20-122.815549%5D%2C%20%5B30.460825%2C%20-87.285777%5D%2C%20%5B39.3795%2C%20-76.62281999999998%5D%2C%20%5B41.062502%2C%20-81.51532399999998%5D%2C%20%5B36.052109%2C%20-77.82996700000002%5D%2C%20%5B32.22861%2C%20-110.92661%5D%2C%20%5B37.804373%2C%20-77.461134%5D%2C%20%5B33.88414%2C%20-118.02911%5D%2C%20%5B38.754673%2C%20-77.52799399999998%5D%2C%20%5B42.41299%2C%20-83.08331%5D%2C%20%5B30.25894000000001%2C%20-81.51801%5D%2C%20%5B45.191373%2C%20-93.545967%5D%2C%20%5B34.05875%2C%20-118.2452%5D%2C%20%5B34.173528000000005%2C%20-118.556479%5D%2C%20%5B38.745279%2C%20-121.214225%5D%2C%20%5B30.184821000000003%2C%20-97.609563%5D%2C%20%5B38.93946500000001%2C%20-76.856078%5D%2C%20%5B36.02222000000001%2C%20-119.039316%5D%2C%20%5B41.52595%2C%20-73.91358000000002%5D%2C%20%5B25.824387%2C%20-80.33375500000002%5D%2C%20%5B41.301135%2C%20-72.907428%5D%2C%20%5B33.90253%2C%20-84.27356%5D%2C%20%5B40.973585%2C%20-74.321104%5D%2C%20%5B26.57806%2C%20-80.06947%5D%2C%20%5B36.07888300000001%2C%20-95.975791%5D%2C%20%5B45.05607%2C%20-93.131489%5D%2C%20%5B33.669101%2C%20-112.089112%5D%2C%20%5B45.684613%2C%20-94.172829%5D%2C%20%5B38.681278000000006%2C%20-121.539958%5D%2C%20%5B40.651659%2C%20-74.217679%5D%2C%20%5B33.577667%2C%20-79.038354%5D%2C%20%5B39.902901%2C%20-82.900593%5D%2C%20%5B34.105408000000004%2C%20-118.192289%5D%2C%20%5B28.382614%2C%20-81.487484%5D%2C%20%5B38.93972%2C%20-94.56397%5D%2C%20%5B34.918062%2C%20-81.98915699999998%5D%2C%20%5B35.072506%2C%20-81.912094%5D%2C%20%5B39.114119%2C%20-120.944378%5D%2C%20%5B28.528496%2C%20-81.21149%5D%2C%20%5B37.909602%2C%20-121.288179%5D%2C%20%5B41.009494%2C%20-80.473425%5D%2C%20%5B33.77381%2C%20-84.353053%5D%2C%20%5B35.641955%2C%20-88.918243%5D%2C%20%5B40.909454%2C%20-74.09457900000002%5D%2C%20%5B29.68833%2C%20-95.03944%5D%2C%20%5B33.772088000000004%2C%20-117.909208%5D%2C%20%5B38.421146%2C%20-82.29545%5D%2C%20%5B39.556693%2C%20-119.78195%5D%2C%20%5B25.78601%2C%20-80.25809%5D%2C%20%5B34.0481%2C%20-117.307%5D%2C%20%5B43.599382%2C%20-116.508926%5D%2C%20%5B36.086638%2C%20-95.92215%5D%2C%20%5B29.644591%2C%20-95.375995%5D%2C%20%5B25.899797%2C%20-80.20967900000002%5D%2C%20%5B39.931604%2C%20-75.343687%5D%2C%20%5B33.92938%2C%20-117.41643%5D%2C%20%5B32.897585%2C%20-96.898148%5D%2C%20%5B42.383378%2C%20-83.484275%5D%2C%20%5B38.01598900000001%2C%20-122.08762%5D%2C%20%5B44.667141%2C%20-123.898047%5D%2C%20%5B33.772240000000004%2C%20-117.90885%5D%2C%20%5B36.055375%2C%20-86.674786%5D%2C%20%5B40.114374%2C%20-75.3441%5D%2C%20%5B37.64082%2C%20-77.56063%5D%2C%20%5B33.59832%2C%20-78.99586%5D%2C%20%5B33.545047%2C%20-93.89284%5D%2C%20%5B34.03715%2C%20-117.55006000000002%5D%2C%20%5B37.877702%2C%20-122.307273%5D%2C%20%5B35.153032%2C%20-90.07799%5D%2C%20%5B44.85853%2C%20-93.35026%5D%2C%20%5B38.741667%2C%20-77.189307%5D%2C%20%5B32.88206%2C%20-96.949363%5D%2C%20%5B36.203147%2C%20-119.457273%5D%2C%20%5B32.777848%2C%20-117.118776%5D%2C%20%5B33.717231%2C%20-117.96881%5D%2C%20%5B36.903528%2C%20-119.792376%5D%2C%20%5B38.92465%2C%20-77.21509%5D%2C%20%5B33.925201%2C%20-117.880287%5D%2C%20%5B25.694986%2C%20-80.355435%5D%2C%20%5B32.83742%2C%20-97.120872%5D%2C%20%5B25.969338%2C%20-80.165531%5D%2C%20%5B25.943748%2C%20-80.121227%5D%2C%20%5B34.439977%2C%20-77.627399%5D%2C%20%5B36.979636%2C%20-120.08223%5D%2C%20%5B33.385690999999994%2C%20-111.866117%5D%2C%20%5B32.764038%2C%20-96.621163%5D%2C%20%5B39.169186%2C%20-123.210984%5D%2C%20%5B36.196399%2C%20-119.600311%5D%2C%20%5B41.542085%2C%20-72.978411%5D%2C%20%5B47.036916%2C%20-122.750056%5D%2C%20%5B41.332272%2C%20-73.817428%5D%2C%20%5B34.21162%2C%20-118.22792%5D%2C%20%5B34.2349%2C%20-117.491068%5D%2C%20%5B28.575209%2C%20-81.451796%5D%2C%20%5B38.888688%2C%20-77.281502%5D%2C%20%5B37.759617%2C%20-102.603427%5D%2C%20%5B36.350895%2C%20-86.93587600000002%5D%2C%20%5B33.51664%2C%20-112.11225%5D%2C%20%5B39.37605%2C%20-76.504812%5D%2C%20%5B27.447751%2C%20-82.573305%5D%2C%20%5B40.17884%2C%20-76.17749%5D%2C%20%5B38.880544%2C%20-77.23670200000002%5D%2C%20%5B40.697284%2C%20-73.981936%5D%2C%20%5B36.689191%2C%20-121.65634%5D%2C%20%5B39.992691%2C%20-77.55913100000002%5D%2C%20%5B37.001144%2C%20-120.088593%5D%2C%20%5B28.027247%2C%20-82.195706%5D%2C%20%5B41.039213%2C%20-73.75934000000002%5D%2C%20%5B29.217998%2C%20-82.05038%5D%2C%20%5B40.66681%2C%20-73.87194000000002%5D%2C%20%5B25.957304%2C%20-80.25465%5D%2C%20%5B45.522986%2C%20-122.665396%5D%2C%20%5B36.155976%2C%20-95.922491%5D%2C%20%5B29.968279%2C%20-90.06685999999998%5D%2C%20%5B36.119959%2C%20-119.071697%5D%2C%20%5B34.329818%2C%20-118.505826%5D%2C%20%5B37.710881%2C%20-121.719082%5D%2C%20%5B33.773804%2C%20-117.991849%5D%2C%20%5B32.942601%2C%20-80.052319%5D%2C%20%5B30.312528000000004%2C%20-81.651354%5D%2C%20%5B36.144451%2C%20-86.87270600000002%5D%2C%20%5B33.899987%2C%20-117.340016%5D%2C%20%5B47.580109%2C%20-122.161499%5D%2C%20%5B42.757072%2C%20-73.615981%5D%2C%20%5B38.510303%2C%20-121.464525%5D%2C%20%5B39.56778%2C%20-76.14063%5D%2C%20%5B37.047906%2C%20-120.617463%5D%2C%20%5B29.838031%2C%20-95.462889%5D%2C%20%5B25.894643%2C%20-80.183068%5D%2C%20%5B40.625872%2C%20-122.370894%5D%2C%20%5B36.145673%2C%20-119.053848%5D%2C%20%5B34.067399%2C%20-117.571285%5D%2C%20%5B40.71087%2C%20-74.16688%5D%2C%20%5B39.820231%2C%20-75.448483%5D%2C%20%5B33.579903%2C%20-79.02849%5D%2C%20%5B34.02359000000001%2C%20-118.270882%5D%2C%20%5B32.87805%2C%20-96.89795%5D%2C%20%5B39.819493%2C%20-84.203723%5D%2C%20%5B33.74463%2C%20-84.39923%5D%2C%20%5B43.181557%2C%20-77.595466%5D%2C%20%5B35.79851%2C%20-77.519091%5D%2C%20%5B29.204623%2C%20-81.87552099999998%5D%2C%20%5B36.1406%2C%20-95.9671%5D%2C%20%5B38.935892%2C%20-121.104925%5D%2C%20%5B41.656831%2C%20-78.799444%5D%2C%20%5B27.270415000000003%2C%20-82.497665%5D%2C%20%5B32.77769%2C%20-97.47326%5D%2C%20%5B29.797979%2C%20-95.33962%5D%2C%20%5B38.8161%2C%20-77.136565%5D%2C%20%5B39.27815%2C%20-76.553303%5D%2C%20%5B37.882053000000006%2C%20-121.27873%5D%2C%20%5B34.631785%2C%20-82.92934%5D%2C%20%5B37.97833%2C%20-121.744126%5D%2C%20%5B33.965306%2C%20-117.326635%5D%2C%20%5B47.834562%2C%20-104.06485%5D%2C%20%5B34.311440000000005%2C%20-86.90325%5D%2C%20%5B34.10488%2C%20-118.32578%5D%2C%20%5B45.174371%2C%20-117.977971%5D%2C%20%5B44.084283%2C%20-123.056155%5D%2C%20%5B44.311794%2C%20-94.013427%5D%2C%20%5B33.829714%2C%20-117.310995%5D%2C%20%5B34.263904%2C%20-111.221487%5D%2C%20%5B43.382745%2C%20-123.33828%5D%2C%20%5B35.720997%2C%20-81.169185%5D%2C%20%5B33.386612%2C%20-111.747638%5D%2C%20%5B30.434782%2C%20-91.057495%5D%2C%20%5B41.09721%2C%20-96.24852%5D%2C%20%5B29.728314%2C%20-95.558047%5D%2C%20%5B32.879365%2C%20-96.512135%5D%2C%20%5B42.23356%2C%20-88.82888%5D%2C%20%5B27.374229%2C%20-82.488991%5D%2C%20%5B37.800237%2C%20-85.750123%5D%2C%20%5B34.052035%2C%20-118.186581%5D%2C%20%5B40.644512%2C%20-74.204651%5D%2C%20%5B38.586722%2C%20-121.55551%5D%2C%20%5B34.119616%2C%20-117.867382%5D%2C%20%5B40.097852%2C%20-75.355338%5D%2C%20%5B34.98338%2C%20-82.166887%5D%2C%20%5B38.99372%2C%20-75.45217%5D%2C%20%5B29.77754%2C%20-95.37185%5D%2C%20%5B29.498366%2C%20-81.59694%5D%2C%20%5B32.172985%2C%20-81.210162%5D%2C%20%5B29.86709%2C%20-81.314151%5D%2C%20%5B36.670035%2C%20-121.638253%5D%2C%20%5B37.805167%2C%20-120.701454%5D%2C%20%5B37.686379%2C%20-77.014263%5D%2C%20%5B42.27318%2C%20-84.39629000000002%5D%2C%20%5B37.202344%2C%20-119.675827%5D%2C%20%5B38.812585%2C%20-104.82227%5D%2C%20%5B28.6337%2C%20-81.47628%5D%2C%20%5B41.01208%2C%20-73.702372%5D%2C%20%5B33.81656%2C%20-117.8703%5D%2C%20%5B34.65233%2C%20-117.21443899999998%5D%2C%20%5B41.95554%2C%20-87.73293000000002%5D%2C%20%5B34.040512%2C%20-118.190339%5D%2C%20%5B32.312635%2C%20-95.341944%5D%2C%20%5B37.62880300000001%2C%20-122.427629%5D%2C%20%5B33.653324%2C%20-117.36771%5D%2C%20%5B33.616703%2C%20-80.867183%5D%2C%20%5B35.034606%2C%20-85.021582%5D%2C%20%5B32.620782%2C%20-96.822966%5D%2C%20%5B34.040526%2C%20-118.064135%5D%2C%20%5B40.732323%2C%20-74.08353699999998%5D%2C%20%5B45.80559%2C%20-118.38109%5D%2C%20%5B38.880214%2C%20-77.238095%5D%2C%20%5B39.825997%2C%20-85.644982%5D%2C%20%5B28.47988%2C%20-81.396641%5D%2C%20%5B34.257274%2C%20-118.472573%5D%2C%20%5B37.88178%2C%20-122.30826%5D%2C%20%5B29.962358%2C%20-90.075015%5D%2C%20%5B38.326118%2C%20-121.959452%5D%2C%20%5B28.34692%2C%20-81.662773%5D%2C%20%5B37.798086%2C%20-121.091641%5D%2C%20%5B33.988378000000004%2C%20-117.903909%5D%2C%20%5B30.301698%2C%20-81.770306%5D%2C%20%5B33.928816999999995%2C%20-118.288453%5D%2C%20%5B38.223611%2C%20-85.535622%5D%2C%20%5B41.10346%2C%20-74.02443000000002%5D%2C%20%5B35.49326%2C%20-97.5477%5D%2C%20%5B29.177529%2C%20-82.23508299999997%5D%2C%20%5B25.691215%2C%20-80.382077%5D%2C%20%5B30.349313%2C%20-97.530337%5D%2C%20%5B45.552405%2C%20-122.5103%5D%2C%20%5B33.82195%2C%20-118.20705%5D%2C%20%5B34.776581%2C%20-118.22853700000002%5D%2C%20%5B40.601701%2C%20-74.063148%5D%2C%20%5B38.09725%2C%20-122.733487%5D%2C%20%5B39.604602%2C%20-84.16104399999998%5D%2C%20%5B30.256378%2C%20-97.746046%5D%2C%20%5B33.922208000000005%2C%20-117.428773%5D%2C%20%5B29.654868%2C%20-95.367664%5D%2C%20%5B39.106659%2C%20-76.940484%5D%2C%20%5B35.64261%2C%20-78.83904%5D%2C%20%5B28.208701%2C%20-82.739522%5D%2C%20%5B34.078301%2C%20-81.003744%5D%2C%20%5B40.443891%2C%20-80.00913299999998%5D%2C%20%5B39.974345%2C%20-76.754319%5D%2C%20%5B30.79361500000001%2C%20-88.102487%5D%2C%20%5B28.637241%2C%20-81.446795%5D%2C%20%5B30.410917%2C%20-85.690228%5D%2C%20%5B40.018414%2C%20-75.31573900000002%5D%2C%20%5B33.4359%2C%20-111.90791000000002%5D%2C%20%5B36.92325%2C%20-119.79397%5D%2C%20%5B26.094357%2C%20-80.16888900000002%5D%2C%20%5B25.685729%2C%20-80.40204399999998%5D%2C%20%5B44.97121%2C%20-93.37512%5D%2C%20%5B25.930062%2C%20-80.293485%5D%2C%20%5B35.015213%2C%20-85.163684%5D%2C%20%5B47.53206%2C%20-122.33454%5D%2C%20%5B37.58683%2C%20-77.47638%5D%2C%20%5B33.504227%2C%20-117.152774%5D%2C%20%5B25.930062%2C%20-80.293485%5D%2C%20%5B32.80319%2C%20-80.12075%5D%2C%20%5B38.75756%2C%20-90.06183%5D%2C%20%5B33.902702000000005%2C%20-117.463846%5D%2C%20%5B39.536451%2C%20-119.796672%5D%2C%20%5B39.145206%2C%20-122.165706%5D%2C%20%5B35.05457%2C%20-80.85016%5D%2C%20%5B34.039646000000005%2C%20-118.079885%5D%2C%20%5B38.70225%2C%20-121.31498%5D%2C%20%5B39.79448%2C%20-121.900316%5D%2C%20%5B33.984716%2C%20-118.413123%5D%2C%20%5B40.129465%2C%20-75.418945%5D%2C%20%5B38.37549%2C%20-121.950162%5D%2C%20%5B33.923289000000004%2C%20-118.237427%5D%2C%20%5B38.994479%2C%20-76.888731%5D%2C%20%5B35.69471%2C%20-118.21913%5D%2C%20%5B25.810667%2C%20-80.180373%5D%2C%20%5B44.09778%2C%20-94.27624%5D%2C%20%5B33.988244%2C%20-117.903916%5D%2C%20%5B30.519193%2C%20-87.309647%5D%2C%20%5B40.682576%2C%20-73.69057%5D%2C%20%5B25.899633%2C%20-80.18226999999997%5D%2C%20%5B37.95475%2C%20-122.3624%5D%2C%20%5B44.400161%2C%20-123.83288%5D%2C%20%5B34.135551%2C%20-117.988674%5D%2C%20%5B45.75062%2C%20-123.19591%5D%2C%20%5B47.299683%2C%20-122.192212%5D%2C%20%5B36.06702%2C%20-80.21126%5D%2C%20%5B25.818481%2C%20-80.206023%5D%2C%20%5B37.681721%2C%20-121.086255%5D%2C%20%5B35.759229%2C%20-119.053228%5D%2C%20%5B30.350812%2C%20-97.675916%5D%2C%20%5B33.717127000000005%2C%20-84.999988%5D%2C%20%5B25.94706%2C%20-80.156953%5D%2C%20%5B38.926025%2C%20-77.42983000000002%5D%2C%20%5B43.207739%2C%20-70.895951%5D%2C%20%5B40.09787%2C%20-75.218478%5D%2C%20%5B37.81053%2C%20-122.36464%5D%2C%20%5B38.459519%2C%20-121.841307%5D%2C%20%5B29.991561%2C%20-90.053635%5D%2C%20%5B25.988878%2C%20-80.16583%5D%2C%20%5B35.75439%2C%20-78.64021%5D%2C%20%5B30.66186%2C%20-87.866374%5D%2C%20%5B41.072684%2C%20-73.79985%5D%2C%20%5B30.583631%2C%20-87.05973%5D%2C%20%5B35.102701%2C%20-78.772463%5D%2C%20%5B34.429012%2C%20-82.721642%5D%2C%20%5B41.824415%2C%20-71.419434%5D%2C%20%5B28.213853000000004%2C%20-82.665492%5D%2C%20%5B40.19373%2C%20-111.64806000000002%5D%2C%20%5B30.186954%2C%20-81.734002%5D%2C%20%5B32.7343%2C%20-117.15591%5D%2C%20%5B25.731564%2C%20-80.44782099999998%5D%2C%20%5B30.366206%2C%20-97.682894%5D%2C%20%5B34.258835999999995%2C%20-84.467214%5D%2C%20%5B37.590633%2C%20-121.870039%5D%2C%20%5B28.728224%2C%20-81.51009300000003%5D%2C%20%5B34.6431%2C%20-86.838308%5D%2C%20%5B41.233348%2C%20-73.038122%5D%2C%20%5B37.013934000000006%2C%20-119.56425%5D%2C%20%5B33.48257%2C%20-86.82337700000002%5D%2C%20%5B40.677641%2C%20-74.278532%5D%2C%20%5B32.804803%2C%20-117.15086200000002%5D%2C%20%5B39.715823%2C%20-86.12226%5D%2C%20%5B39.888621%2C%20-104.87785900000002%5D%2C%20%5B47.601649%2C%20-122.324498%5D%2C%20%5B45.519137%2C%20-122.565246%5D%2C%20%5B34.475283000000005%2C%20-81.815161%5D%2C%20%5B40.75507%2C%20-73.74562%5D%2C%20%5B42.30753%2C%20-87.90401%5D%2C%20%5B42.49573%2C%20-83.36595%5D%2C%20%5B41.83263%2C%20-88.0113%5D%2C%20%5B33.505672%2C%20-112.112699%5D%2C%20%5B34.212236%2C%20-118.348425%5D%2C%20%5B39.00538%2C%20-77.08165%5D%2C%20%5B37.631055%2C%20-113.304178%5D%2C%20%5B40.0216%2C%20-78.515284%5D%2C%20%5B43.755787%2C%20-123.098083%5D%2C%20%5B25.92668%2C%20-80.23285%5D%2C%20%5B37.688255%2C%20-122.104435%5D%2C%20%5B40.819943%2C%20-73.890465%5D%2C%20%5B34.321389%2C%20-119.388056%5D%2C%20%5B40.727614%2C%20-111.494724%5D%2C%20%5B42.13184%2C%20-72.05303%5D%2C%20%5B34.098547%2C%20-118.252254%5D%2C%20%5B25.87242%2C%20-80.20888000000002%5D%2C%20%5B35.076695%2C%20-89.86555600000001%5D%2C%20%5B33.8035%2C%20-84.41%5D%2C%20%5B28.641475%2C%20-81.788095%5D%2C%20%5B32.626671%2C%20-97.171296%5D%2C%20%5B44.96319%2C%20-92.9585%5D%2C%20%5B46.095477%2C%20-123.106271%5D%2C%20%5B30.369924%2C%20-91.079628%5D%2C%20%5B36.168438%2C%20-86.78518199999998%5D%2C%20%5B34.139388000000004%2C%20-118.367493%5D%2C%20%5B30.529751%2C%20-83.36931899999998%5D%2C%20%5B42.949372%2C%20-85.686189%5D%2C%20%5B38.79737100000001%2C%20-77.194451%5D%2C%20%5B35.377207%2C%20-118.970965%5D%2C%20%5B39.312045%2C%20-120.50199%5D%2C%20%5B37.95355%2C%20-121.30949%5D%2C%20%5B31.546479%2C%20-87.514547%5D%2C%20%5B39.069%2C%20-94.51133%5D%2C%20%5B35.077524%2C%20-85.062297%5D%2C%20%5B40.23268%2C%20-76.92636999999998%5D%2C%20%5B29.80682%2C%20-94.97072%5D%2C%20%5B33.076147%2C%20-80.215362%5D%2C%20%5B44.969544%2C%20-93.300743%5D%2C%20%5B39.105609%2C%20-94.48608%5D%2C%20%5B47.671661%2C%20-122.37624%5D%2C%20%5B34.35638400000001%2C%20-117.438214%5D%2C%20%5B32.661590999999994%2C%20-117.078176%5D%2C%20%5B36.844535%2C%20-76.239675%5D%2C%20%5B38.790141%2C%20-77.17661%5D%2C%20%5B27.995963%2C%20-82.348136%5D%2C%20%5B27.95059%2C%20-82.53376999999998%5D%2C%20%5B37.88912%2C%20-122.05799%5D%2C%20%5B43.225637%2C%20-75.518022%5D%2C%20%5B32.355523%2C%20-86.17179200000002%5D%2C%20%5B44.667434%2C%20-75.020699%5D%2C%20%5B30.388233000000003%2C%20-97.650914%5D%2C%20%5B32.75976%2C%20-117.188876%5D%2C%20%5B34.257347%2C%20-111.254017%5D%2C%20%5B34.212802%2C%20-117.082383%5D%2C%20%5B35.13479%2C%20-80.782507%5D%2C%20%5B45.100034%2C%20-123.741014%5D%2C%20%5B34.075318%2C%20-118.261618%5D%2C%20%5B37.472683%2C%20-122.204161%5D%2C%20%5B34.151994%2C%20-118.132357%5D%2C%20%5B34.495884000000004%2C%20-118.124329%5D%2C%20%5B38.939232%2C%20-75.970987%5D%2C%20%5B34.106402%2C%20-117.863796%5D%2C%20%5B32.885745%2C%20-117.111768%5D%2C%20%5B29.932209000000004%2C%20-90.095471%5D%2C%20%5B35.162464%2C%20-80.715322%5D%2C%20%5B40.25217%2C%20-74.73359%5D%2C%20%5B40.82881%2C%20-73.83715%5D%2C%20%5B34.145152%2C%20-118.21216499999998%5D%2C%20%5B38.84894%2C%20-104.78443%5D%2C%20%5B41.13989%2C%20-95.94002%5D%2C%20%5B41.496777%2C%20-94.801898%5D%2C%20%5B44.227727%2C%20-84.798542%5D%2C%20%5B33.854529%2C%20-117.799877%5D%2C%20%5B37.909602%2C%20-121.288179%5D%2C%20%5B31.686962%2C%20-106.29885%5D%2C%20%5B34.54272%2C%20-118.03037%5D%2C%20%5B42.964407%2C%20-83.811332%5D%2C%20%5B42.745669%2C%20-73.704931%5D%2C%20%5B47.442221%2C%20-122.217184%5D%2C%20%5B33.010955%2C%20-96.826127%5D%2C%20%5B33.858135%2C%20-117.979506%5D%2C%20%5B34.033511%2C%20-118.221915%5D%2C%20%5B28.775831%2C%20-81.35561899999998%5D%2C%20%5B33.849788000000004%2C%20-118.205344%5D%2C%20%5B33.848243%2C%20-117.534195%5D%2C%20%5B39.879823%2C%20-75.35133%5D%2C%20%5B39.863804%2C%20-104.98748%5D%2C%20%5B43.000221%2C%20-78.93939%5D%2C%20%5B30.32086%2C%20-81.70207099999998%5D%2C%20%5B33.174073%2C%20-79.560903%5D%2C%20%5B39.875725%2C%20-75.052596%5D%2C%20%5B33.45111%2C%20-112.1176%5D%2C%20%5B38.643118%2C%20-121.519309%5D%2C%20%5B35.735805%2C%20-78.98439300000003%5D%2C%20%5B40.91832%2C%20-74.07251%5D%2C%20%5B35.802043%2C%20-78.70921700000002%5D%2C%20%5B33.581775%2C%20-79.028127%5D%2C%20%5B25.688682%2C%20-80.47697099999998%5D%2C%20%5B32.716673%2C%20-117.120105%5D%2C%20%5B40.784092%2C%20-124.130298%5D%2C%20%5B39.622128%2C%20-75.685019%5D%2C%20%5B39.90318%2C%20-83.39794%5D%2C%20%5B45.58352%2C%20-122.76803999999998%5D%2C%20%5B38.952144%2C%20-77.196024%5D%2C%20%5B25.680928%2C%20-80.35732800000002%5D%2C%20%5B44.80333%2C%20-117.79968999999998%5D%2C%20%5B34.036981%2C%20-118.312787%5D%2C%20%5B41.92095%2C%20-83.42447%5D%2C%20%5B38.0191%2C%20-121.946257%5D%2C%20%5B39.8993%2C%20-104.98796000000002%5D%2C%20%5B30.44716%2C%20-87.229074%5D%2C%20%5B33.580262%2C%20-117.671891%5D%2C%20%5B38.55043%2C%20-121.47405%5D%2C%20%5B47.19219%2C%20-111.802572%5D%2C%20%5B44.101615%2C%20-123.170657%5D%2C%20%5B37.099894%2C%20-113.537387%5D%2C%20%5B40.65309%2C%20-111.96085%5D%2C%20%5B37.181864%2C%20-77.492913%5D%2C%20%5B29.43875%2C%20-98.45047%5D%2C%20%5B28.108439%2C%20-82.369282%5D%2C%20%5B33.821504%2C%20-118.287238%5D%2C%20%5B45.51912%2C%20-122.51849%5D%2C%20%5B25.579189000000003%2C%20-80.36771800000002%5D%2C%20%5B40.14408%2C%20-76.42004%5D%2C%20%5B44.890136%2C%20-93.295784%5D%2C%20%5B32.86653%2C%20-96.66512%5D%2C%20%5B35.731388%2C%20-78.660128%5D%2C%20%5B35.029979%2C%20-82.004281%5D%2C%20%5B48.42515%2C%20-122.61589%5D%2C%20%5B38.568437%2C%20-121.51056%5D%2C%20%5B40.963972%2C%20-77.661441%5D%2C%20%5B35.287896999999994%2C%20-118.914318%5D%2C%20%5B40.647557%2C%20-74.202743%5D%2C%20%5B43.02422%2C%20-76.15086%5D%2C%20%5B38.069096%2C%20-122.763494%5D%2C%20%5B38.583701%2C%20-121.309745%5D%2C%20%5B29.661667%2C%20-81.651016%5D%2C%20%5B33.941666999999995%2C%20-118.279704%5D%2C%20%5B34.446548%2C%20-118.611005%5D%2C%20%5B32.778890000000004%2C%20-117.06143%5D%2C%20%5B30.450679%2C%20-91.141098%5D%2C%20%5B34.169599%2C%20-118.09946200000002%5D%2C%20%5B30.53241400000001%2C%20-87.233078%5D%2C%20%5B25.84203%2C%20-80.24972%5D%2C%20%5B37.599321%2C%20-77.377037%5D%2C%20%5B33.677129%2C%20-117.756776%5D%2C%20%5B28.067896%2C%20-82.751559%5D%2C%20%5B37.667203%2C%20-122.395107%5D%2C%20%5B27.447751%2C%20-82.573305%5D%2C%20%5B30.48591%2C%20-81.642907%5D%2C%20%5B44.95179%2C%20-93.16005%5D%2C%20%5B38.258361%2C%20-121.296294%5D%2C%20%5B38.6296%2C%20-90.22379%5D%2C%20%5B45.708708%2C%20-121.521516%5D%2C%20%5B38.575126%2C%20-121.544979%5D%2C%20%5B35.893689%2C%20-78.62416800000003%5D%2C%20%5B37.901463%2C%20-122.554556%5D%2C%20%5B33.726506%2C%20-117.834782%5D%2C%20%5B25.840035%2C%20-80.314036%5D%2C%20%5B42.741079%2C%20-84.681557%5D%2C%20%5B45.26856%2C%20-93.00868%5D%2C%20%5B39.60175%2C%20-77.80494%5D%2C%20%5B37.619935%2C%20-122.145349%5D%2C%20%5B34.238691%2C%20-80.519177%5D%2C%20%5B26.943636%2C%20-82.350358%5D%2C%20%5B40.021344%2C%20-75.940578%5D%2C%20%5B38.474298%2C%20-121.419046%5D%2C%20%5B30.389686%2C%20-91.008457%5D%2C%20%5B38.379172%2C%20-121.454534%5D%2C%20%5B34.869586%2C%20-82.230745%5D%2C%20%5B39.18044%2C%20-104.85028%5D%2C%20%5B40.103351%2C%20-76.434638%5D%2C%20%5B35.796232%2C%20-119.108507%5D%2C%20%5B29.60015%2C%20-95.33126%5D%2C%20%5B38.84785%2C%20-77.425913%5D%2C%20%5B37.66128%2C%20-122.40278%5D%2C%20%5B36.229788%2C%20-86.83951%5D%2C%20%5B34.063897999999995%2C%20-118.247713%5D%2C%20%5B30.392624%2C%20-87.04745%5D%2C%20%5B25.632618%2C%20-80.414796%5D%2C%20%5B30.271311%2C%20-97.691862%5D%2C%20%5B27.112809%2C%20-82.384425%5D%2C%20%5B35.383235%2C%20-119.06692%5D%2C%20%5B34.063936%2C%20-117.267025%5D%2C%20%5B28.331%2C%20-82.6662%5D%2C%20%5B27.388185%2C%20-82.468051%5D%2C%20%5B28.509897%2C%20-81.270431%5D%2C%20%5B36.753438%2C%20-119.781959%5D%2C%20%5B45.55062%2C%20-122.67855%5D%2C%20%5B40.088703%2C%20-75.265978%5D%2C%20%5B37.111569%2C%20-76.481634%5D%2C%20%5B35.34964%2C%20-120.631535%5D%2C%20%5B47.460379%2C%20-115.723324%5D%2C%20%5B40.71946%2C%20-111.866498%5D%2C%20%5B41.87317%2C%20-87.73521%5D%2C%20%5B32.653828999999995%2C%20-96.833262%5D%2C%20%5B37.329024%2C%20-121.841791%5D%2C%20%5B27.502011%2C%20-80.442087%5D%2C%20%5B29.69783%2C%20-95.45921%5D%2C%20%5B33.385945%2C%20-111.825923%5D%2C%20%5B33.892685%2C%20-117.880797%5D%2C%20%5B28.56266%2C%20-81.55917%5D%2C%20%5B37.291859%2C%20-120.323564%5D%2C%20%5B35.33946500000001%2C%20-119.002925%5D%2C%20%5B25.970622%2C%20-80.165766%5D%2C%20%5B27.644702%2C%20-82.672687%5D%2C%20%5B38.04852800000001%2C%20-122.753905%5D%2C%20%5B34.02193%2C%20-118.37715%5D%2C%20%5B40.212809%2C%20-75.496321%5D%2C%20%5B41.231313%2C%20-77.11463499999998%5D%2C%20%5B35.935988%2C%20-77.312116%5D%2C%20%5B40.874151%2C%20-74.06369000000002%5D%2C%20%5B33.33242%2C%20-117.15785%5D%2C%20%5B41.24251%2C%20-121.803989%5D%2C%20%5B34.023109000000005%2C%20-118.0443%5D%2C%20%5B34.032990000000005%2C%20-118.13859%5D%2C%20%5B40.159836%2C%20-75.111866%5D%2C%20%5B27.117068%2C%20-82.391154%5D%2C%20%5B33.914483000000004%2C%20-118.104926%5D%2C%20%5B38.391047%2C%20-121.929928%5D%2C%20%5B41.564516%2C%20-73.90406%5D%2C%20%5B37.790336%2C%20-121.301087%5D%2C%20%5B36.094025%2C%20-80.233036%5D%2C%20%5B40.42822%2C%20-79.97119%5D%2C%20%5B41.39250300000001%2C%20-74.329966%5D%2C%20%5B39.99576%2C%20-111.47114%5D%2C%20%5B39.56392%2C%20-104.87177%5D%2C%20%5B34.006168%2C%20-117.550505%5D%2C%20%5B39.686511%2C%20-75.445185%5D%2C%20%5B38.331124%2C%20-77.500027%5D%2C%20%5B35.130164%2C%20-118.431995%5D%2C%20%5B33.869251%2C%20-118.195327%5D%2C%20%5B38.04962800000001%2C%20-119.163571%5D%2C%20%5B40.74958%2C%20-73.740234%5D%2C%20%5B40.040142%2C%20-76.366434%5D%2C%20%5B38.86007%2C%20-77.87129%5D%2C%20%5B34.890203%2C%20-117.102627%5D%2C%20%5B45.376853%2C%20-122.11229%5D%2C%20%5B45.71194000000001%2C%20-121.5475%5D%2C%20%5B32.285987%2C%20-109.303868%5D%2C%20%5B42.49381%2C%20-83.291821%5D%2C%20%5B35.79043499999999%2C%20-119.250678%5D%2C%20%5B40.068796%2C%20-76.309662%5D%2C%20%5B25.597824%2C%20-80.376487%5D%2C%20%5B41.391103%2C%20-73.522521%5D%2C%20%5B29.70625%2C%20-95.24219%5D%2C%20%5B32.842115%2C%20-97.337676%5D%2C%20%5B34.113976%2C%20-117.415648%5D%2C%20%5B38.94095%2C%20-94.59231%5D%2C%20%5B48.280235%2C%20-114.357651%5D%2C%20%5B38.37765%2C%20-121.95377%5D%2C%20%5B45.614199%2C%20-118.65126399999998%5D%2C%20%5B40.054642%2C%20-76.461471%5D%2C%20%5B39.70473%2C%20-105.19299%5D%2C%20%5B28.403547%2C%20-81.532715%5D%2C%20%5B33.871908000000005%2C%20-117.687093%5D%2C%20%5B35.844561%2C%20-78.680376%5D%2C%20%5B35.5078%2C%20-97.60119%5D%2C%20%5B41.222222%2C%20-96.053445%5D%2C%20%5B32.840034%2C%20-96.906545%5D%2C%20%5B32.629281%2C%20-96.948021%5D%2C%20%5B28.069242%2C%20-82.56522700000002%5D%2C%20%5B40.81116%2C%20-73.93122%5D%2C%20%5B33.873106%2C%20-118.151277%5D%2C%20%5B41.16166%2C%20-112.04287%5D%2C%20%5B40.30829%2C%20-75.903865%5D%2C%20%5B36.327313%2C%20-119.324322%5D%2C%20%5B42.691214%2C%20-73.82077199999998%5D%2C%20%5B42.4102%2C%20-87.87824%5D%2C%20%5B45.52221%2C%20-122.51068%5D%2C%20%5B32.782791%2C%20-96.780121%5D%2C%20%5B34.159539%2C%20-118.636996%5D%2C%20%5B35.448961%2C%20-82.820784%5D%2C%20%5B34.566088%2C%20-118.686064%5D%2C%20%5B34.119486%2C%20-117.76161%5D%2C%20%5B45.67998%2C%20-92.99045%5D%2C%20%5B33.922315000000005%2C%20-118.104346%5D%2C%20%5B44.73523%2C%20-92.85249%5D%2C%20%5B42.461022%2C%20-82.923461%5D%2C%20%5B34.870274%2C%20-120.414795%5D%2C%20%5B34.471002%2C%20-79.329503%5D%2C%20%5B40.838531%2C%20-73.882809%5D%2C%20%5B29.768898%2C%20-95.39084%5D%2C%20%5B44.949158%2C%20-95.688876%5D%2C%20%5B34.27256%2C%20-118.49047%5D%2C%20%5B42.593629%2C%20-120.392076%5D%2C%20%5B34.900109%2C%20-82.14206800000002%5D%2C%20%5B37.774388%2C%20-122.231317%5D%2C%20%5B35.159369%2C%20-80.970663%5D%2C%20%5B47.119749%2C%20-122.293178%5D%2C%20%5B35.325262%2C%20-118.914321%5D%2C%20%5B29.686477000000004%2C%20-95.565911%5D%2C%20%5B34.043476%2C%20-81.083797%5D%2C%20%5B47.817095%2C%20-122.238274%5D%2C%20%5B28.357015000000004%2C%20-80.70399300000003%5D%2C%20%5B38.048814%2C%20-121.016666%5D%2C%20%5B42.963049%2C%20-73.791256%5D%2C%20%5B43.59467100000001%2C%20-116.453733%5D%2C%20%5B44.234241%2C%20-121.201099%5D%2C%20%5B39.76066%2C%20-104.90275%5D%2C%20%5B34.030784000000004%2C%20-118.274356%5D%2C%20%5B45.51468%2C%20-122.5653%5D%2C%20%5B39.97388%2C%20-83.08513%5D%2C%20%5B43.125185%2C%20-75.24202%5D%2C%20%5B25.810524%2C%20-80.256556%5D%2C%20%5B40.975431%2C%20-74.069942%5D%2C%20%5B37.013968%2C%20-121.340292%5D%2C%20%5B39.62405%2C%20-104.99738%5D%2C%20%5B30.031267%2C%20-89.99009699999998%5D%2C%20%5B39.20363%2C%20-76.63618000000002%5D%2C%20%5B38.473334%2C%20-122.730435%5D%2C%20%5B39.01339%2C%20-77.04446999999998%5D%2C%20%5B39.607559%2C%20-75.862049%5D%2C%20%5B36.784232%2C%20-81.732584%5D%2C%20%5B28.539126%2C%20-81.476721%5D%2C%20%5B25.954142%2C%20-80.205505%5D%2C%20%5B34.877607%2C%20-82.13929399999998%5D%2C%20%5B42.36704%2C%20-83.05684000000002%5D%2C%20%5B25.792443%2C%20-80.23956%5D%2C%20%5B37.00821%2C%20-122.00196%5D%2C%20%5B41.883%2C%20-93.571%5D%2C%20%5B39.870422%2C%20-75.317719%5D%2C%20%5B45.263403%2C%20-119.689296%5D%2C%20%5B36.200542%2C%20-86.827639%5D%2C%20%5B42.367142%2C%20-73.45223299999998%5D%2C%20%5B33.606136%2C%20-117.126438%5D%2C%20%5B33.888992%2C%20-118.188797%5D%2C%20%5B34.139746%2C%20-80.916436%5D%2C%20%5B34.096187%2C%20-80.852068%5D%2C%20%5B25.767744%2C%20-80.33628399999998%5D%2C%20%5B40.135223%2C%20-122.207602%5D%2C%20%5B43.794079%2C%20-92.13269%5D%2C%20%5B34.071963000000004%2C%20-117.881301%5D%2C%20%5B32.252724%2C%20-109.158876%5D%2C%20%5B37.316693%2C%20-77.40042%5D%2C%20%5B41.156975%2C%20-112.024447%5D%2C%20%5B46.156893%2C%20-123.906307%5D%2C%20%5B45.490841%2C%20-122.791366%5D%2C%20%5B35.147638%2C%20-80.83118499999998%5D%2C%20%5B33.090645%2C%20-117.302113%5D%2C%20%5B33.717883%2C%20-85.012086%5D%2C%20%5B38.866184%2C%20-77.065647%5D%2C%20%5B31.29836400000001%2C%20-85.78611%5D%2C%20%5B26.136634%2C%20-80.16891%5D%2C%20%5B25.947317%2C%20-80.151248%5D%2C%20%5B33.714026000000004%2C%20-84.241586%5D%2C%20%5B32.73689%2C%20-117.17607%5D%2C%20%5B41.843315%2C%20-123.92805%5D%2C%20%5B39.032812%2C%20-76.94454499999998%5D%2C%20%5B33.87611%2C%20-118.16531%5D%2C%20%5B33.68325%2C%20-117.87605%5D%2C%20%5B27.465023%2C%20-82.505617%5D%2C%20%5B37.315018%2C%20-121.909068%5D%2C%20%5B41.071652%2C%20-76.427377%5D%2C%20%5B38.553348%2C%20-121.436614%5D%2C%20%5B37.986506%2C%20-121.247273%5D%2C%20%5B26.67329%2C%20-80.17066700000002%5D%2C%20%5B40.090818%2C%20-75.12618%5D%2C%20%5B34.10342%2C%20-118.19179%5D%2C%20%5B37.67151%2C%20-122.12162%5D%2C%20%5B43.91451%2C%20-92.47835%5D%2C%20%5B36.14121%2C%20-86.717458%5D%2C%20%5B40.084143%2C%20-75.391756%5D%2C%20%5B42.949298%2C%20-78.76369%5D%2C%20%5B25.899671%2C%20-80.181294%5D%2C%20%5B36.595968%2C%20-121.545822%5D%2C%20%5B42.491129%2C%20-83.064287%5D%2C%20%5B27.89438%2C%20-82.76248000000002%5D%2C%20%5B44.867281%2C%20-93.625218%5D%2C%20%5B33.947062%2C%20-117.299905%5D%2C%20%5B37.5556%2C%20-77.45861%5D%2C%20%5B25.767174%2C%20-80.352906%5D%2C%20%5B45.517139%2C%20-122.802495%5D%2C%20%5B33.603038%2C%20-117.687885%5D%2C%20%5B41.50925%2C%20-93.5742%5D%2C%20%5B41.77888%2C%20-71.42545%5D%2C%20%5B40.075517%2C%20-75.356973%5D%2C%20%5B45.906828%2C%20-123.715106%5D%2C%20%5B40.37689%2C%20-111.821454%5D%2C%20%5B27.9198%2C%20-82.506%5D%2C%20%5B35.213589%2C%20-85.171417%5D%2C%20%5B30.755249%2C%20-85.38086%5D%2C%20%5B37.665613%2C%20-97.480609%5D%2C%20%5B38.9906%2C%20-77.15706%5D%2C%20%5B42.27953%2C%20-87.868271%5D%2C%20%5B34.036513%2C%20-78.644481%5D%2C%20%5B38.793532%2C%20-77.152091%5D%2C%20%5B38.877758%2C%20-77.270253%5D%2C%20%5B33.99771%2C%20-118.0683%5D%2C%20%5B33.723092%2C%20-117.076424%5D%2C%20%5B34.935418%2C%20-82.00745400000002%5D%2C%20%5B41.039213%2C%20-73.75934000000002%5D%2C%20%5B38.768494%2C%20-77.454034%5D%2C%20%5B39.094707%2C%20-76.627061%5D%2C%20%5B25.889709%2C%20-80.18643%5D%2C%20%5B35.0812%2C%20-80.73026999999998%5D%2C%20%5B29.81369%2C%20-95.37013%5D%2C%20%5B36.077075%2C%20-86.694672%5D%2C%20%5B33.52749%2C%20-81.63436800000002%5D%2C%20%5B37.70867%2C%20-122.47128%5D%2C%20%5B33.080767%2C%20-117.29683%5D%2C%20%5B36.845842%2C%20-76.198401%5D%2C%20%5B35.593246%2C%20-82.564219%5D%2C%20%5B39.664443%2C%20-84.160512%5D%2C%20%5B25.76109%2C%20-80.38809%5D%2C%20%5B33.884743%2C%20-118.35271000000002%5D%2C%20%5B41.058493%2C%20-73.81938000000002%5D%2C%20%5B36.096657%2C%20-75.812024%5D%2C%20%5B25.909895%2C%20-80.236127%5D%2C%20%5B30.382206%2C%20-97.687081%5D%2C%20%5B36.967561%2C%20-76.41527099999998%5D%2C%20%5B41.065217%2C%20-73.506362%5D%2C%20%5B40.059867%2C%20-78.064214%5D%2C%20%5B34.093963%2C%20-117.294206%5D%2C%20%5B41.05036%2C%20-73.81059%5D%2C%20%5B33.964633%2C%20-118.252367%5D%2C%20%5B45.25082800000001%2C%20-93.688785%5D%2C%20%5B32.7519%2C%20-96.756549%5D%2C%20%5B34.027353999999995%2C%20-117.927101%5D%2C%20%5B41.906588%2C%20-87.965179%5D%2C%20%5B33.46266%2C%20-112.231578%5D%2C%20%5B32.354658%2C%20-95.299586%5D%2C%20%5B35.35599000000001%2C%20-80.72623%5D%2C%20%5B42.3732%2C%20-71.03827%5D%2C%20%5B33.774575%2C%20-118.079904%5D%2C%20%5B40.392791%2C%20-120.592418%5D%2C%20%5B33.46213%2C%20-112.05922%5D%2C%20%5B42.964933%2C%20-71.41184200000002%5D%2C%20%5B34.656683%2C%20-86.802581%5D%5D%2C%0A%20%20%20%20%20%20%20%20%20%20%20%20%20%20%20%20%7B%0A%20%20%20%20%20%20%20%20%20%20%20%20%20%20%20%20%20%20%20%20minOpacity%3A%200.5%2C%0A%20%20%20%20%20%20%20%20%20%20%20%20%20%20%20%20%20%20%20%20maxZoom%3A%2018%2C%0A%20%20%20%20%20%20%20%20%20%20%20%20%20%20%20%20%20%20%20%20max%3A%201.0%2C%0A%20%20%20%20%20%20%20%20%20%20%20%20%20%20%20%20%20%20%20%20radius%3A%2025%2C%0A%20%20%20%20%20%20%20%20%20%20%20%20%20%20%20%20%20%20%20%20blur%3A%2015%2C%0A%20%20%20%20%20%20%20%20%20%20%20%20%20%20%20%20%20%20%20%20gradient%3A%20null%0A%20%20%20%20%20%20%20%20%20%20%20%20%20%20%20%20%20%20%20%20%7D%29%0A%20%20%20%20%20%20%20%20%20%20%20%20%20%20%20%20.addTo%28map_8d94305388ee49f7905108fe650ae1ae%29%3B%0A%20%20%20%20%20%20%20%20%0A%3C/script%3E onload=\"this.contentDocument.open();this.contentDocument.write(    decodeURIComponent(this.getAttribute('data-html')));this.contentDocument.close();\" allowfullscreen webkitallowfullscreen mozallowfullscreen></iframe></div></div>"
            ],
            "text/plain": [
              "<folium.folium.Map at 0x7f7add90ca90>"
            ]
          },
          "metadata": {},
          "execution_count": 64
        }
      ]
    },
    {
      "cell_type": "markdown",
      "source": [
        "# Ask a Question"
      ],
      "metadata": {
        "id": "PsF5XslWXBGZ"
      }
    },
    {
      "cell_type": "code",
      "source": [
        ""
      ],
      "metadata": {
        "id": "kvSzDI7hXFp3"
      },
      "execution_count": null,
      "outputs": []
    },
    {
      "cell_type": "markdown",
      "source": [
        "# Conclusion"
      ],
      "metadata": {
        "id": "uSyIBvI3XG44"
      }
    },
    {
      "cell_type": "code",
      "source": [
        ""
      ],
      "metadata": {
        "id": "0nHWIVUhXFj-"
      },
      "execution_count": null,
      "outputs": []
    }
  ]
}