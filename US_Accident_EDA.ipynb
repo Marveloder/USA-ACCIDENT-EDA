{
  "nbformat": 4,
  "nbformat_minor": 0,
  "metadata": {
    "colab": {
      "name": "US Accident EDA.ipynb",
      "provenance": [],
      "authorship_tag": "ABX9TyON8BMY6zEOFTvm6CZ89DRU",
      "include_colab_link": true
    },
    "kernelspec": {
      "name": "python3",
      "display_name": "Python 3"
    },
    "language_info": {
      "name": "python"
    }
  },
  "cells": [
    {
      "cell_type": "markdown",
      "metadata": {
        "id": "view-in-github",
        "colab_type": "text"
      },
      "source": [
        "<a href=\"https://colab.research.google.com/github/vivek16pawar/USA-ACCIDENT-EDA/blob/main/US_Accident_EDA.ipynb\" target=\"_parent\"><img src=\"https://colab.research.google.com/assets/colab-badge.svg\" alt=\"Open In Colab\"/></a>"
      ]
    },
    {
      "cell_type": "code",
      "execution_count": 73,
      "metadata": {
        "id": "upZ5atfBRtZf"
      },
      "outputs": [],
      "source": [
        "pip install opendatasets --upgrade --quiet"
      ]
    },
    {
      "cell_type": "code",
      "source": [
        "import opendatasets as od\n",
        "import seaborn as sns"
      ],
      "metadata": {
        "id": "MqSyYRvQTTsY"
      },
      "execution_count": 74,
      "outputs": []
    },
    {
      "cell_type": "code",
      "source": [
        "download_url = 'https://www.kaggle.com/sobhanmoosavi/us-accidents'\n",
        "od.download(download_url)"
      ],
      "metadata": {
        "colab": {
          "base_uri": "https://localhost:8080/"
        },
        "id": "ZdAD1tH6TkC1",
        "outputId": "7aef2386-eb68-48b7-8de7-a7a60b1ec155"
      },
      "execution_count": 75,
      "outputs": [
        {
          "output_type": "stream",
          "name": "stdout",
          "text": [
            "Skipping, found downloaded files in \"./us-accidents\" (use force=True to force download)\n"
          ]
        }
      ]
    },
    {
      "cell_type": "code",
      "source": [
        "file_path = '/content/us-accidents/US_Accidents_Dec21_updated.csv'"
      ],
      "metadata": {
        "id": "f8v_eTrNU-vM"
      },
      "execution_count": 76,
      "outputs": []
    },
    {
      "cell_type": "markdown",
      "source": [
        "# Data Preparation and Cleaning\n",
        "- Load the file using Pandas\n",
        "- Look at some information about the data & the columns\n",
        "- Fix any missing or incorrect values"
      ],
      "metadata": {
        "id": "rdbiSbi8Wm3-"
      }
    },
    {
      "cell_type": "code",
      "source": [
        "import pandas as pd"
      ],
      "metadata": {
        "id": "SFrtpgUyVDh9"
      },
      "execution_count": 77,
      "outputs": []
    },
    {
      "cell_type": "code",
      "source": [
        "df = pd.read_csv(file_path)"
      ],
      "metadata": {
        "id": "19feWaIRVKzO"
      },
      "execution_count": 78,
      "outputs": []
    },
    {
      "cell_type": "code",
      "source": [
        "df[54:69]"
      ],
      "metadata": {
        "colab": {
          "base_uri": "https://localhost:8080/",
          "height": 1000
        },
        "id": "GzXYiOVoVWhx",
        "outputId": "2f90e1ed-3aea-4e5d-a0e0-81e3b1827e52"
      },
      "execution_count": 79,
      "outputs": [
        {
          "output_type": "execute_result",
          "data": {
            "text/html": [
              "\n",
              "  <div id=\"df-63597845-06f1-4cf1-86a1-c491b98a745f\">\n",
              "    <div class=\"colab-df-container\">\n",
              "      <div>\n",
              "<style scoped>\n",
              "    .dataframe tbody tr th:only-of-type {\n",
              "        vertical-align: middle;\n",
              "    }\n",
              "\n",
              "    .dataframe tbody tr th {\n",
              "        vertical-align: top;\n",
              "    }\n",
              "\n",
              "    .dataframe thead th {\n",
              "        text-align: right;\n",
              "    }\n",
              "</style>\n",
              "<table border=\"1\" class=\"dataframe\">\n",
              "  <thead>\n",
              "    <tr style=\"text-align: right;\">\n",
              "      <th></th>\n",
              "      <th>ID</th>\n",
              "      <th>Severity</th>\n",
              "      <th>Start_Time</th>\n",
              "      <th>End_Time</th>\n",
              "      <th>Start_Lat</th>\n",
              "      <th>Start_Lng</th>\n",
              "      <th>End_Lat</th>\n",
              "      <th>End_Lng</th>\n",
              "      <th>Distance(mi)</th>\n",
              "      <th>Description</th>\n",
              "      <th>...</th>\n",
              "      <th>Roundabout</th>\n",
              "      <th>Station</th>\n",
              "      <th>Stop</th>\n",
              "      <th>Traffic_Calming</th>\n",
              "      <th>Traffic_Signal</th>\n",
              "      <th>Turning_Loop</th>\n",
              "      <th>Sunrise_Sunset</th>\n",
              "      <th>Civil_Twilight</th>\n",
              "      <th>Nautical_Twilight</th>\n",
              "      <th>Astronomical_Twilight</th>\n",
              "    </tr>\n",
              "  </thead>\n",
              "  <tbody>\n",
              "    <tr>\n",
              "      <th>54</th>\n",
              "      <td>A-3166838</td>\n",
              "      <td>3</td>\n",
              "      <td>2016-02-10 08:39:16</td>\n",
              "      <td>2016-02-10 14:39:16</td>\n",
              "      <td>39.715480</td>\n",
              "      <td>-84.220330</td>\n",
              "      <td>39.717670</td>\n",
              "      <td>-84.216320</td>\n",
              "      <td>0.261</td>\n",
              "      <td>At Dryden Rd/Exit 50 - Accident.</td>\n",
              "      <td>...</td>\n",
              "      <td>False</td>\n",
              "      <td>False</td>\n",
              "      <td>False</td>\n",
              "      <td>False</td>\n",
              "      <td>False</td>\n",
              "      <td>False</td>\n",
              "      <td>Day</td>\n",
              "      <td>Day</td>\n",
              "      <td>Day</td>\n",
              "      <td>Day</td>\n",
              "    </tr>\n",
              "    <tr>\n",
              "      <th>55</th>\n",
              "      <td>A-3166839</td>\n",
              "      <td>2</td>\n",
              "      <td>2016-02-10 08:39:16</td>\n",
              "      <td>2016-02-10 14:39:16</td>\n",
              "      <td>39.750400</td>\n",
              "      <td>-84.205610</td>\n",
              "      <td>39.731670</td>\n",
              "      <td>-84.205800</td>\n",
              "      <td>1.294</td>\n",
              "      <td>Between US-35/Albany St/Exit 52 and Edwin C Mo...</td>\n",
              "      <td>...</td>\n",
              "      <td>False</td>\n",
              "      <td>False</td>\n",
              "      <td>False</td>\n",
              "      <td>False</td>\n",
              "      <td>False</td>\n",
              "      <td>False</td>\n",
              "      <td>Day</td>\n",
              "      <td>Day</td>\n",
              "      <td>Day</td>\n",
              "      <td>Day</td>\n",
              "    </tr>\n",
              "    <tr>\n",
              "      <th>56</th>\n",
              "      <td>A-3166840</td>\n",
              "      <td>2</td>\n",
              "      <td>2016-02-10 08:48:06</td>\n",
              "      <td>2016-02-10 14:48:06</td>\n",
              "      <td>41.723160</td>\n",
              "      <td>-84.964440</td>\n",
              "      <td>41.715052</td>\n",
              "      <td>-84.951306</td>\n",
              "      <td>0.879</td>\n",
              "      <td>Between James Whitcomb Riley Service Area and ...</td>\n",
              "      <td>...</td>\n",
              "      <td>False</td>\n",
              "      <td>False</td>\n",
              "      <td>False</td>\n",
              "      <td>False</td>\n",
              "      <td>False</td>\n",
              "      <td>False</td>\n",
              "      <td>Day</td>\n",
              "      <td>Day</td>\n",
              "      <td>Day</td>\n",
              "      <td>Day</td>\n",
              "    </tr>\n",
              "    <tr>\n",
              "      <th>57</th>\n",
              "      <td>A-3166841</td>\n",
              "      <td>2</td>\n",
              "      <td>2016-02-10 09:06:09</td>\n",
              "      <td>2016-02-10 15:06:09</td>\n",
              "      <td>40.043760</td>\n",
              "      <td>-82.997080</td>\n",
              "      <td>40.063760</td>\n",
              "      <td>-82.996790</td>\n",
              "      <td>1.382</td>\n",
              "      <td>Between Cooke Rd/Exit 115 and Morse Rd/Exit 11...</td>\n",
              "      <td>...</td>\n",
              "      <td>False</td>\n",
              "      <td>False</td>\n",
              "      <td>False</td>\n",
              "      <td>False</td>\n",
              "      <td>False</td>\n",
              "      <td>False</td>\n",
              "      <td>Day</td>\n",
              "      <td>Day</td>\n",
              "      <td>Day</td>\n",
              "      <td>Day</td>\n",
              "    </tr>\n",
              "    <tr>\n",
              "      <th>58</th>\n",
              "      <td>A-3166842</td>\n",
              "      <td>2</td>\n",
              "      <td>2016-02-10 09:06:09</td>\n",
              "      <td>2016-02-10 15:06:09</td>\n",
              "      <td>38.178100</td>\n",
              "      <td>-85.719460</td>\n",
              "      <td>38.181040</td>\n",
              "      <td>-85.721160</td>\n",
              "      <td>0.223</td>\n",
              "      <td>At KY-61/Grade Lane/Exit 130 - Accident.</td>\n",
              "      <td>...</td>\n",
              "      <td>False</td>\n",
              "      <td>False</td>\n",
              "      <td>False</td>\n",
              "      <td>False</td>\n",
              "      <td>False</td>\n",
              "      <td>False</td>\n",
              "      <td>Day</td>\n",
              "      <td>Day</td>\n",
              "      <td>Day</td>\n",
              "      <td>Day</td>\n",
              "    </tr>\n",
              "    <tr>\n",
              "      <th>59</th>\n",
              "      <td>A-3166843</td>\n",
              "      <td>2</td>\n",
              "      <td>2016-02-10 09:08:29</td>\n",
              "      <td>2016-02-10 15:08:29</td>\n",
              "      <td>38.185770</td>\n",
              "      <td>-85.806780</td>\n",
              "      <td>38.206480</td>\n",
              "      <td>-85.827850</td>\n",
              "      <td>1.832</td>\n",
              "      <td>Between US-31/US-60/Exit 8 and South Cane Run ...</td>\n",
              "      <td>...</td>\n",
              "      <td>False</td>\n",
              "      <td>False</td>\n",
              "      <td>False</td>\n",
              "      <td>False</td>\n",
              "      <td>False</td>\n",
              "      <td>False</td>\n",
              "      <td>Day</td>\n",
              "      <td>Day</td>\n",
              "      <td>Day</td>\n",
              "      <td>Day</td>\n",
              "    </tr>\n",
              "    <tr>\n",
              "      <th>60</th>\n",
              "      <td>A-3166844</td>\n",
              "      <td>3</td>\n",
              "      <td>2016-02-10 09:08:29</td>\n",
              "      <td>2016-02-10 15:08:29</td>\n",
              "      <td>38.271910</td>\n",
              "      <td>-85.808380</td>\n",
              "      <td>38.271910</td>\n",
              "      <td>-85.808380</td>\n",
              "      <td>0.000</td>\n",
              "      <td>At Bank St/Exit 1 - Accident.</td>\n",
              "      <td>...</td>\n",
              "      <td>False</td>\n",
              "      <td>False</td>\n",
              "      <td>False</td>\n",
              "      <td>False</td>\n",
              "      <td>False</td>\n",
              "      <td>False</td>\n",
              "      <td>Day</td>\n",
              "      <td>Day</td>\n",
              "      <td>Day</td>\n",
              "      <td>Day</td>\n",
              "    </tr>\n",
              "    <tr>\n",
              "      <th>61</th>\n",
              "      <td>A-3166845</td>\n",
              "      <td>2</td>\n",
              "      <td>2016-02-10 09:18:13</td>\n",
              "      <td>2016-02-10 15:18:13</td>\n",
              "      <td>39.923905</td>\n",
              "      <td>-82.870080</td>\n",
              "      <td>39.938440</td>\n",
              "      <td>-82.848290</td>\n",
              "      <td>1.530</td>\n",
              "      <td>At I-70/US-40/Main St/Exit 43 - Accident.</td>\n",
              "      <td>...</td>\n",
              "      <td>False</td>\n",
              "      <td>False</td>\n",
              "      <td>False</td>\n",
              "      <td>False</td>\n",
              "      <td>False</td>\n",
              "      <td>False</td>\n",
              "      <td>Day</td>\n",
              "      <td>Day</td>\n",
              "      <td>Day</td>\n",
              "      <td>Day</td>\n",
              "    </tr>\n",
              "    <tr>\n",
              "      <th>62</th>\n",
              "      <td>A-3166846</td>\n",
              "      <td>2</td>\n",
              "      <td>2016-02-10 09:34:38</td>\n",
              "      <td>2016-02-10 15:34:38</td>\n",
              "      <td>41.035566</td>\n",
              "      <td>-81.569917</td>\n",
              "      <td>41.036015</td>\n",
              "      <td>-81.579895</td>\n",
              "      <td>0.521</td>\n",
              "      <td>At OH-619/Wooster Rd/Exit 17 - Accident.</td>\n",
              "      <td>...</td>\n",
              "      <td>False</td>\n",
              "      <td>False</td>\n",
              "      <td>False</td>\n",
              "      <td>False</td>\n",
              "      <td>False</td>\n",
              "      <td>False</td>\n",
              "      <td>Day</td>\n",
              "      <td>Day</td>\n",
              "      <td>Day</td>\n",
              "      <td>Day</td>\n",
              "    </tr>\n",
              "    <tr>\n",
              "      <th>63</th>\n",
              "      <td>A-3166847</td>\n",
              "      <td>3</td>\n",
              "      <td>2016-02-10 10:18:13</td>\n",
              "      <td>2016-02-10 16:18:13</td>\n",
              "      <td>39.923900</td>\n",
              "      <td>-83.687670</td>\n",
              "      <td>39.932710</td>\n",
              "      <td>-83.611970</td>\n",
              "      <td>4.057</td>\n",
              "      <td>Between US-40/Exit 62 and OH-54/Exit 66 - Acci...</td>\n",
              "      <td>...</td>\n",
              "      <td>False</td>\n",
              "      <td>False</td>\n",
              "      <td>False</td>\n",
              "      <td>False</td>\n",
              "      <td>False</td>\n",
              "      <td>False</td>\n",
              "      <td>Day</td>\n",
              "      <td>Day</td>\n",
              "      <td>Day</td>\n",
              "      <td>Day</td>\n",
              "    </tr>\n",
              "    <tr>\n",
              "      <th>64</th>\n",
              "      <td>A-3166848</td>\n",
              "      <td>2</td>\n",
              "      <td>2016-02-10 10:21:52</td>\n",
              "      <td>2016-02-10 16:21:52</td>\n",
              "      <td>41.851914</td>\n",
              "      <td>-80.175232</td>\n",
              "      <td>41.858231</td>\n",
              "      <td>-80.176444</td>\n",
              "      <td>0.441</td>\n",
              "      <td>At US-6/Exit 166 - Accident.</td>\n",
              "      <td>...</td>\n",
              "      <td>False</td>\n",
              "      <td>False</td>\n",
              "      <td>False</td>\n",
              "      <td>False</td>\n",
              "      <td>False</td>\n",
              "      <td>False</td>\n",
              "      <td>Day</td>\n",
              "      <td>Day</td>\n",
              "      <td>Day</td>\n",
              "      <td>Day</td>\n",
              "    </tr>\n",
              "    <tr>\n",
              "      <th>65</th>\n",
              "      <td>A-3166849</td>\n",
              "      <td>2</td>\n",
              "      <td>2016-02-10 10:47:49</td>\n",
              "      <td>2016-02-10 16:47:49</td>\n",
              "      <td>39.938490</td>\n",
              "      <td>-82.848490</td>\n",
              "      <td>39.899230</td>\n",
              "      <td>-82.901350</td>\n",
              "      <td>3.899</td>\n",
              "      <td>Between I-70/US-40/Main St/Exit 43 and US-33/E...</td>\n",
              "      <td>...</td>\n",
              "      <td>False</td>\n",
              "      <td>False</td>\n",
              "      <td>False</td>\n",
              "      <td>False</td>\n",
              "      <td>False</td>\n",
              "      <td>False</td>\n",
              "      <td>Day</td>\n",
              "      <td>Day</td>\n",
              "      <td>Day</td>\n",
              "      <td>Day</td>\n",
              "    </tr>\n",
              "    <tr>\n",
              "      <th>66</th>\n",
              "      <td>A-3166850</td>\n",
              "      <td>2</td>\n",
              "      <td>2016-02-10 11:09:08</td>\n",
              "      <td>2016-02-10 17:09:08</td>\n",
              "      <td>38.969430</td>\n",
              "      <td>-80.109600</td>\n",
              "      <td>39.002630</td>\n",
              "      <td>-80.226470</td>\n",
              "      <td>6.683</td>\n",
              "      <td>At Talbott Rd - Accident.</td>\n",
              "      <td>...</td>\n",
              "      <td>False</td>\n",
              "      <td>False</td>\n",
              "      <td>False</td>\n",
              "      <td>False</td>\n",
              "      <td>False</td>\n",
              "      <td>False</td>\n",
              "      <td>Day</td>\n",
              "      <td>Day</td>\n",
              "      <td>Day</td>\n",
              "      <td>Day</td>\n",
              "    </tr>\n",
              "    <tr>\n",
              "      <th>67</th>\n",
              "      <td>A-3166851</td>\n",
              "      <td>2</td>\n",
              "      <td>2016-02-10 11:09:08</td>\n",
              "      <td>2016-02-10 17:09:08</td>\n",
              "      <td>39.002480</td>\n",
              "      <td>-80.226240</td>\n",
              "      <td>38.969110</td>\n",
              "      <td>-80.110720</td>\n",
              "      <td>6.619</td>\n",
              "      <td>At Talbott Rd - Accident.</td>\n",
              "      <td>...</td>\n",
              "      <td>False</td>\n",
              "      <td>False</td>\n",
              "      <td>False</td>\n",
              "      <td>False</td>\n",
              "      <td>False</td>\n",
              "      <td>False</td>\n",
              "      <td>Day</td>\n",
              "      <td>Day</td>\n",
              "      <td>Day</td>\n",
              "      <td>Day</td>\n",
              "    </tr>\n",
              "    <tr>\n",
              "      <th>68</th>\n",
              "      <td>A-3166852</td>\n",
              "      <td>2</td>\n",
              "      <td>2016-02-10 11:55:16</td>\n",
              "      <td>2016-02-10 17:55:16</td>\n",
              "      <td>41.668050</td>\n",
              "      <td>-83.570630</td>\n",
              "      <td>41.665530</td>\n",
              "      <td>-83.565320</td>\n",
              "      <td>0.325</td>\n",
              "      <td>At US-24/Detroit Ave/Exit 203 - Accident.</td>\n",
              "      <td>...</td>\n",
              "      <td>False</td>\n",
              "      <td>False</td>\n",
              "      <td>False</td>\n",
              "      <td>False</td>\n",
              "      <td>False</td>\n",
              "      <td>False</td>\n",
              "      <td>Day</td>\n",
              "      <td>Day</td>\n",
              "      <td>Day</td>\n",
              "      <td>Day</td>\n",
              "    </tr>\n",
              "  </tbody>\n",
              "</table>\n",
              "<p>15 rows × 47 columns</p>\n",
              "</div>\n",
              "      <button class=\"colab-df-convert\" onclick=\"convertToInteractive('df-63597845-06f1-4cf1-86a1-c491b98a745f')\"\n",
              "              title=\"Convert this dataframe to an interactive table.\"\n",
              "              style=\"display:none;\">\n",
              "        \n",
              "  <svg xmlns=\"http://www.w3.org/2000/svg\" height=\"24px\"viewBox=\"0 0 24 24\"\n",
              "       width=\"24px\">\n",
              "    <path d=\"M0 0h24v24H0V0z\" fill=\"none\"/>\n",
              "    <path d=\"M18.56 5.44l.94 2.06.94-2.06 2.06-.94-2.06-.94-.94-2.06-.94 2.06-2.06.94zm-11 1L8.5 8.5l.94-2.06 2.06-.94-2.06-.94L8.5 2.5l-.94 2.06-2.06.94zm10 10l.94 2.06.94-2.06 2.06-.94-2.06-.94-.94-2.06-.94 2.06-2.06.94z\"/><path d=\"M17.41 7.96l-1.37-1.37c-.4-.4-.92-.59-1.43-.59-.52 0-1.04.2-1.43.59L10.3 9.45l-7.72 7.72c-.78.78-.78 2.05 0 2.83L4 21.41c.39.39.9.59 1.41.59.51 0 1.02-.2 1.41-.59l7.78-7.78 2.81-2.81c.8-.78.8-2.07 0-2.86zM5.41 20L4 18.59l7.72-7.72 1.47 1.35L5.41 20z\"/>\n",
              "  </svg>\n",
              "      </button>\n",
              "      \n",
              "  <style>\n",
              "    .colab-df-container {\n",
              "      display:flex;\n",
              "      flex-wrap:wrap;\n",
              "      gap: 12px;\n",
              "    }\n",
              "\n",
              "    .colab-df-convert {\n",
              "      background-color: #E8F0FE;\n",
              "      border: none;\n",
              "      border-radius: 50%;\n",
              "      cursor: pointer;\n",
              "      display: none;\n",
              "      fill: #1967D2;\n",
              "      height: 32px;\n",
              "      padding: 0 0 0 0;\n",
              "      width: 32px;\n",
              "    }\n",
              "\n",
              "    .colab-df-convert:hover {\n",
              "      background-color: #E2EBFA;\n",
              "      box-shadow: 0px 1px 2px rgba(60, 64, 67, 0.3), 0px 1px 3px 1px rgba(60, 64, 67, 0.15);\n",
              "      fill: #174EA6;\n",
              "    }\n",
              "\n",
              "    [theme=dark] .colab-df-convert {\n",
              "      background-color: #3B4455;\n",
              "      fill: #D2E3FC;\n",
              "    }\n",
              "\n",
              "    [theme=dark] .colab-df-convert:hover {\n",
              "      background-color: #434B5C;\n",
              "      box-shadow: 0px 1px 3px 1px rgba(0, 0, 0, 0.15);\n",
              "      filter: drop-shadow(0px 1px 2px rgba(0, 0, 0, 0.3));\n",
              "      fill: #FFFFFF;\n",
              "    }\n",
              "  </style>\n",
              "\n",
              "      <script>\n",
              "        const buttonEl =\n",
              "          document.querySelector('#df-63597845-06f1-4cf1-86a1-c491b98a745f button.colab-df-convert');\n",
              "        buttonEl.style.display =\n",
              "          google.colab.kernel.accessAllowed ? 'block' : 'none';\n",
              "\n",
              "        async function convertToInteractive(key) {\n",
              "          const element = document.querySelector('#df-63597845-06f1-4cf1-86a1-c491b98a745f');\n",
              "          const dataTable =\n",
              "            await google.colab.kernel.invokeFunction('convertToInteractive',\n",
              "                                                     [key], {});\n",
              "          if (!dataTable) return;\n",
              "\n",
              "          const docLinkHtml = 'Like what you see? Visit the ' +\n",
              "            '<a target=\"_blank\" href=https://colab.research.google.com/notebooks/data_table.ipynb>data table notebook</a>'\n",
              "            + ' to learn more about interactive tables.';\n",
              "          element.innerHTML = '';\n",
              "          dataTable['output_type'] = 'display_data';\n",
              "          await google.colab.output.renderOutput(dataTable, element);\n",
              "          const docLink = document.createElement('div');\n",
              "          docLink.innerHTML = docLinkHtml;\n",
              "          element.appendChild(docLink);\n",
              "        }\n",
              "      </script>\n",
              "    </div>\n",
              "  </div>\n",
              "  "
            ],
            "text/plain": [
              "           ID  Severity           Start_Time             End_Time  Start_Lat  \\\n",
              "54  A-3166838         3  2016-02-10 08:39:16  2016-02-10 14:39:16  39.715480   \n",
              "55  A-3166839         2  2016-02-10 08:39:16  2016-02-10 14:39:16  39.750400   \n",
              "56  A-3166840         2  2016-02-10 08:48:06  2016-02-10 14:48:06  41.723160   \n",
              "57  A-3166841         2  2016-02-10 09:06:09  2016-02-10 15:06:09  40.043760   \n",
              "58  A-3166842         2  2016-02-10 09:06:09  2016-02-10 15:06:09  38.178100   \n",
              "59  A-3166843         2  2016-02-10 09:08:29  2016-02-10 15:08:29  38.185770   \n",
              "60  A-3166844         3  2016-02-10 09:08:29  2016-02-10 15:08:29  38.271910   \n",
              "61  A-3166845         2  2016-02-10 09:18:13  2016-02-10 15:18:13  39.923905   \n",
              "62  A-3166846         2  2016-02-10 09:34:38  2016-02-10 15:34:38  41.035566   \n",
              "63  A-3166847         3  2016-02-10 10:18:13  2016-02-10 16:18:13  39.923900   \n",
              "64  A-3166848         2  2016-02-10 10:21:52  2016-02-10 16:21:52  41.851914   \n",
              "65  A-3166849         2  2016-02-10 10:47:49  2016-02-10 16:47:49  39.938490   \n",
              "66  A-3166850         2  2016-02-10 11:09:08  2016-02-10 17:09:08  38.969430   \n",
              "67  A-3166851         2  2016-02-10 11:09:08  2016-02-10 17:09:08  39.002480   \n",
              "68  A-3166852         2  2016-02-10 11:55:16  2016-02-10 17:55:16  41.668050   \n",
              "\n",
              "    Start_Lng    End_Lat    End_Lng  Distance(mi)  \\\n",
              "54 -84.220330  39.717670 -84.216320         0.261   \n",
              "55 -84.205610  39.731670 -84.205800         1.294   \n",
              "56 -84.964440  41.715052 -84.951306         0.879   \n",
              "57 -82.997080  40.063760 -82.996790         1.382   \n",
              "58 -85.719460  38.181040 -85.721160         0.223   \n",
              "59 -85.806780  38.206480 -85.827850         1.832   \n",
              "60 -85.808380  38.271910 -85.808380         0.000   \n",
              "61 -82.870080  39.938440 -82.848290         1.530   \n",
              "62 -81.569917  41.036015 -81.579895         0.521   \n",
              "63 -83.687670  39.932710 -83.611970         4.057   \n",
              "64 -80.175232  41.858231 -80.176444         0.441   \n",
              "65 -82.848490  39.899230 -82.901350         3.899   \n",
              "66 -80.109600  39.002630 -80.226470         6.683   \n",
              "67 -80.226240  38.969110 -80.110720         6.619   \n",
              "68 -83.570630  41.665530 -83.565320         0.325   \n",
              "\n",
              "                                          Description  ...  Roundabout  \\\n",
              "54                   At Dryden Rd/Exit 50 - Accident.  ...       False   \n",
              "55  Between US-35/Albany St/Exit 52 and Edwin C Mo...  ...       False   \n",
              "56  Between James Whitcomb Riley Service Area and ...  ...       False   \n",
              "57  Between Cooke Rd/Exit 115 and Morse Rd/Exit 11...  ...       False   \n",
              "58           At KY-61/Grade Lane/Exit 130 - Accident.  ...       False   \n",
              "59  Between US-31/US-60/Exit 8 and South Cane Run ...  ...       False   \n",
              "60                      At Bank St/Exit 1 - Accident.  ...       False   \n",
              "61          At I-70/US-40/Main St/Exit 43 - Accident.  ...       False   \n",
              "62           At OH-619/Wooster Rd/Exit 17 - Accident.  ...       False   \n",
              "63  Between US-40/Exit 62 and OH-54/Exit 66 - Acci...  ...       False   \n",
              "64                       At US-6/Exit 166 - Accident.  ...       False   \n",
              "65  Between I-70/US-40/Main St/Exit 43 and US-33/E...  ...       False   \n",
              "66                          At Talbott Rd - Accident.  ...       False   \n",
              "67                          At Talbott Rd - Accident.  ...       False   \n",
              "68          At US-24/Detroit Ave/Exit 203 - Accident.  ...       False   \n",
              "\n",
              "   Station   Stop Traffic_Calming Traffic_Signal Turning_Loop Sunrise_Sunset  \\\n",
              "54   False  False           False          False        False            Day   \n",
              "55   False  False           False          False        False            Day   \n",
              "56   False  False           False          False        False            Day   \n",
              "57   False  False           False          False        False            Day   \n",
              "58   False  False           False          False        False            Day   \n",
              "59   False  False           False          False        False            Day   \n",
              "60   False  False           False          False        False            Day   \n",
              "61   False  False           False          False        False            Day   \n",
              "62   False  False           False          False        False            Day   \n",
              "63   False  False           False          False        False            Day   \n",
              "64   False  False           False          False        False            Day   \n",
              "65   False  False           False          False        False            Day   \n",
              "66   False  False           False          False        False            Day   \n",
              "67   False  False           False          False        False            Day   \n",
              "68   False  False           False          False        False            Day   \n",
              "\n",
              "   Civil_Twilight Nautical_Twilight Astronomical_Twilight  \n",
              "54            Day               Day                   Day  \n",
              "55            Day               Day                   Day  \n",
              "56            Day               Day                   Day  \n",
              "57            Day               Day                   Day  \n",
              "58            Day               Day                   Day  \n",
              "59            Day               Day                   Day  \n",
              "60            Day               Day                   Day  \n",
              "61            Day               Day                   Day  \n",
              "62            Day               Day                   Day  \n",
              "63            Day               Day                   Day  \n",
              "64            Day               Day                   Day  \n",
              "65            Day               Day                   Day  \n",
              "66            Day               Day                   Day  \n",
              "67            Day               Day                   Day  \n",
              "68            Day               Day                   Day  \n",
              "\n",
              "[15 rows x 47 columns]"
            ]
          },
          "metadata": {},
          "execution_count": 79
        }
      ]
    },
    {
      "cell_type": "code",
      "source": [
        "df.info()"
      ],
      "metadata": {
        "colab": {
          "base_uri": "https://localhost:8080/"
        },
        "id": "6ftGP9C0WvpE",
        "outputId": "ef459b77-f806-46dd-e26e-069de96afc06"
      },
      "execution_count": 80,
      "outputs": [
        {
          "output_type": "stream",
          "name": "stdout",
          "text": [
            "<class 'pandas.core.frame.DataFrame'>\n",
            "RangeIndex: 3015853 entries, 0 to 3015852\n",
            "Data columns (total 47 columns):\n",
            " #   Column                 Dtype  \n",
            "---  ------                 -----  \n",
            " 0   ID                     object \n",
            " 1   Severity               int64  \n",
            " 2   Start_Time             object \n",
            " 3   End_Time               object \n",
            " 4   Start_Lat              float64\n",
            " 5   Start_Lng              float64\n",
            " 6   End_Lat                float64\n",
            " 7   End_Lng                float64\n",
            " 8   Distance(mi)           float64\n",
            " 9   Description            object \n",
            " 10  Number                 float64\n",
            " 11  Street                 object \n",
            " 12  Side                   object \n",
            " 13  City                   object \n",
            " 14  County                 object \n",
            " 15  State                  object \n",
            " 16  Zipcode                object \n",
            " 17  Country                object \n",
            " 18  Timezone               object \n",
            " 19  Airport_Code           object \n",
            " 20  Weather_Timestamp      object \n",
            " 21  Temperature(F)         float64\n",
            " 22  Wind_Chill(F)          float64\n",
            " 23  Humidity(%)            float64\n",
            " 24  Pressure(in)           float64\n",
            " 25  Visibility(mi)         float64\n",
            " 26  Wind_Direction         object \n",
            " 27  Wind_Speed(mph)        float64\n",
            " 28  Precipitation(in)      float64\n",
            " 29  Weather_Condition      object \n",
            " 30  Amenity                bool   \n",
            " 31  Bump                   bool   \n",
            " 32  Crossing               bool   \n",
            " 33  Give_Way               bool   \n",
            " 34  Junction               bool   \n",
            " 35  No_Exit                bool   \n",
            " 36  Railway                bool   \n",
            " 37  Roundabout             bool   \n",
            " 38  Station                bool   \n",
            " 39  Stop                   bool   \n",
            " 40  Traffic_Calming        bool   \n",
            " 41  Traffic_Signal         bool   \n",
            " 42  Turning_Loop           bool   \n",
            " 43  Sunrise_Sunset         object \n",
            " 44  Civil_Twilight         object \n",
            " 45  Nautical_Twilight      object \n",
            " 46  Astronomical_Twilight  object \n",
            "dtypes: bool(13), float64(13), int64(1), object(20)\n",
            "memory usage: 819.7+ MB\n"
          ]
        }
      ]
    },
    {
      "cell_type": "code",
      "source": [
        "df.describe()"
      ],
      "metadata": {
        "colab": {
          "base_uri": "https://localhost:8080/",
          "height": 364
        },
        "id": "sINHfgPMXlHC",
        "outputId": "a28f96ba-b91b-47c6-96f3-d18396cc1896"
      },
      "execution_count": 81,
      "outputs": [
        {
          "output_type": "execute_result",
          "data": {
            "text/html": [
              "\n",
              "  <div id=\"df-667ac375-d7da-4ad6-9e84-52b2f53d1205\">\n",
              "    <div class=\"colab-df-container\">\n",
              "      <div>\n",
              "<style scoped>\n",
              "    .dataframe tbody tr th:only-of-type {\n",
              "        vertical-align: middle;\n",
              "    }\n",
              "\n",
              "    .dataframe tbody tr th {\n",
              "        vertical-align: top;\n",
              "    }\n",
              "\n",
              "    .dataframe thead th {\n",
              "        text-align: right;\n",
              "    }\n",
              "</style>\n",
              "<table border=\"1\" class=\"dataframe\">\n",
              "  <thead>\n",
              "    <tr style=\"text-align: right;\">\n",
              "      <th></th>\n",
              "      <th>Severity</th>\n",
              "      <th>Start_Lat</th>\n",
              "      <th>Start_Lng</th>\n",
              "      <th>End_Lat</th>\n",
              "      <th>End_Lng</th>\n",
              "      <th>Distance(mi)</th>\n",
              "      <th>Number</th>\n",
              "      <th>Temperature(F)</th>\n",
              "      <th>Wind_Chill(F)</th>\n",
              "      <th>Humidity(%)</th>\n",
              "      <th>Pressure(in)</th>\n",
              "      <th>Visibility(mi)</th>\n",
              "      <th>Wind_Speed(mph)</th>\n",
              "      <th>Precipitation(in)</th>\n",
              "    </tr>\n",
              "  </thead>\n",
              "  <tbody>\n",
              "    <tr>\n",
              "      <th>count</th>\n",
              "      <td>3.015853e+06</td>\n",
              "      <td>3.015853e+06</td>\n",
              "      <td>3.015853e+06</td>\n",
              "      <td>3.015853e+06</td>\n",
              "      <td>3.015853e+06</td>\n",
              "      <td>3.015853e+06</td>\n",
              "      <td>1.174732e+06</td>\n",
              "      <td>2.941347e+06</td>\n",
              "      <td>2.524905e+06</td>\n",
              "      <td>2.937191e+06</td>\n",
              "      <td>2.952023e+06</td>\n",
              "      <td>2.939850e+06</td>\n",
              "      <td>2.849124e+06</td>\n",
              "      <td>2.442304e+06</td>\n",
              "    </tr>\n",
              "    <tr>\n",
              "      <th>mean</th>\n",
              "      <td>2.140779e+00</td>\n",
              "      <td>3.628466e+01</td>\n",
              "      <td>-9.683807e+01</td>\n",
              "      <td>3.628478e+01</td>\n",
              "      <td>-9.683782e+01</td>\n",
              "      <td>7.082974e-01</td>\n",
              "      <td>8.042575e+03</td>\n",
              "      <td>6.155521e+01</td>\n",
              "      <td>5.936960e+01</td>\n",
              "      <td>6.451032e+01</td>\n",
              "      <td>2.946402e+01</td>\n",
              "      <td>9.090539e+00</td>\n",
              "      <td>7.375893e+00</td>\n",
              "      <td>6.928912e-03</td>\n",
              "    </tr>\n",
              "    <tr>\n",
              "      <th>std</th>\n",
              "      <td>4.861732e-01</td>\n",
              "      <td>5.355838e+00</td>\n",
              "      <td>1.829096e+01</td>\n",
              "      <td>5.355914e+00</td>\n",
              "      <td>1.829076e+01</td>\n",
              "      <td>1.584728e+00</td>\n",
              "      <td>1.817221e+04</td>\n",
              "      <td>1.867439e+01</td>\n",
              "      <td>2.121067e+01</td>\n",
              "      <td>2.288266e+01</td>\n",
              "      <td>1.055155e+00</td>\n",
              "      <td>2.722835e+00</td>\n",
              "      <td>5.527790e+00</td>\n",
              "      <td>9.176873e-02</td>\n",
              "    </tr>\n",
              "    <tr>\n",
              "      <th>min</th>\n",
              "      <td>1.000000e+00</td>\n",
              "      <td>2.456603e+01</td>\n",
              "      <td>-1.245481e+02</td>\n",
              "      <td>2.456601e+01</td>\n",
              "      <td>-1.245457e+02</td>\n",
              "      <td>0.000000e+00</td>\n",
              "      <td>0.000000e+00</td>\n",
              "      <td>-8.900000e+01</td>\n",
              "      <td>-8.900000e+01</td>\n",
              "      <td>1.000000e+00</td>\n",
              "      <td>0.000000e+00</td>\n",
              "      <td>0.000000e+00</td>\n",
              "      <td>0.000000e+00</td>\n",
              "      <td>0.000000e+00</td>\n",
              "    </tr>\n",
              "    <tr>\n",
              "      <th>25%</th>\n",
              "      <td>2.000000e+00</td>\n",
              "      <td>3.346218e+01</td>\n",
              "      <td>-1.179876e+02</td>\n",
              "      <td>3.346220e+01</td>\n",
              "      <td>-1.179882e+02</td>\n",
              "      <td>5.100000e-02</td>\n",
              "      <td>1.242000e+03</td>\n",
              "      <td>4.900000e+01</td>\n",
              "      <td>4.600000e+01</td>\n",
              "      <td>4.800000e+01</td>\n",
              "      <td>2.930000e+01</td>\n",
              "      <td>1.000000e+01</td>\n",
              "      <td>3.500000e+00</td>\n",
              "      <td>0.000000e+00</td>\n",
              "    </tr>\n",
              "    <tr>\n",
              "      <th>50%</th>\n",
              "      <td>2.000000e+00</td>\n",
              "      <td>3.614557e+01</td>\n",
              "      <td>-9.116184e+01</td>\n",
              "      <td>3.614717e+01</td>\n",
              "      <td>-9.116125e+01</td>\n",
              "      <td>2.430000e-01</td>\n",
              "      <td>3.998000e+03</td>\n",
              "      <td>6.300000e+01</td>\n",
              "      <td>6.300000e+01</td>\n",
              "      <td>6.700000e+01</td>\n",
              "      <td>2.982000e+01</td>\n",
              "      <td>1.000000e+01</td>\n",
              "      <td>7.000000e+00</td>\n",
              "      <td>0.000000e+00</td>\n",
              "    </tr>\n",
              "    <tr>\n",
              "      <th>75%</th>\n",
              "      <td>2.000000e+00</td>\n",
              "      <td>4.020040e+01</td>\n",
              "      <td>-8.034694e+01</td>\n",
              "      <td>4.020168e+01</td>\n",
              "      <td>-8.034852e+01</td>\n",
              "      <td>7.710000e-01</td>\n",
              "      <td>9.500000e+03</td>\n",
              "      <td>7.600000e+01</td>\n",
              "      <td>7.500000e+01</td>\n",
              "      <td>8.400000e+01</td>\n",
              "      <td>3.001000e+01</td>\n",
              "      <td>1.000000e+01</td>\n",
              "      <td>1.000000e+01</td>\n",
              "      <td>0.000000e+00</td>\n",
              "    </tr>\n",
              "    <tr>\n",
              "      <th>max</th>\n",
              "      <td>4.000000e+00</td>\n",
              "      <td>4.900058e+01</td>\n",
              "      <td>-6.711317e+01</td>\n",
              "      <td>4.907500e+01</td>\n",
              "      <td>-6.710924e+01</td>\n",
              "      <td>1.551860e+02</td>\n",
              "      <td>9.999997e+06</td>\n",
              "      <td>1.960000e+02</td>\n",
              "      <td>1.960000e+02</td>\n",
              "      <td>1.000000e+02</td>\n",
              "      <td>5.890000e+01</td>\n",
              "      <td>1.400000e+02</td>\n",
              "      <td>1.087000e+03</td>\n",
              "      <td>2.400000e+01</td>\n",
              "    </tr>\n",
              "  </tbody>\n",
              "</table>\n",
              "</div>\n",
              "      <button class=\"colab-df-convert\" onclick=\"convertToInteractive('df-667ac375-d7da-4ad6-9e84-52b2f53d1205')\"\n",
              "              title=\"Convert this dataframe to an interactive table.\"\n",
              "              style=\"display:none;\">\n",
              "        \n",
              "  <svg xmlns=\"http://www.w3.org/2000/svg\" height=\"24px\"viewBox=\"0 0 24 24\"\n",
              "       width=\"24px\">\n",
              "    <path d=\"M0 0h24v24H0V0z\" fill=\"none\"/>\n",
              "    <path d=\"M18.56 5.44l.94 2.06.94-2.06 2.06-.94-2.06-.94-.94-2.06-.94 2.06-2.06.94zm-11 1L8.5 8.5l.94-2.06 2.06-.94-2.06-.94L8.5 2.5l-.94 2.06-2.06.94zm10 10l.94 2.06.94-2.06 2.06-.94-2.06-.94-.94-2.06-.94 2.06-2.06.94z\"/><path d=\"M17.41 7.96l-1.37-1.37c-.4-.4-.92-.59-1.43-.59-.52 0-1.04.2-1.43.59L10.3 9.45l-7.72 7.72c-.78.78-.78 2.05 0 2.83L4 21.41c.39.39.9.59 1.41.59.51 0 1.02-.2 1.41-.59l7.78-7.78 2.81-2.81c.8-.78.8-2.07 0-2.86zM5.41 20L4 18.59l7.72-7.72 1.47 1.35L5.41 20z\"/>\n",
              "  </svg>\n",
              "      </button>\n",
              "      \n",
              "  <style>\n",
              "    .colab-df-container {\n",
              "      display:flex;\n",
              "      flex-wrap:wrap;\n",
              "      gap: 12px;\n",
              "    }\n",
              "\n",
              "    .colab-df-convert {\n",
              "      background-color: #E8F0FE;\n",
              "      border: none;\n",
              "      border-radius: 50%;\n",
              "      cursor: pointer;\n",
              "      display: none;\n",
              "      fill: #1967D2;\n",
              "      height: 32px;\n",
              "      padding: 0 0 0 0;\n",
              "      width: 32px;\n",
              "    }\n",
              "\n",
              "    .colab-df-convert:hover {\n",
              "      background-color: #E2EBFA;\n",
              "      box-shadow: 0px 1px 2px rgba(60, 64, 67, 0.3), 0px 1px 3px 1px rgba(60, 64, 67, 0.15);\n",
              "      fill: #174EA6;\n",
              "    }\n",
              "\n",
              "    [theme=dark] .colab-df-convert {\n",
              "      background-color: #3B4455;\n",
              "      fill: #D2E3FC;\n",
              "    }\n",
              "\n",
              "    [theme=dark] .colab-df-convert:hover {\n",
              "      background-color: #434B5C;\n",
              "      box-shadow: 0px 1px 3px 1px rgba(0, 0, 0, 0.15);\n",
              "      filter: drop-shadow(0px 1px 2px rgba(0, 0, 0, 0.3));\n",
              "      fill: #FFFFFF;\n",
              "    }\n",
              "  </style>\n",
              "\n",
              "      <script>\n",
              "        const buttonEl =\n",
              "          document.querySelector('#df-667ac375-d7da-4ad6-9e84-52b2f53d1205 button.colab-df-convert');\n",
              "        buttonEl.style.display =\n",
              "          google.colab.kernel.accessAllowed ? 'block' : 'none';\n",
              "\n",
              "        async function convertToInteractive(key) {\n",
              "          const element = document.querySelector('#df-667ac375-d7da-4ad6-9e84-52b2f53d1205');\n",
              "          const dataTable =\n",
              "            await google.colab.kernel.invokeFunction('convertToInteractive',\n",
              "                                                     [key], {});\n",
              "          if (!dataTable) return;\n",
              "\n",
              "          const docLinkHtml = 'Like what you see? Visit the ' +\n",
              "            '<a target=\"_blank\" href=https://colab.research.google.com/notebooks/data_table.ipynb>data table notebook</a>'\n",
              "            + ' to learn more about interactive tables.';\n",
              "          element.innerHTML = '';\n",
              "          dataTable['output_type'] = 'display_data';\n",
              "          await google.colab.output.renderOutput(dataTable, element);\n",
              "          const docLink = document.createElement('div');\n",
              "          docLink.innerHTML = docLinkHtml;\n",
              "          element.appendChild(docLink);\n",
              "        }\n",
              "      </script>\n",
              "    </div>\n",
              "  </div>\n",
              "  "
            ],
            "text/plain": [
              "           Severity     Start_Lat     Start_Lng       End_Lat       End_Lng  \\\n",
              "count  3.015853e+06  3.015853e+06  3.015853e+06  3.015853e+06  3.015853e+06   \n",
              "mean   2.140779e+00  3.628466e+01 -9.683807e+01  3.628478e+01 -9.683782e+01   \n",
              "std    4.861732e-01  5.355838e+00  1.829096e+01  5.355914e+00  1.829076e+01   \n",
              "min    1.000000e+00  2.456603e+01 -1.245481e+02  2.456601e+01 -1.245457e+02   \n",
              "25%    2.000000e+00  3.346218e+01 -1.179876e+02  3.346220e+01 -1.179882e+02   \n",
              "50%    2.000000e+00  3.614557e+01 -9.116184e+01  3.614717e+01 -9.116125e+01   \n",
              "75%    2.000000e+00  4.020040e+01 -8.034694e+01  4.020168e+01 -8.034852e+01   \n",
              "max    4.000000e+00  4.900058e+01 -6.711317e+01  4.907500e+01 -6.710924e+01   \n",
              "\n",
              "       Distance(mi)        Number  Temperature(F)  Wind_Chill(F)  \\\n",
              "count  3.015853e+06  1.174732e+06    2.941347e+06   2.524905e+06   \n",
              "mean   7.082974e-01  8.042575e+03    6.155521e+01   5.936960e+01   \n",
              "std    1.584728e+00  1.817221e+04    1.867439e+01   2.121067e+01   \n",
              "min    0.000000e+00  0.000000e+00   -8.900000e+01  -8.900000e+01   \n",
              "25%    5.100000e-02  1.242000e+03    4.900000e+01   4.600000e+01   \n",
              "50%    2.430000e-01  3.998000e+03    6.300000e+01   6.300000e+01   \n",
              "75%    7.710000e-01  9.500000e+03    7.600000e+01   7.500000e+01   \n",
              "max    1.551860e+02  9.999997e+06    1.960000e+02   1.960000e+02   \n",
              "\n",
              "        Humidity(%)  Pressure(in)  Visibility(mi)  Wind_Speed(mph)  \\\n",
              "count  2.937191e+06  2.952023e+06    2.939850e+06     2.849124e+06   \n",
              "mean   6.451032e+01  2.946402e+01    9.090539e+00     7.375893e+00   \n",
              "std    2.288266e+01  1.055155e+00    2.722835e+00     5.527790e+00   \n",
              "min    1.000000e+00  0.000000e+00    0.000000e+00     0.000000e+00   \n",
              "25%    4.800000e+01  2.930000e+01    1.000000e+01     3.500000e+00   \n",
              "50%    6.700000e+01  2.982000e+01    1.000000e+01     7.000000e+00   \n",
              "75%    8.400000e+01  3.001000e+01    1.000000e+01     1.000000e+01   \n",
              "max    1.000000e+02  5.890000e+01    1.400000e+02     1.087000e+03   \n",
              "\n",
              "       Precipitation(in)  \n",
              "count       2.442304e+06  \n",
              "mean        6.928912e-03  \n",
              "std         9.176873e-02  \n",
              "min         0.000000e+00  \n",
              "25%         0.000000e+00  \n",
              "50%         0.000000e+00  \n",
              "75%         0.000000e+00  \n",
              "max         2.400000e+01  "
            ]
          },
          "metadata": {},
          "execution_count": 81
        }
      ]
    },
    {
      "cell_type": "code",
      "source": [
        "numerics = ['int16', 'int32', 'int64', 'float16', 'float32', 'float64']\n",
        "numerics_df = df.select_dtypes(include=numerics)\n",
        "len(numerics_df.columns)"
      ],
      "metadata": {
        "colab": {
          "base_uri": "https://localhost:8080/"
        },
        "id": "SQCSADW1XqtQ",
        "outputId": "a84495ae-30ff-4a27-9164-2470bf2ea83d"
      },
      "execution_count": 82,
      "outputs": [
        {
          "output_type": "execute_result",
          "data": {
            "text/plain": [
              "14"
            ]
          },
          "metadata": {},
          "execution_count": 82
        }
      ]
    },
    {
      "cell_type": "code",
      "source": [
        "missing_perc = df.isna().sum().sort_values(ascending=False)/len(df)\n",
        "missing_perc"
      ],
      "metadata": {
        "colab": {
          "base_uri": "https://localhost:8080/"
        },
        "id": "eiYSRrv-XlDO",
        "outputId": "e27cc0ca-715f-4781-8159-362d5f0d4151"
      },
      "execution_count": 83,
      "outputs": [
        {
          "output_type": "execute_result",
          "data": {
            "text/plain": [
              "Number                   6.104810e-01\n",
              "Precipitation(in)        1.901780e-01\n",
              "Wind_Chill(F)            1.627891e-01\n",
              "Wind_Speed(mph)          5.528419e-02\n",
              "Wind_Direction           2.643696e-02\n",
              "Humidity(%)              2.608284e-02\n",
              "Weather_Condition        2.525189e-02\n",
              "Visibility(mi)           2.520116e-02\n",
              "Temperature(F)           2.470479e-02\n",
              "Pressure(in)             2.116482e-02\n",
              "Weather_Timestamp        1.821607e-02\n",
              "Airport_Code             3.405670e-03\n",
              "Timezone                 1.280898e-03\n",
              "Nautical_Twilight        1.137323e-03\n",
              "Civil_Twilight           1.137323e-03\n",
              "Sunrise_Sunset           1.137323e-03\n",
              "Astronomical_Twilight    1.137323e-03\n",
              "Zipcode                  4.778084e-04\n",
              "City                     4.708452e-05\n",
              "Street                   6.631623e-07\n",
              "Country                  0.000000e+00\n",
              "Junction                 0.000000e+00\n",
              "Start_Time               0.000000e+00\n",
              "End_Time                 0.000000e+00\n",
              "Start_Lat                0.000000e+00\n",
              "Turning_Loop             0.000000e+00\n",
              "Traffic_Signal           0.000000e+00\n",
              "Traffic_Calming          0.000000e+00\n",
              "Stop                     0.000000e+00\n",
              "Station                  0.000000e+00\n",
              "Roundabout               0.000000e+00\n",
              "Railway                  0.000000e+00\n",
              "No_Exit                  0.000000e+00\n",
              "Crossing                 0.000000e+00\n",
              "Give_Way                 0.000000e+00\n",
              "Bump                     0.000000e+00\n",
              "Amenity                  0.000000e+00\n",
              "Start_Lng                0.000000e+00\n",
              "End_Lat                  0.000000e+00\n",
              "End_Lng                  0.000000e+00\n",
              "Distance(mi)             0.000000e+00\n",
              "Description              0.000000e+00\n",
              "Severity                 0.000000e+00\n",
              "Side                     0.000000e+00\n",
              "County                   0.000000e+00\n",
              "State                    0.000000e+00\n",
              "ID                       0.000000e+00\n",
              "dtype: float64"
            ]
          },
          "metadata": {},
          "execution_count": 83
        }
      ]
    },
    {
      "cell_type": "code",
      "source": [
        "missing_perc[missing_perc!=0].plot(kind = 'barh')"
      ],
      "metadata": {
        "colab": {
          "base_uri": "https://localhost:8080/",
          "height": 282
        },
        "id": "p7fOh28MXlA_",
        "outputId": "1e5aa0be-5f19-49fd-e1a1-830e7366dcf7"
      },
      "execution_count": 84,
      "outputs": [
        {
          "output_type": "execute_result",
          "data": {
            "text/plain": [
              "<matplotlib.axes._subplots.AxesSubplot at 0x7f08144dbd90>"
            ]
          },
          "metadata": {},
          "execution_count": 84
        },
        {
          "output_type": "display_data",
          "data": {
            "image/png": "[encoded data removed]",
            "text/plain": [
              "<Figure size 432x288 with 1 Axes>"
            ]
          },
          "metadata": {}
        }
      ]
    },
    {
      "cell_type": "markdown",
      "source": [
        "# Exploraitory Data Analysis & Visualization\n",
        "- City\n",
        "-Start Time\n",
        "-Start Lat,Start Lng\n",
        "-State\n",
        "-Temperature\n",
        "- Weather Condition\n",
        "-Sunrise Sunset\n",
        "-Distance\n"
      ],
      "metadata": {
        "id": "TGNzohRIWxiO"
      }
    },
    {
      "cell_type": "code",
      "source": [
        "df.columns"
      ],
      "metadata": {
        "id": "1wXtJd8oXAOq",
        "colab": {
          "base_uri": "https://localhost:8080/"
        },
        "outputId": "1e96ac57-73fd-4a74-b5af-3acee84fcd31"
      },
      "execution_count": 85,
      "outputs": [
        {
          "output_type": "execute_result",
          "data": {
            "text/plain": [
              "Index(['ID', 'Severity', 'Start_Time', 'End_Time', 'Start_Lat', 'Start_Lng',\n",
              "       'End_Lat', 'End_Lng', 'Distance(mi)', 'Description', 'Number', 'Street',\n",
              "       'Side', 'City', 'County', 'State', 'Zipcode', 'Country', 'Timezone',\n",
              "       'Airport_Code', 'Weather_Timestamp', 'Temperature(F)', 'Wind_Chill(F)',\n",
              "       'Humidity(%)', 'Pressure(in)', 'Visibility(mi)', 'Wind_Direction',\n",
              "       'Wind_Speed(mph)', 'Precipitation(in)', 'Weather_Condition', 'Amenity',\n",
              "       'Bump', 'Crossing', 'Give_Way', 'Junction', 'No_Exit', 'Railway',\n",
              "       'Roundabout', 'Station', 'Stop', 'Traffic_Calming', 'Traffic_Signal',\n",
              "       'Turning_Loop', 'Sunrise_Sunset', 'Civil_Twilight', 'Nautical_Twilight',\n",
              "       'Astronomical_Twilight'],\n",
              "      dtype='object')"
            ]
          },
          "metadata": {},
          "execution_count": 85
        }
      ]
    },
    {
      "cell_type": "markdown",
      "source": [
        "## City"
      ],
      "metadata": {
        "id": "e40yLO9ypDYD"
      }
    },
    {
      "cell_type": "code",
      "source": [
        "df.City"
      ],
      "metadata": {
        "colab": {
          "base_uri": "https://localhost:8080/"
        },
        "id": "bLrvXsanpa8w",
        "outputId": "a0e840e2-a896-4da4-e496-afb4f5f54013"
      },
      "execution_count": 86,
      "outputs": [
        {
          "output_type": "execute_result",
          "data": {
            "text/plain": [
              "0               Dublin\n",
              "1               Dayton\n",
              "2           Cincinnati\n",
              "3           Cincinnati\n",
              "4                Akron\n",
              "              ...     \n",
              "3015848      Riverside\n",
              "3015849      San Diego\n",
              "3015850         Orange\n",
              "3015851    Culver City\n",
              "3015852       Highland\n",
              "Name: City, Length: 3015853, dtype: object"
            ]
          },
          "metadata": {},
          "execution_count": 86
        }
      ]
    },
    {
      "cell_type": "code",
      "source": [
        "cities = df.City.unique()\n",
        "len(cities)"
      ],
      "metadata": {
        "colab": {
          "base_uri": "https://localhost:8080/"
        },
        "id": "XyRR-nGSpFgW",
        "outputId": "b6b3e6c1-1a2b-4cd7-e243-6d47fdacb24e"
      },
      "execution_count": 87,
      "outputs": [
        {
          "output_type": "execute_result",
          "data": {
            "text/plain": [
              "11706"
            ]
          },
          "metadata": {},
          "execution_count": 87
        }
      ]
    },
    {
      "cell_type": "code",
      "source": [
        "cities_by_accident = df.City.value_counts(ascending= False)\n",
        "cities_by_accident"
      ],
      "metadata": {
        "colab": {
          "base_uri": "https://localhost:8080/"
        },
        "id": "UHmwwKfOpFcb",
        "outputId": "2fa92b7a-5ccb-425e-a227-9482887d1376"
      },
      "execution_count": 88,
      "outputs": [
        {
          "output_type": "execute_result",
          "data": {
            "text/plain": [
              "Miami                           110984\n",
              "Los Angeles                      71045\n",
              "Orlando                          56750\n",
              "Dallas                           43445\n",
              "Houston                          40950\n",
              "                                 ...  \n",
              "Holcombe                             1\n",
              "Muskego                              1\n",
              "Woodway                              1\n",
              "Merigold                             1\n",
              "American Fork-Pleasant Grove         1\n",
              "Name: City, Length: 11705, dtype: int64"
            ]
          },
          "metadata": {},
          "execution_count": 88
        }
      ]
    },
    {
      "cell_type": "code",
      "source": [
        "cities_by_accident[:20]"
      ],
      "metadata": {
        "colab": {
          "base_uri": "https://localhost:8080/"
        },
        "id": "kUWm2xdTpFab",
        "outputId": "280f1e45-6869-4e49-d464-8b42ab8ac06c"
      },
      "execution_count": 89,
      "outputs": [
        {
          "output_type": "execute_result",
          "data": {
            "text/plain": [
              "Miami           110984\n",
              "Los Angeles      71045\n",
              "Orlando          56750\n",
              "Dallas           43445\n",
              "Houston          40950\n",
              "Charlotte        37307\n",
              "Sacramento       33516\n",
              "San Diego        27450\n",
              "Raleigh          24068\n",
              "Minneapolis      23876\n",
              "Portland         21779\n",
              "Nashville        21206\n",
              "Austin           19647\n",
              "Baton Rouge      19270\n",
              "Phoenix          17999\n",
              "Saint Paul       17821\n",
              "New Orleans      17380\n",
              "Atlanta          17212\n",
              "Jacksonville     15854\n",
              "Richmond         15614\n",
              "Name: City, dtype: int64"
            ]
          },
          "metadata": {},
          "execution_count": 89
        }
      ]
    },
    {
      "cell_type": "code",
      "source": [
        "cities_by_accident[:20].plot(kind='barh')"
      ],
      "metadata": {
        "id": "ZQIg9mVWXAL5",
        "colab": {
          "base_uri": "https://localhost:8080/",
          "height": 282
        },
        "outputId": "0f300d0d-b3fd-428d-c226-a0ce74a3619b"
      },
      "execution_count": 90,
      "outputs": [
        {
          "output_type": "execute_result",
          "data": {
            "text/plain": [
              "<matplotlib.axes._subplots.AxesSubplot at 0x7f0834a068d0>"
            ]
          },
          "metadata": {},
          "execution_count": 90
        },
        {
          "output_type": "display_data",
          "data": {
            "image/png": "[encoded data removed]",
            "text/plain": [
              "<Figure size 432x288 with 1 Axes>"
            ]
          },
          "metadata": {}
        }
      ]
    },
    {
      "cell_type": "code",
      "source": [
        "sns.histplot(cities_by_accident, log_scale=True)"
      ],
      "metadata": {
        "id": "NaWVtbv9XAIP",
        "colab": {
          "base_uri": "https://localhost:8080/",
          "height": 300
        },
        "outputId": "bb9ebba1-ec8c-47a3-9f25-8eefcd334b48"
      },
      "execution_count": 91,
      "outputs": [
        {
          "output_type": "execute_result",
          "data": {
            "text/plain": [
              "<matplotlib.axes._subplots.AxesSubplot at 0x7f080e5ebd50>"
            ]
          },
          "metadata": {},
          "execution_count": 91
        },
        {
          "output_type": "display_data",
          "data": {
            "image/png": "[encoded data removed]",
            "text/plain": [
              "<Figure size 432x288 with 1 Axes>"
            ]
          },
          "metadata": {}
        }
      ]
    },
    {
      "cell_type": "code",
      "source": [
        "cities_by_accident[cities_by_accident == 1]"
      ],
      "metadata": {
        "colab": {
          "base_uri": "https://localhost:8080/"
        },
        "id": "C01vCbibzYWd",
        "outputId": "3e9b9dd9-40c1-4bb8-d560-8f33b34e53fa"
      },
      "execution_count": 92,
      "outputs": [
        {
          "output_type": "execute_result",
          "data": {
            "text/plain": [
              "Tracys Landing                  1\n",
              "Eidson                          1\n",
              "West Valley                     1\n",
              "Rapid River                     1\n",
              "Winter Garden-Ocoee             1\n",
              "                               ..\n",
              "Holcombe                        1\n",
              "Muskego                         1\n",
              "Woodway                         1\n",
              "Merigold                        1\n",
              "American Fork-Pleasant Grove    1\n",
              "Name: City, Length: 972, dtype: int64"
            ]
          },
          "metadata": {},
          "execution_count": 92
        }
      ]
    },
    {
      "cell_type": "markdown",
      "source": [
        "Around 972 cities has reported only 1 accident"
      ],
      "metadata": {
        "id": "qlT5zQJ20nKg"
      }
    },
    {
      "cell_type": "code",
      "source": [
        ""
      ],
      "metadata": {
        "id": "o7xT2j6G0lCD"
      },
      "execution_count": 92,
      "outputs": []
    },
    {
      "cell_type": "markdown",
      "source": [
        "## Start Time"
      ],
      "metadata": {
        "id": "MQMghOqp07h7"
      }
    },
    {
      "cell_type": "code",
      "source": [
        "df.Start_Time = pd.to_datetime(df.Start_Time)\n",
        "df.End_Time = pd.to_datetime(df.End_Time)"
      ],
      "metadata": {
        "id": "szFYkEG31mgU"
      },
      "execution_count": 93,
      "outputs": []
    },
    {
      "cell_type": "code",
      "source": [
        "sns.set_style(\"darkgrid\")\n",
        "sns.distplot(df.Start_Time.dt.hour, bins=24, kde=False, norm_hist=True)"
      ],
      "metadata": {
        "colab": {
          "base_uri": "https://localhost:8080/",
          "height": 352
        },
        "id": "eshud5XB1mdD",
        "outputId": "9609ede4-edd5-4fd6-99e4-a975f33f432b"
      },
      "execution_count": 94,
      "outputs": [
        {
          "output_type": "stream",
          "name": "stderr",
          "text": [
            "/usr/local/lib/python3.7/dist-packages/seaborn/distributions.py:2619: FutureWarning: `distplot` is a deprecated function and will be removed in a future version. Please adapt your code to use either `displot` (a figure-level function with similar flexibility) or `histplot` (an axes-level function for histograms).\n",
            "  warnings.warn(msg, FutureWarning)\n"
          ]
        },
        {
          "output_type": "execute_result",
          "data": {
            "text/plain": [
              "<matplotlib.axes._subplots.AxesSubplot at 0x7f083c150990>"
            ]
          },
          "metadata": {},
          "execution_count": 94
        },
        {
          "output_type": "display_data",
          "data": {
            "image/png": "[encoded data removed]",
            "text/plain": [
              "<Figure size 432x288 with 1 Axes>"
            ]
          },
          "metadata": {}
        }
      ]
    },
    {
      "cell_type": "markdown",
      "source": [
        "We observed that accident higher between 6 to 9 and 14 to 16"
      ],
      "metadata": {
        "id": "gNQ3BVGQBoVV"
      }
    },
    {
      "cell_type": "code",
      "source": [
        "sns.distplot(df.Start_Time.dt.day_of_week, bins = 7, kde = False, norm_hist = True)"
      ],
      "metadata": {
        "colab": {
          "base_uri": "https://localhost:8080/",
          "height": 352
        },
        "id": "QN38aimf_XL8",
        "outputId": "2043dc13-824d-442d-f4f5-6b098354d0e0"
      },
      "execution_count": 95,
      "outputs": [
        {
          "output_type": "stream",
          "name": "stderr",
          "text": [
            "/usr/local/lib/python3.7/dist-packages/seaborn/distributions.py:2619: FutureWarning: `distplot` is a deprecated function and will be removed in a future version. Please adapt your code to use either `displot` (a figure-level function with similar flexibility) or `histplot` (an axes-level function for histograms).\n",
            "  warnings.warn(msg, FutureWarning)\n"
          ]
        },
        {
          "output_type": "execute_result",
          "data": {
            "text/plain": [
              "<matplotlib.axes._subplots.AxesSubplot at 0x7f07f1a07590>"
            ]
          },
          "metadata": {},
          "execution_count": 95
        },
        {
          "output_type": "display_data",
          "data": {
            "image/png": "[encoded data removed]",
            "text/plain": [
              "<Figure size 432x288 with 1 Axes>"
            ]
          },
          "metadata": {}
        }
      ]
    },
    {
      "cell_type": "markdown",
      "source": [
        "For weekends accident are lower than weekdays"
      ],
      "metadata": {
        "id": "9GhKeQx7CDFW"
      }
    },
    {
      "cell_type": "code",
      "source": [
        "sunday_start_time = df.Start_Time[df.Start_Time.dt.day_of_week == 6]\n",
        "sns.distplot(sunday_start_time.dt.hour, bins = 24, kde = False, norm_hist = True)"
      ],
      "metadata": {
        "colab": {
          "base_uri": "https://localhost:8080/",
          "height": 352
        },
        "id": "IcwOg81c_XJi",
        "outputId": "fff8959c-2e03-4dbe-c743-53c19190ebc0"
      },
      "execution_count": 96,
      "outputs": [
        {
          "output_type": "stream",
          "name": "stderr",
          "text": [
            "/usr/local/lib/python3.7/dist-packages/seaborn/distributions.py:2619: FutureWarning: `distplot` is a deprecated function and will be removed in a future version. Please adapt your code to use either `displot` (a figure-level function with similar flexibility) or `histplot` (an axes-level function for histograms).\n",
            "  warnings.warn(msg, FutureWarning)\n"
          ]
        },
        {
          "output_type": "execute_result",
          "data": {
            "text/plain": [
              "<matplotlib.axes._subplots.AxesSubplot at 0x7f07f198a450>"
            ]
          },
          "metadata": {},
          "execution_count": 96
        },
        {
          "output_type": "display_data",
          "data": {
            "image/png": "[encoded data removed]",
            "text/plain": [
              "<Figure size 432x288 with 1 Axes>"
            ]
          },
          "metadata": {}
        }
      ]
    },
    {
      "cell_type": "markdown",
      "source": [
        "for sunday high accident interval changes to  0 to 2 and 11 to 18 "
      ],
      "metadata": {
        "id": "RBBFXuaJCJ3D"
      }
    },
    {
      "cell_type": "code",
      "source": [
        "monday_start_time = df.Start_Time[df.Start_Time.dt.day_of_week == 0]\n",
        "sns.distplot(monday_start_time.dt.hour, bins = 24, kde = False, norm_hist = True)"
      ],
      "metadata": {
        "colab": {
          "base_uri": "https://localhost:8080/",
          "height": 352
        },
        "id": "OVJpI-0k_XGz",
        "outputId": "07436d08-aacf-48e0-9b72-40ec20176b92"
      },
      "execution_count": 97,
      "outputs": [
        {
          "output_type": "stream",
          "name": "stderr",
          "text": [
            "/usr/local/lib/python3.7/dist-packages/seaborn/distributions.py:2619: FutureWarning: `distplot` is a deprecated function and will be removed in a future version. Please adapt your code to use either `displot` (a figure-level function with similar flexibility) or `histplot` (an axes-level function for histograms).\n",
            "  warnings.warn(msg, FutureWarning)\n"
          ]
        },
        {
          "output_type": "execute_result",
          "data": {
            "text/plain": [
              "<matplotlib.axes._subplots.AxesSubplot at 0x7f07f18a9750>"
            ]
          },
          "metadata": {},
          "execution_count": 97
        },
        {
          "output_type": "display_data",
          "data": {
            "image/png": "[encoded data removed]",
            "text/plain": [
              "<Figure size 432x288 with 1 Axes>"
            ]
          },
          "metadata": {}
        }
      ]
    },
    {
      "cell_type": "markdown",
      "source": [
        "# Ask a Question"
      ],
      "metadata": {
        "id": "PsF5XslWXBGZ"
      }
    },
    {
      "cell_type": "code",
      "source": [
        ""
      ],
      "metadata": {
        "id": "UrG-uHxtXAGK"
      },
      "execution_count": 97,
      "outputs": []
    },
    {
      "cell_type": "code",
      "source": [
        ""
      ],
      "metadata": {
        "id": "Jg5oweBmXFsz"
      },
      "execution_count": 97,
      "outputs": []
    },
    {
      "cell_type": "code",
      "source": [
        ""
      ],
      "metadata": {
        "id": "kvSzDI7hXFp3"
      },
      "execution_count": 97,
      "outputs": []
    },
    {
      "cell_type": "code",
      "source": [
        ""
      ],
      "metadata": {
        "id": "kE6xBUpJXFmG"
      },
      "execution_count": 97,
      "outputs": []
    },
    {
      "cell_type": "markdown",
      "source": [
        "# Conclusion"
      ],
      "metadata": {
        "id": "uSyIBvI3XG44"
      }
    },
    {
      "cell_type": "code",
      "source": [
        ""
      ],
      "metadata": {
        "id": "0nHWIVUhXFj-"
      },
      "execution_count": 97,
      "outputs": []
    }
  ]
}